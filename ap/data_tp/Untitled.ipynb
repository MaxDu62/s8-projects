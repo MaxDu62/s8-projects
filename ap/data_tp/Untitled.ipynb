{
 "cells": [
  {
   "cell_type": "markdown",
   "metadata": {},
   "source": [
    "# Data TP"
   ]
  },
  {
   "cell_type": "markdown",
   "metadata": {},
   "source": [
    "## Import librairies and databases"
   ]
  },
  {
   "cell_type": "code",
   "execution_count": 1,
   "metadata": {},
   "outputs": [],
   "source": [
    "import pandas\n",
    "import numpy"
   ]
  },
  {
   "cell_type": "code",
   "execution_count": 2,
   "metadata": {},
   "outputs": [],
   "source": [
    "dataset = pandas.read_csv('.\\\\google\\\\data\\\\train.txt', delimiter=\" \", names=[\"heads\",\"tails\",\"relation\"])"
   ]
  },
  {
   "cell_type": "code",
   "execution_count": 3,
   "metadata": {},
   "outputs": [
    {
     "data": {
      "text/html": [
       "<div>\n",
       "<style scoped>\n",
       "    .dataframe tbody tr th:only-of-type {\n",
       "        vertical-align: middle;\n",
       "    }\n",
       "\n",
       "    .dataframe tbody tr th {\n",
       "        vertical-align: top;\n",
       "    }\n",
       "\n",
       "    .dataframe thead th {\n",
       "        text-align: right;\n",
       "    }\n",
       "</style>\n",
       "<table border=\"1\" class=\"dataframe\">\n",
       "  <thead>\n",
       "    <tr style=\"text-align: right;\">\n",
       "      <th></th>\n",
       "      <th>heads</th>\n",
       "      <th>tails</th>\n",
       "      <th>relation</th>\n",
       "    </tr>\n",
       "  </thead>\n",
       "  <tbody>\n",
       "    <tr>\n",
       "      <th>count</th>\n",
       "      <td>573</td>\n",
       "      <td>573</td>\n",
       "      <td>573</td>\n",
       "    </tr>\n",
       "    <tr>\n",
       "      <th>unique</th>\n",
       "      <td>474</td>\n",
       "      <td>506</td>\n",
       "      <td>14</td>\n",
       "    </tr>\n",
       "    <tr>\n",
       "      <th>top</th>\n",
       "      <td>slow</td>\n",
       "      <td>california</td>\n",
       "      <td>capital-world</td>\n",
       "    </tr>\n",
       "    <tr>\n",
       "      <th>freq</th>\n",
       "      <td>5</td>\n",
       "      <td>12</td>\n",
       "      <td>116</td>\n",
       "    </tr>\n",
       "  </tbody>\n",
       "</table>\n",
       "</div>"
      ],
      "text/plain": [
       "       heads       tails       relation\n",
       "count    573         573            573\n",
       "unique   474         506             14\n",
       "top     slow  california  capital-world\n",
       "freq       5          12            116"
      ]
     },
     "execution_count": 3,
     "metadata": {},
     "output_type": "execute_result"
    }
   ],
   "source": [
    "dataset.describe()"
   ]
  },
  {
   "cell_type": "code",
   "execution_count": 4,
   "metadata": {},
   "outputs": [
    {
     "data": {
      "text/plain": [
       "(573, 3)"
      ]
     },
     "execution_count": 4,
     "metadata": {},
     "output_type": "execute_result"
    }
   ],
   "source": [
    "dataset.shape"
   ]
  },
  {
   "cell_type": "code",
   "execution_count": 5,
   "metadata": {},
   "outputs": [
    {
     "data": {
      "text/html": [
       "<div>\n",
       "<style scoped>\n",
       "    .dataframe tbody tr th:only-of-type {\n",
       "        vertical-align: middle;\n",
       "    }\n",
       "\n",
       "    .dataframe tbody tr th {\n",
       "        vertical-align: top;\n",
       "    }\n",
       "\n",
       "    .dataframe thead th {\n",
       "        text-align: right;\n",
       "    }\n",
       "</style>\n",
       "<table border=\"1\" class=\"dataframe\">\n",
       "  <thead>\n",
       "    <tr style=\"text-align: right;\">\n",
       "      <th></th>\n",
       "      <th>heads</th>\n",
       "      <th>tails</th>\n",
       "      <th>relation</th>\n",
       "    </tr>\n",
       "  </thead>\n",
       "  <tbody>\n",
       "    <tr>\n",
       "      <th>0</th>\n",
       "      <td>madrid</td>\n",
       "      <td>spain</td>\n",
       "      <td>capital-common-countries</td>\n",
       "    </tr>\n",
       "    <tr>\n",
       "      <th>1</th>\n",
       "      <td>ottawa</td>\n",
       "      <td>canada</td>\n",
       "      <td>capital-common-countries</td>\n",
       "    </tr>\n",
       "    <tr>\n",
       "      <th>2</th>\n",
       "      <td>cairo</td>\n",
       "      <td>egypt</td>\n",
       "      <td>capital-common-countries</td>\n",
       "    </tr>\n",
       "    <tr>\n",
       "      <th>3</th>\n",
       "      <td>paris</td>\n",
       "      <td>france</td>\n",
       "      <td>capital-common-countries</td>\n",
       "    </tr>\n",
       "    <tr>\n",
       "      <th>4</th>\n",
       "      <td>bern</td>\n",
       "      <td>switzerland</td>\n",
       "      <td>capital-common-countries</td>\n",
       "    </tr>\n",
       "  </tbody>\n",
       "</table>\n",
       "</div>"
      ],
      "text/plain": [
       "    heads        tails                  relation\n",
       "0  madrid        spain  capital-common-countries\n",
       "1  ottawa       canada  capital-common-countries\n",
       "2   cairo        egypt  capital-common-countries\n",
       "3   paris       france  capital-common-countries\n",
       "4    bern  switzerland  capital-common-countries"
      ]
     },
     "execution_count": 5,
     "metadata": {},
     "output_type": "execute_result"
    }
   ],
   "source": [
    "dataset.head()"
   ]
  },
  {
   "cell_type": "markdown",
   "metadata": {},
   "source": [
    "## Load Vectors"
   ]
  },
  {
   "cell_type": "code",
   "execution_count": 6,
   "metadata": {},
   "outputs": [],
   "source": [
    "def load_vectors(file_path):\n",
    "    resultDict = dict()\n",
    "    with open(file_path) as f:\n",
    "        raw_text = f.read()\n",
    "        for raw_line in raw_text.split(\"\\n\")[:-1]:\n",
    "            ind = raw_line.index(\" \")\n",
    "            resultDict[raw_line[:ind]] = numpy.array(raw_line[ind+1:].split(\" \"), dtype=numpy.float)\n",
    "        \n",
    "    return resultDict\n",
    "\n",
    "def formatPattern(algo, columns_value, file_name):\n",
    "    return '.\\\\google\\\\{}\\\\subspaces\\\\{}\\\\{}.txt'.format(algo, columns_value, file_name)"
   ]
  },
  {
   "cell_type": "code",
   "execution_count": 7,
   "metadata": {},
   "outputs": [],
   "source": [
    "vectors = {\"heads\": dict(), \"tails\": dict()}\n",
    "\n",
    "for file_name in vectors.keys():\n",
    "    for columns_value in set(dataset['relation'].values):\n",
    "        file_dir = formatPattern('gloveCC', columns_value, file_name)\n",
    "        vectors[file_name][columns_value] = load_vectors(file_dir)\n"
   ]
  },
  {
   "cell_type": "markdown",
   "metadata": {},
   "source": [
    "## Replace values in dataframe"
   ]
  },
  {
   "cell_type": "code",
   "execution_count": 8,
   "metadata": {},
   "outputs": [],
   "source": [
    "def replace_values(dataframe, vectorsDict):\n",
    "    resultdf = dataframe.to_dict()\n",
    "    to_remove = list()\n",
    "    for indice in range(len(resultdf['relation'])):\n",
    "        head = resultdf['heads'][indice]\n",
    "        tail = resultdf['tails'][indice]\n",
    "        relation = resultdf['relation'][indice]\n",
    "        \n",
    "        try:\n",
    "            resultdf['heads'][indice] = vectorsDict['heads'][relation][head]\n",
    "        except:\n",
    "            print(\"no vector for (relation:%s, head:%s) \" % (relation, head))\n",
    "            to_remove.append(indice)\n",
    "        \n",
    "        try:\n",
    "            resultdf['tails'][indice] = vectorsDict['tails'][relation][tail]\n",
    "        except:\n",
    "            print(\"no vector for (relation:%s, tail:%s) \" % (relation, tail))\n",
    "            to_remove.append(indice)\n",
    "    \n",
    "    for indice in to_remove:\n",
    "        del(resultdf['heads'][indice])\n",
    "        del(resultdf['tails'][indice])\n",
    "        del(resultdf['relation'][indice])\n",
    "        \n",
    "    return resultdf\n"
   ]
  },
  {
   "cell_type": "code",
   "execution_count": 9,
   "metadata": {},
   "outputs": [
    {
     "name": "stdout",
     "output_type": "stream",
     "text": [
      "no vector for (relation:capital-world, head:funafuti) \n",
      "no vector for (relation:capital-world, head:ashgabat) \n",
      "no vector for (relation:capital-world, head:belmopan) \n",
      "no vector for (relation:capital-world, head:thimphu) \n",
      "no vector for (relation:capital-world, head:niamey) \n",
      "no vector for (relation:capital-world, head:nouakchott) \n",
      "no vector for (relation:capital-world, head:nuuk) \n",
      "no vector for (relation:capital-world, head:podgorica) \n",
      "no vector for (relation:capital-world, head:vaduz) \n"
     ]
    }
   ],
   "source": [
    "dataset2 = replace_values(dataset, vectors)"
   ]
  },
  {
   "cell_type": "code",
   "execution_count": 10,
   "metadata": {},
   "outputs": [
    {
     "data": {
      "text/plain": [
       "['tails', 'heads', 'relation']"
      ]
     },
     "execution_count": 10,
     "metadata": {},
     "output_type": "execute_result"
    }
   ],
   "source": [
    "dataset2.keys()"
   ]
  },
  {
   "cell_type": "code",
   "execution_count": 11,
   "metadata": {},
   "outputs": [],
   "source": [
    "dataset2pd = pandas.DataFrame({\n",
    "    'tails': dataset2['tails'].values(),\n",
    "    'heads': dataset2['heads'].values(),\n",
    "    'relation': dataset2['relation'].values()\n",
    "})"
   ]
  },
  {
   "cell_type": "code",
   "execution_count": 12,
   "metadata": {},
   "outputs": [
    {
     "data": {
      "text/plain": [
       "(564, 3)"
      ]
     },
     "execution_count": 12,
     "metadata": {},
     "output_type": "execute_result"
    }
   ],
   "source": [
    "dataset2pd.shape"
   ]
  },
  {
   "cell_type": "code",
   "execution_count": 13,
   "metadata": {},
   "outputs": [
    {
     "data": {
      "text/html": [
       "<div>\n",
       "<style scoped>\n",
       "    .dataframe tbody tr th:only-of-type {\n",
       "        vertical-align: middle;\n",
       "    }\n",
       "\n",
       "    .dataframe tbody tr th {\n",
       "        vertical-align: top;\n",
       "    }\n",
       "\n",
       "    .dataframe thead th {\n",
       "        text-align: right;\n",
       "    }\n",
       "</style>\n",
       "<table border=\"1\" class=\"dataframe\">\n",
       "  <thead>\n",
       "    <tr style=\"text-align: right;\">\n",
       "      <th></th>\n",
       "      <th>heads</th>\n",
       "      <th>relation</th>\n",
       "      <th>tails</th>\n",
       "    </tr>\n",
       "  </thead>\n",
       "  <tbody>\n",
       "    <tr>\n",
       "      <th>0</th>\n",
       "      <td>[0.26001, -0.53344, 0.22119, -0.16826, 0.58323...</td>\n",
       "      <td>capital-common-countries</td>\n",
       "      <td>[-0.11981, 0.011386, 0.14965, -0.22285, 0.7112...</td>\n",
       "    </tr>\n",
       "    <tr>\n",
       "      <th>1</th>\n",
       "      <td>[0.14219, 0.01274, -0.5254, -0.60931, 1.263, 0...</td>\n",
       "      <td>capital-common-countries</td>\n",
       "      <td>[-0.47825, 0.15908, -0.27509, -0.6478, 0.76022...</td>\n",
       "    </tr>\n",
       "    <tr>\n",
       "      <th>2</th>\n",
       "      <td>[0.56629, -0.20355, -0.093943, -0.45198, 0.301...</td>\n",
       "      <td>capital-common-countries</td>\n",
       "      <td>[-0.051869, -0.26547, 0.034687, -0.45404, 0.26...</td>\n",
       "    </tr>\n",
       "    <tr>\n",
       "      <th>3</th>\n",
       "      <td>[0.35213, -0.074228, -0.23725, -0.32726, 0.539...</td>\n",
       "      <td>capital-common-countries</td>\n",
       "      <td>[-0.16306, 0.45292, -0.14638, -0.64332, 0.7901...</td>\n",
       "    </tr>\n",
       "    <tr>\n",
       "      <th>4</th>\n",
       "      <td>[0.57031, 0.077812, 0.062999, -0.23876, 0.1227...</td>\n",
       "      <td>capital-common-countries</td>\n",
       "      <td>[0.11316, 0.16675, -0.28034, -0.18965, 0.61872...</td>\n",
       "    </tr>\n",
       "  </tbody>\n",
       "</table>\n",
       "</div>"
      ],
      "text/plain": [
       "                                               heads  \\\n",
       "0  [0.26001, -0.53344, 0.22119, -0.16826, 0.58323...   \n",
       "1  [0.14219, 0.01274, -0.5254, -0.60931, 1.263, 0...   \n",
       "2  [0.56629, -0.20355, -0.093943, -0.45198, 0.301...   \n",
       "3  [0.35213, -0.074228, -0.23725, -0.32726, 0.539...   \n",
       "4  [0.57031, 0.077812, 0.062999, -0.23876, 0.1227...   \n",
       "\n",
       "                   relation                                              tails  \n",
       "0  capital-common-countries  [-0.11981, 0.011386, 0.14965, -0.22285, 0.7112...  \n",
       "1  capital-common-countries  [-0.47825, 0.15908, -0.27509, -0.6478, 0.76022...  \n",
       "2  capital-common-countries  [-0.051869, -0.26547, 0.034687, -0.45404, 0.26...  \n",
       "3  capital-common-countries  [-0.16306, 0.45292, -0.14638, -0.64332, 0.7901...  \n",
       "4  capital-common-countries  [0.11316, 0.16675, -0.28034, -0.18965, 0.61872...  "
      ]
     },
     "execution_count": 13,
     "metadata": {},
     "output_type": "execute_result"
    }
   ],
   "source": [
    "dataset2pd.head()"
   ]
  },
  {
   "cell_type": "markdown",
   "metadata": {},
   "source": [
    "## Compute Sum of substraction of heads_i and tails_i"
   ]
  },
  {
   "cell_type": "code",
   "execution_count": 14,
   "metadata": {},
   "outputs": [],
   "source": [
    "def minus_of_two_vector(v1, v2):\n",
    "    try:   \n",
    "        return v1 - v2\n",
    "    except:\n",
    "        if type(v1) is not numpy.ndarray:\n",
    "            print(\"substraction is not applicable with {}, type:{}\".format(v1,type(v1)))\n",
    "        if type(v2) is not numpy.ndarray:\n",
    "            print(\"substraction is not applicable with {}, type:{}\".format(v2,type(v2)))\n",
    "        return 0.0\n",
    "\n",
    "def sum_of_vectors(vs1, vs2):\n",
    "    return numpy.sum([minus_of_two_vector(*l) for l in zip(vs1,vs2)])"
   ]
  },
  {
   "cell_type": "code",
   "execution_count": 15,
   "metadata": {},
   "outputs": [],
   "source": [
    "rvector = sum_of_vectors(dataset2pd[\"heads\"],dataset2pd[\"tails\"])"
   ]
  },
  {
   "cell_type": "markdown",
   "metadata": {},
   "source": [
    "## Split Dataset into Xset and Yset"
   ]
  },
  {
   "cell_type": "code",
   "execution_count": 16,
   "metadata": {},
   "outputs": [],
   "source": [
    "xset = dataset2pd.iloc[:,[0,2]]\n",
    "yset = dataset2pd.iloc[:,[1]]"
   ]
  },
  {
   "cell_type": "code",
   "execution_count": 17,
   "metadata": {},
   "outputs": [
    {
     "data": {
      "text/html": [
       "<div>\n",
       "<style scoped>\n",
       "    .dataframe tbody tr th:only-of-type {\n",
       "        vertical-align: middle;\n",
       "    }\n",
       "\n",
       "    .dataframe tbody tr th {\n",
       "        vertical-align: top;\n",
       "    }\n",
       "\n",
       "    .dataframe thead th {\n",
       "        text-align: right;\n",
       "    }\n",
       "</style>\n",
       "<table border=\"1\" class=\"dataframe\">\n",
       "  <thead>\n",
       "    <tr style=\"text-align: right;\">\n",
       "      <th></th>\n",
       "      <th>heads</th>\n",
       "      <th>tails</th>\n",
       "    </tr>\n",
       "  </thead>\n",
       "  <tbody>\n",
       "    <tr>\n",
       "      <th>0</th>\n",
       "      <td>[0.26001, -0.53344, 0.22119, -0.16826, 0.58323...</td>\n",
       "      <td>[-0.11981, 0.011386, 0.14965, -0.22285, 0.7112...</td>\n",
       "    </tr>\n",
       "    <tr>\n",
       "      <th>1</th>\n",
       "      <td>[0.14219, 0.01274, -0.5254, -0.60931, 1.263, 0...</td>\n",
       "      <td>[-0.47825, 0.15908, -0.27509, -0.6478, 0.76022...</td>\n",
       "    </tr>\n",
       "    <tr>\n",
       "      <th>2</th>\n",
       "      <td>[0.56629, -0.20355, -0.093943, -0.45198, 0.301...</td>\n",
       "      <td>[-0.051869, -0.26547, 0.034687, -0.45404, 0.26...</td>\n",
       "    </tr>\n",
       "    <tr>\n",
       "      <th>3</th>\n",
       "      <td>[0.35213, -0.074228, -0.23725, -0.32726, 0.539...</td>\n",
       "      <td>[-0.16306, 0.45292, -0.14638, -0.64332, 0.7901...</td>\n",
       "    </tr>\n",
       "    <tr>\n",
       "      <th>4</th>\n",
       "      <td>[0.57031, 0.077812, 0.062999, -0.23876, 0.1227...</td>\n",
       "      <td>[0.11316, 0.16675, -0.28034, -0.18965, 0.61872...</td>\n",
       "    </tr>\n",
       "  </tbody>\n",
       "</table>\n",
       "</div>"
      ],
      "text/plain": [
       "                                               heads  \\\n",
       "0  [0.26001, -0.53344, 0.22119, -0.16826, 0.58323...   \n",
       "1  [0.14219, 0.01274, -0.5254, -0.60931, 1.263, 0...   \n",
       "2  [0.56629, -0.20355, -0.093943, -0.45198, 0.301...   \n",
       "3  [0.35213, -0.074228, -0.23725, -0.32726, 0.539...   \n",
       "4  [0.57031, 0.077812, 0.062999, -0.23876, 0.1227...   \n",
       "\n",
       "                                               tails  \n",
       "0  [-0.11981, 0.011386, 0.14965, -0.22285, 0.7112...  \n",
       "1  [-0.47825, 0.15908, -0.27509, -0.6478, 0.76022...  \n",
       "2  [-0.051869, -0.26547, 0.034687, -0.45404, 0.26...  \n",
       "3  [-0.16306, 0.45292, -0.14638, -0.64332, 0.7901...  \n",
       "4  [0.11316, 0.16675, -0.28034, -0.18965, 0.61872...  "
      ]
     },
     "execution_count": 17,
     "metadata": {},
     "output_type": "execute_result"
    }
   ],
   "source": [
    "xset.head()"
   ]
  },
  {
   "cell_type": "code",
   "execution_count": 18,
   "metadata": {},
   "outputs": [
    {
     "data": {
      "text/html": [
       "<div>\n",
       "<style scoped>\n",
       "    .dataframe tbody tr th:only-of-type {\n",
       "        vertical-align: middle;\n",
       "    }\n",
       "\n",
       "    .dataframe tbody tr th {\n",
       "        vertical-align: top;\n",
       "    }\n",
       "\n",
       "    .dataframe thead th {\n",
       "        text-align: right;\n",
       "    }\n",
       "</style>\n",
       "<table border=\"1\" class=\"dataframe\">\n",
       "  <thead>\n",
       "    <tr style=\"text-align: right;\">\n",
       "      <th></th>\n",
       "      <th>relation</th>\n",
       "    </tr>\n",
       "  </thead>\n",
       "  <tbody>\n",
       "    <tr>\n",
       "      <th>0</th>\n",
       "      <td>capital-common-countries</td>\n",
       "    </tr>\n",
       "    <tr>\n",
       "      <th>1</th>\n",
       "      <td>capital-common-countries</td>\n",
       "    </tr>\n",
       "    <tr>\n",
       "      <th>2</th>\n",
       "      <td>capital-common-countries</td>\n",
       "    </tr>\n",
       "    <tr>\n",
       "      <th>3</th>\n",
       "      <td>capital-common-countries</td>\n",
       "    </tr>\n",
       "    <tr>\n",
       "      <th>4</th>\n",
       "      <td>capital-common-countries</td>\n",
       "    </tr>\n",
       "  </tbody>\n",
       "</table>\n",
       "</div>"
      ],
      "text/plain": [
       "                   relation\n",
       "0  capital-common-countries\n",
       "1  capital-common-countries\n",
       "2  capital-common-countries\n",
       "3  capital-common-countries\n",
       "4  capital-common-countries"
      ]
     },
     "execution_count": 18,
     "metadata": {},
     "output_type": "execute_result"
    }
   ],
   "source": [
    "yset.head()"
   ]
  },
  {
   "cell_type": "markdown",
   "metadata": {},
   "source": [
    "## Use sigmoid function to awser the membership of one RDF tuple"
   ]
  },
  {
   "cell_type": "code",
   "execution_count": 19,
   "metadata": {},
   "outputs": [],
   "source": [
    "def is_sigmoid(rfd_array, vectors_dict, rvector):\n",
    "    \n",
    "    try:\n",
    "        rv = vectors_dict[\"heads\"][rfd_array[2]][rfd_array[0]]\n",
    "    except: \n",
    "        print(\"there is no vector equivalance for head %s: %s\" % (rfd_array[0], rfd_array[2]))\n",
    "        return 0\n",
    "\n",
    "    try:\n",
    "        fv = vectors_dict[\"tails\"][rfd_array[2]][rfd_array[1]]\n",
    "    except: \n",
    "        print(\"there is no vector equivalance for tail %s: %s\" % (rfd_array[1], rfd_array[2]))\n",
    "        return 0\n",
    "    \n",
    "    return (rv + rvector) * fv"
   ]
  },
  {
   "cell_type": "code",
   "execution_count": 20,
   "metadata": {},
   "outputs": [],
   "source": [
    "rdf = dataset.head(1).values.tolist()[0]\n",
    "sigmoid_var = is_sigmoid(rdf, vectors, rvector)"
   ]
  },
  {
   "cell_type": "markdown",
   "metadata": {},
   "source": [
    "### Some checks"
   ]
  },
  {
   "cell_type": "code",
   "execution_count": 76,
   "metadata": {},
   "outputs": [
    {
     "name": "stdout",
     "output_type": "stream",
     "text": [
      "(564, 2)\n",
      "(564, 1)\n",
      "there is exactly the same number of rows ? True\n",
      "All rows contains 2 entrys (heads,tails) witch are vectors of 300 dim ?: True\n",
      "heads    object\n",
      "tails    object\n",
      "dtype: object\n",
      "relation    object\n",
      "dtype: object\n"
     ]
    }
   ],
   "source": [
    "print(xset.shape)\n",
    "print(yset.shape)\n",
    "print(\"there is exactly the same number of rows ? %r\" % (yset.shape[0] == xset.shape[0]))\n",
    "xsetLen = set()\n",
    "\n",
    "for line in xset.iterrows():\n",
    "    xsetLen.add(len(line[1]['heads']))\n",
    "    xsetLen.add(len(line[1]['tails']))\n",
    "    \n",
    "print(\"All rows contains 2 entrys (heads,tails) witch are vectors of 300 dim ?: %r\" % (xsetLen == set([300])))\n"
   ]
  },
  {
   "cell_type": "markdown",
   "metadata": {},
   "source": [
    "## 10 Fold Cross Validation, SVM & PRFS"
   ]
  },
  {
   "cell_type": "code",
   "execution_count": 91,
   "metadata": {},
   "outputs": [],
   "source": [
    "from sklearn.metrics import precision_recall_fscore_support\n",
    "from sklearn.model_selection import KFold\n",
    "from sklearn.svm import SVC\n",
    "\n",
    "def get_f1_from_svm(xtrain, ytrain, xtest, ytest, C):\n",
    "    c = SVC(C=C).fit(xtrain,ytrain)\n",
    "    return precision_recall_fscore_support(ytest, c.predict(xtest))[:,0]\n",
    "\n",
    "def foreach_C(xtrain,ytrain,xtunning,ytunning,C=[0.1,1,10,100]):\n",
    "    f1s = list()\n",
    "    for c in C:\n",
    "        f1s.append(get_f1_from_svm(xtrain,ytrain,xtunning,ytunning, c))\n",
    "    return f1s\n",
    "\n",
    "def foreachKfold(xset,yset,kfold=2):\n",
    "    meanList = list()\n",
    "    kf = KFold(n_splits=kfold, shuffle=False)\n",
    "    for trainI, testI in kf.split(xset):\n",
    "        xtrain = xset.iloc[trainI]\n",
    "        ytrain = yset.iloc[trainI]\n",
    "        xtest = xset.iloc[testI]\n",
    "        ytest = yset.iloc[testI]\n",
    "        meanList.append(foreach_C(xtrain,xtest,ytrain,ytest))\n",
    "        \n",
    "    return meanList\n",
    "\n"
   ]
  },
  {
   "cell_type": "code",
   "execution_count": 92,
   "metadata": {},
   "outputs": [
    {
     "ename": "ValueError",
     "evalue": "setting an array element with a sequence.",
     "output_type": "error",
     "traceback": [
      "\u001b[1;31m---------------------------------------------------------------------------\u001b[0m",
      "\u001b[1;31mValueError\u001b[0m                                Traceback (most recent call last)",
      "\u001b[1;32m<ipython-input-92-3d72990922fb>\u001b[0m in \u001b[0;36m<module>\u001b[1;34m()\u001b[0m\n\u001b[1;32m----> 1\u001b[1;33m \u001b[0mforeachKfold\u001b[0m\u001b[1;33m(\u001b[0m\u001b[0mxset\u001b[0m\u001b[1;33m,\u001b[0m\u001b[0myset\u001b[0m\u001b[1;33m)\u001b[0m\u001b[1;33m\u001b[0m\u001b[0m\n\u001b[0m",
      "\u001b[1;32m<ipython-input-91-593d9539c7ea>\u001b[0m in \u001b[0;36mforeachKfold\u001b[1;34m(xset, yset, kfold)\u001b[0m\n\u001b[0;32m     21\u001b[0m         \u001b[0mxtest\u001b[0m \u001b[1;33m=\u001b[0m \u001b[0mxset\u001b[0m\u001b[1;33m.\u001b[0m\u001b[0miloc\u001b[0m\u001b[1;33m[\u001b[0m\u001b[0mtestI\u001b[0m\u001b[1;33m]\u001b[0m\u001b[1;33m\u001b[0m\u001b[0m\n\u001b[0;32m     22\u001b[0m         \u001b[0mytest\u001b[0m \u001b[1;33m=\u001b[0m \u001b[0myset\u001b[0m\u001b[1;33m.\u001b[0m\u001b[0miloc\u001b[0m\u001b[1;33m[\u001b[0m\u001b[0mtestI\u001b[0m\u001b[1;33m]\u001b[0m\u001b[1;33m\u001b[0m\u001b[0m\n\u001b[1;32m---> 23\u001b[1;33m         \u001b[0mmeanList\u001b[0m\u001b[1;33m.\u001b[0m\u001b[0mappend\u001b[0m\u001b[1;33m(\u001b[0m\u001b[0mforeach_C\u001b[0m\u001b[1;33m(\u001b[0m\u001b[0mxtrain\u001b[0m\u001b[1;33m,\u001b[0m\u001b[0mxtest\u001b[0m\u001b[1;33m,\u001b[0m\u001b[0mytrain\u001b[0m\u001b[1;33m,\u001b[0m\u001b[0mytest\u001b[0m\u001b[1;33m)\u001b[0m\u001b[1;33m)\u001b[0m\u001b[1;33m\u001b[0m\u001b[0m\n\u001b[0m\u001b[0;32m     24\u001b[0m \u001b[1;33m\u001b[0m\u001b[0m\n\u001b[0;32m     25\u001b[0m     \u001b[1;32mreturn\u001b[0m \u001b[0mmeanList\u001b[0m\u001b[1;33m\u001b[0m\u001b[0m\n",
      "\u001b[1;32m<ipython-input-91-593d9539c7ea>\u001b[0m in \u001b[0;36mforeach_C\u001b[1;34m(xtrain, ytrain, xtunning, ytunning, C)\u001b[0m\n\u001b[0;32m     10\u001b[0m     \u001b[0mf1s\u001b[0m \u001b[1;33m=\u001b[0m \u001b[0mlist\u001b[0m\u001b[1;33m(\u001b[0m\u001b[1;33m)\u001b[0m\u001b[1;33m\u001b[0m\u001b[0m\n\u001b[0;32m     11\u001b[0m     \u001b[1;32mfor\u001b[0m \u001b[0mc\u001b[0m \u001b[1;32min\u001b[0m \u001b[0mC\u001b[0m\u001b[1;33m:\u001b[0m\u001b[1;33m\u001b[0m\u001b[0m\n\u001b[1;32m---> 12\u001b[1;33m         \u001b[0mf1s\u001b[0m\u001b[1;33m.\u001b[0m\u001b[0mappend\u001b[0m\u001b[1;33m(\u001b[0m\u001b[0mget_f1_from_svm\u001b[0m\u001b[1;33m(\u001b[0m\u001b[0mxtrain\u001b[0m\u001b[1;33m,\u001b[0m\u001b[0mytrain\u001b[0m\u001b[1;33m,\u001b[0m\u001b[0mxtunning\u001b[0m\u001b[1;33m,\u001b[0m\u001b[0mytunning\u001b[0m\u001b[1;33m,\u001b[0m \u001b[0mc\u001b[0m\u001b[1;33m)\u001b[0m\u001b[1;33m)\u001b[0m\u001b[1;33m\u001b[0m\u001b[0m\n\u001b[0m\u001b[0;32m     13\u001b[0m     \u001b[1;32mreturn\u001b[0m \u001b[0mf1s\u001b[0m\u001b[1;33m\u001b[0m\u001b[0m\n\u001b[0;32m     14\u001b[0m \u001b[1;33m\u001b[0m\u001b[0m\n",
      "\u001b[1;32m<ipython-input-91-593d9539c7ea>\u001b[0m in \u001b[0;36mget_f1_from_svm\u001b[1;34m(xtrain, ytrain, xtest, ytest, C)\u001b[0m\n\u001b[0;32m      4\u001b[0m \u001b[1;33m\u001b[0m\u001b[0m\n\u001b[0;32m      5\u001b[0m \u001b[1;32mdef\u001b[0m \u001b[0mget_f1_from_svm\u001b[0m\u001b[1;33m(\u001b[0m\u001b[0mxtrain\u001b[0m\u001b[1;33m,\u001b[0m \u001b[0mytrain\u001b[0m\u001b[1;33m,\u001b[0m \u001b[0mxtest\u001b[0m\u001b[1;33m,\u001b[0m \u001b[0mytest\u001b[0m\u001b[1;33m,\u001b[0m \u001b[0mC\u001b[0m\u001b[1;33m)\u001b[0m\u001b[1;33m:\u001b[0m\u001b[1;33m\u001b[0m\u001b[0m\n\u001b[1;32m----> 6\u001b[1;33m     \u001b[0mc\u001b[0m \u001b[1;33m=\u001b[0m \u001b[0mSVC\u001b[0m\u001b[1;33m(\u001b[0m\u001b[0mC\u001b[0m\u001b[1;33m=\u001b[0m\u001b[0mC\u001b[0m\u001b[1;33m)\u001b[0m\u001b[1;33m.\u001b[0m\u001b[0mfit\u001b[0m\u001b[1;33m(\u001b[0m\u001b[0mxtrain\u001b[0m\u001b[1;33m,\u001b[0m\u001b[0mytrain\u001b[0m\u001b[1;33m)\u001b[0m\u001b[1;33m\u001b[0m\u001b[0m\n\u001b[0m\u001b[0;32m      7\u001b[0m     \u001b[1;32mreturn\u001b[0m \u001b[0mprecision_recall_fscore_support\u001b[0m\u001b[1;33m(\u001b[0m\u001b[0mytest\u001b[0m\u001b[1;33m,\u001b[0m \u001b[0mc\u001b[0m\u001b[1;33m.\u001b[0m\u001b[0mpredict\u001b[0m\u001b[1;33m(\u001b[0m\u001b[0mxtest\u001b[0m\u001b[1;33m)\u001b[0m\u001b[1;33m)\u001b[0m\u001b[1;33m[\u001b[0m\u001b[1;33m:\u001b[0m\u001b[1;33m,\u001b[0m\u001b[1;36m0\u001b[0m\u001b[1;33m]\u001b[0m\u001b[1;33m\u001b[0m\u001b[0m\n\u001b[0;32m      8\u001b[0m \u001b[1;33m\u001b[0m\u001b[0m\n",
      "\u001b[1;32mE:\\ProgramFiles\\Anaconda\\lib\\site-packages\\sklearn\\svm\\base.pyc\u001b[0m in \u001b[0;36mfit\u001b[1;34m(self, X, y, sample_weight)\u001b[0m\n\u001b[0;32m    147\u001b[0m         \u001b[0mself\u001b[0m\u001b[1;33m.\u001b[0m\u001b[0m_sparse\u001b[0m \u001b[1;33m=\u001b[0m \u001b[0msparse\u001b[0m \u001b[1;32mand\u001b[0m \u001b[1;32mnot\u001b[0m \u001b[0mcallable\u001b[0m\u001b[1;33m(\u001b[0m\u001b[0mself\u001b[0m\u001b[1;33m.\u001b[0m\u001b[0mkernel\u001b[0m\u001b[1;33m)\u001b[0m\u001b[1;33m\u001b[0m\u001b[0m\n\u001b[0;32m    148\u001b[0m \u001b[1;33m\u001b[0m\u001b[0m\n\u001b[1;32m--> 149\u001b[1;33m         \u001b[0mX\u001b[0m\u001b[1;33m,\u001b[0m \u001b[0my\u001b[0m \u001b[1;33m=\u001b[0m \u001b[0mcheck_X_y\u001b[0m\u001b[1;33m(\u001b[0m\u001b[0mX\u001b[0m\u001b[1;33m,\u001b[0m \u001b[0my\u001b[0m\u001b[1;33m,\u001b[0m \u001b[0mdtype\u001b[0m\u001b[1;33m=\u001b[0m\u001b[0mnp\u001b[0m\u001b[1;33m.\u001b[0m\u001b[0mfloat64\u001b[0m\u001b[1;33m,\u001b[0m \u001b[0morder\u001b[0m\u001b[1;33m=\u001b[0m\u001b[1;34m'C'\u001b[0m\u001b[1;33m,\u001b[0m \u001b[0maccept_sparse\u001b[0m\u001b[1;33m=\u001b[0m\u001b[1;34m'csr'\u001b[0m\u001b[1;33m)\u001b[0m\u001b[1;33m\u001b[0m\u001b[0m\n\u001b[0m\u001b[0;32m    150\u001b[0m         \u001b[0my\u001b[0m \u001b[1;33m=\u001b[0m \u001b[0mself\u001b[0m\u001b[1;33m.\u001b[0m\u001b[0m_validate_targets\u001b[0m\u001b[1;33m(\u001b[0m\u001b[0my\u001b[0m\u001b[1;33m)\u001b[0m\u001b[1;33m\u001b[0m\u001b[0m\n\u001b[0;32m    151\u001b[0m \u001b[1;33m\u001b[0m\u001b[0m\n",
      "\u001b[1;32mE:\\ProgramFiles\\Anaconda\\lib\\site-packages\\sklearn\\utils\\validation.pyc\u001b[0m in \u001b[0;36mcheck_X_y\u001b[1;34m(X, y, accept_sparse, dtype, order, copy, force_all_finite, ensure_2d, allow_nd, multi_output, ensure_min_samples, ensure_min_features, y_numeric, warn_on_dtype, estimator)\u001b[0m\n\u001b[0;32m    571\u001b[0m     X = check_array(X, accept_sparse, dtype, order, copy, force_all_finite,\n\u001b[0;32m    572\u001b[0m                     \u001b[0mensure_2d\u001b[0m\u001b[1;33m,\u001b[0m \u001b[0mallow_nd\u001b[0m\u001b[1;33m,\u001b[0m \u001b[0mensure_min_samples\u001b[0m\u001b[1;33m,\u001b[0m\u001b[1;33m\u001b[0m\u001b[0m\n\u001b[1;32m--> 573\u001b[1;33m                     ensure_min_features, warn_on_dtype, estimator)\n\u001b[0m\u001b[0;32m    574\u001b[0m     \u001b[1;32mif\u001b[0m \u001b[0mmulti_output\u001b[0m\u001b[1;33m:\u001b[0m\u001b[1;33m\u001b[0m\u001b[0m\n\u001b[0;32m    575\u001b[0m         y = check_array(y, 'csr', force_all_finite=True, ensure_2d=False,\n",
      "\u001b[1;32mE:\\ProgramFiles\\Anaconda\\lib\\site-packages\\sklearn\\utils\\validation.pyc\u001b[0m in \u001b[0;36mcheck_array\u001b[1;34m(array, accept_sparse, dtype, order, copy, force_all_finite, ensure_2d, allow_nd, ensure_min_samples, ensure_min_features, warn_on_dtype, estimator)\u001b[0m\n\u001b[0;32m    431\u001b[0m                                       force_all_finite)\n\u001b[0;32m    432\u001b[0m     \u001b[1;32melse\u001b[0m\u001b[1;33m:\u001b[0m\u001b[1;33m\u001b[0m\u001b[0m\n\u001b[1;32m--> 433\u001b[1;33m         \u001b[0marray\u001b[0m \u001b[1;33m=\u001b[0m \u001b[0mnp\u001b[0m\u001b[1;33m.\u001b[0m\u001b[0marray\u001b[0m\u001b[1;33m(\u001b[0m\u001b[0marray\u001b[0m\u001b[1;33m,\u001b[0m \u001b[0mdtype\u001b[0m\u001b[1;33m=\u001b[0m\u001b[0mdtype\u001b[0m\u001b[1;33m,\u001b[0m \u001b[0morder\u001b[0m\u001b[1;33m=\u001b[0m\u001b[0morder\u001b[0m\u001b[1;33m,\u001b[0m \u001b[0mcopy\u001b[0m\u001b[1;33m=\u001b[0m\u001b[0mcopy\u001b[0m\u001b[1;33m)\u001b[0m\u001b[1;33m\u001b[0m\u001b[0m\n\u001b[0m\u001b[0;32m    434\u001b[0m \u001b[1;33m\u001b[0m\u001b[0m\n\u001b[0;32m    435\u001b[0m         \u001b[1;32mif\u001b[0m \u001b[0mensure_2d\u001b[0m\u001b[1;33m:\u001b[0m\u001b[1;33m\u001b[0m\u001b[0m\n",
      "\u001b[1;31mValueError\u001b[0m: setting an array element with a sequence."
     ]
    }
   ],
   "source": [
    "foreachKfold(xset,yset)"
   ]
  },
  {
   "cell_type": "code",
   "execution_count": null,
   "metadata": {},
   "outputs": [],
   "source": []
  }
 ],
 "metadata": {
  "kernelspec": {
   "display_name": "Python 2",
   "language": "python",
   "name": "python2"
  },
  "language_info": {
   "codemirror_mode": {
    "name": "ipython",
    "version": 2
   },
   "file_extension": ".py",
   "mimetype": "text/x-python",
   "name": "python",
   "nbconvert_exporter": "python",
   "pygments_lexer": "ipython2",
   "version": "2.7.15"
  }
 },
 "nbformat": 4,
 "nbformat_minor": 2
}
