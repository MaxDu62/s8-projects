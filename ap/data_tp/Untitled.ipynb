{
 "cells": [
  {
   "cell_type": "markdown",
   "metadata": {},
   "source": [
    "# Data TP"
   ]
  },
  {
   "cell_type": "markdown",
   "metadata": {},
   "source": [
    "## Import librairies and databases"
   ]
  },
  {
   "cell_type": "code",
   "execution_count": 1,
   "metadata": {},
   "outputs": [],
   "source": [
    "import pandas\n",
    "import numpy"
   ]
  },
  {
   "cell_type": "code",
   "execution_count": 2,
   "metadata": {},
   "outputs": [],
   "source": [
    "dataset = pandas.read_csv('.\\\\google\\\\data\\\\train.txt', delimiter=\" \", names=[\"heads\",\"tails\",\"relation\"])"
   ]
  },
  {
   "cell_type": "code",
   "execution_count": 3,
   "metadata": {},
   "outputs": [
    {
     "data": {
      "text/html": [
       "<div>\n",
       "<style scoped>\n",
       "    .dataframe tbody tr th:only-of-type {\n",
       "        vertical-align: middle;\n",
       "    }\n",
       "\n",
       "    .dataframe tbody tr th {\n",
       "        vertical-align: top;\n",
       "    }\n",
       "\n",
       "    .dataframe thead th {\n",
       "        text-align: right;\n",
       "    }\n",
       "</style>\n",
       "<table border=\"1\" class=\"dataframe\">\n",
       "  <thead>\n",
       "    <tr style=\"text-align: right;\">\n",
       "      <th></th>\n",
       "      <th>heads</th>\n",
       "      <th>tails</th>\n",
       "      <th>relation</th>\n",
       "    </tr>\n",
       "  </thead>\n",
       "  <tbody>\n",
       "    <tr>\n",
       "      <th>count</th>\n",
       "      <td>573</td>\n",
       "      <td>573</td>\n",
       "      <td>573</td>\n",
       "    </tr>\n",
       "    <tr>\n",
       "      <th>unique</th>\n",
       "      <td>474</td>\n",
       "      <td>506</td>\n",
       "      <td>14</td>\n",
       "    </tr>\n",
       "    <tr>\n",
       "      <th>top</th>\n",
       "      <td>slow</td>\n",
       "      <td>california</td>\n",
       "      <td>capital-world</td>\n",
       "    </tr>\n",
       "    <tr>\n",
       "      <th>freq</th>\n",
       "      <td>5</td>\n",
       "      <td>12</td>\n",
       "      <td>116</td>\n",
       "    </tr>\n",
       "  </tbody>\n",
       "</table>\n",
       "</div>"
      ],
      "text/plain": [
       "       heads       tails       relation\n",
       "count    573         573            573\n",
       "unique   474         506             14\n",
       "top     slow  california  capital-world\n",
       "freq       5          12            116"
      ]
     },
     "execution_count": 3,
     "metadata": {},
     "output_type": "execute_result"
    }
   ],
   "source": [
    "dataset.describe()"
   ]
  },
  {
   "cell_type": "code",
   "execution_count": 4,
   "metadata": {},
   "outputs": [
    {
     "data": {
      "text/plain": [
       "(573, 3)"
      ]
     },
     "execution_count": 4,
     "metadata": {},
     "output_type": "execute_result"
    }
   ],
   "source": [
    "dataset.shape"
   ]
  },
  {
   "cell_type": "code",
   "execution_count": 5,
   "metadata": {},
   "outputs": [
    {
     "data": {
      "text/html": [
       "<div>\n",
       "<style scoped>\n",
       "    .dataframe tbody tr th:only-of-type {\n",
       "        vertical-align: middle;\n",
       "    }\n",
       "\n",
       "    .dataframe tbody tr th {\n",
       "        vertical-align: top;\n",
       "    }\n",
       "\n",
       "    .dataframe thead th {\n",
       "        text-align: right;\n",
       "    }\n",
       "</style>\n",
       "<table border=\"1\" class=\"dataframe\">\n",
       "  <thead>\n",
       "    <tr style=\"text-align: right;\">\n",
       "      <th></th>\n",
       "      <th>heads</th>\n",
       "      <th>tails</th>\n",
       "      <th>relation</th>\n",
       "    </tr>\n",
       "  </thead>\n",
       "  <tbody>\n",
       "    <tr>\n",
       "      <th>0</th>\n",
       "      <td>madrid</td>\n",
       "      <td>spain</td>\n",
       "      <td>capital-common-countries</td>\n",
       "    </tr>\n",
       "    <tr>\n",
       "      <th>1</th>\n",
       "      <td>ottawa</td>\n",
       "      <td>canada</td>\n",
       "      <td>capital-common-countries</td>\n",
       "    </tr>\n",
       "    <tr>\n",
       "      <th>2</th>\n",
       "      <td>cairo</td>\n",
       "      <td>egypt</td>\n",
       "      <td>capital-common-countries</td>\n",
       "    </tr>\n",
       "    <tr>\n",
       "      <th>3</th>\n",
       "      <td>paris</td>\n",
       "      <td>france</td>\n",
       "      <td>capital-common-countries</td>\n",
       "    </tr>\n",
       "    <tr>\n",
       "      <th>4</th>\n",
       "      <td>bern</td>\n",
       "      <td>switzerland</td>\n",
       "      <td>capital-common-countries</td>\n",
       "    </tr>\n",
       "  </tbody>\n",
       "</table>\n",
       "</div>"
      ],
      "text/plain": [
       "    heads        tails                  relation\n",
       "0  madrid        spain  capital-common-countries\n",
       "1  ottawa       canada  capital-common-countries\n",
       "2   cairo        egypt  capital-common-countries\n",
       "3   paris       france  capital-common-countries\n",
       "4    bern  switzerland  capital-common-countries"
      ]
     },
     "execution_count": 5,
     "metadata": {},
     "output_type": "execute_result"
    }
   ],
   "source": [
    "dataset.head()"
   ]
  },
  {
   "cell_type": "markdown",
   "metadata": {},
   "source": [
    "## Load Vectors"
   ]
  },
  {
   "cell_type": "code",
   "execution_count": 6,
   "metadata": {},
   "outputs": [],
   "source": [
    "def load_vectors(file_path):\n",
    "    resultDict = dict()\n",
    "    with open(file_path) as f:\n",
    "        raw_text = f.read()\n",
    "        for raw_line in raw_text.split(\"\\n\")[:-1]:\n",
    "            ind = raw_line.index(\" \")\n",
    "            resultDict[raw_line[:ind]] = numpy.array(raw_line[ind+1:].split(\" \"), dtype=numpy.float)\n",
    "        \n",
    "    return resultDict\n",
    "\n",
    "def formatPattern(algo, columns_value, file_name):\n",
    "    return '.\\\\google\\\\{}\\\\subspaces\\\\{}\\\\{}.txt'.format(algo, columns_value, file_name)"
   ]
  },
  {
   "cell_type": "code",
   "execution_count": 7,
   "metadata": {},
   "outputs": [],
   "source": [
    "vectors = {\"heads\": dict(), \"tails\": dict()}\n",
    "\n",
    "for file_name in vectors.keys():\n",
    "    for columns_value in set(dataset['relation'].values):\n",
    "        file_dir = formatPattern('gloveCC', columns_value, file_name)\n",
    "        vectors[file_name][columns_value] = load_vectors(file_dir)\n"
   ]
  },
  {
   "cell_type": "markdown",
   "metadata": {},
   "source": [
    "## Replace values in dataframe"
   ]
  },
  {
   "cell_type": "code",
   "execution_count": 8,
   "metadata": {},
   "outputs": [],
   "source": [
    "def replace_values(dataframe, vectorsDict):\n",
    "    resultdf = dataframe.to_dict()\n",
    "    for indice in range(len(resultdf['relation'])):\n",
    "        head = resultdf['heads'][indice]\n",
    "        tail = resultdf['tails'][indice]\n",
    "        relation = resultdf['relation'][indice]\n",
    "        \n",
    "        try:\n",
    "            resultdf['heads'][indice] = vectorsDict['heads'][relation][head]\n",
    "        except:\n",
    "            print(\"no vector for (relation:%s, head:%s) \" % (relation, head))\n",
    "        \n",
    "        try:\n",
    "            resultdf['tails'][indice] = vectorsDict['tails'][relation][tail]\n",
    "        except:\n",
    "            print(\"no vector for (relation:%s, tail:%s) \" % (relation, tail))\n",
    "        \n",
    "    return resultdf\n"
   ]
  },
  {
   "cell_type": "code",
   "execution_count": 9,
   "metadata": {},
   "outputs": [
    {
     "name": "stdout",
     "output_type": "stream",
     "text": [
      "no vector for (relation:capital-world, head:funafuti) \n",
      "no vector for (relation:capital-world, head:ashgabat) \n",
      "no vector for (relation:capital-world, head:belmopan) \n",
      "no vector for (relation:capital-world, head:thimphu) \n",
      "no vector for (relation:capital-world, head:niamey) \n",
      "no vector for (relation:capital-world, head:nouakchott) \n",
      "no vector for (relation:capital-world, head:nuuk) \n",
      "no vector for (relation:capital-world, head:podgorica) \n",
      "no vector for (relation:capital-world, head:vaduz) \n"
     ]
    }
   ],
   "source": [
    "dataset2 = replace_values(dataset, vectors)"
   ]
  },
  {
   "cell_type": "code",
   "execution_count": 10,
   "metadata": {},
   "outputs": [
    {
     "data": {
      "text/plain": [
       "['tails', 'heads', 'relation']"
      ]
     },
     "execution_count": 10,
     "metadata": {},
     "output_type": "execute_result"
    }
   ],
   "source": [
    "dataset2.keys()"
   ]
  },
  {
   "cell_type": "code",
   "execution_count": 11,
   "metadata": {},
   "outputs": [],
   "source": [
    "dataset2pd = pandas.DataFrame({\n",
    "    'tails': dataset2['tails'].values(),\n",
    "    'heads': dataset2['heads'].values(),\n",
    "    'relation': dataset2['relation'].values()\n",
    "})"
   ]
  },
  {
   "cell_type": "code",
   "execution_count": 12,
   "metadata": {},
   "outputs": [
    {
     "data": {
      "text/plain": [
       "(573, 3)"
      ]
     },
     "execution_count": 12,
     "metadata": {},
     "output_type": "execute_result"
    }
   ],
   "source": [
    "dataset2pd.shape"
   ]
  },
  {
   "cell_type": "code",
   "execution_count": 13,
   "metadata": {},
   "outputs": [
    {
     "data": {
      "text/html": [
       "<div>\n",
       "<style scoped>\n",
       "    .dataframe tbody tr th:only-of-type {\n",
       "        vertical-align: middle;\n",
       "    }\n",
       "\n",
       "    .dataframe tbody tr th {\n",
       "        vertical-align: top;\n",
       "    }\n",
       "\n",
       "    .dataframe thead th {\n",
       "        text-align: right;\n",
       "    }\n",
       "</style>\n",
       "<table border=\"1\" class=\"dataframe\">\n",
       "  <thead>\n",
       "    <tr style=\"text-align: right;\">\n",
       "      <th></th>\n",
       "      <th>heads</th>\n",
       "      <th>relation</th>\n",
       "      <th>tails</th>\n",
       "    </tr>\n",
       "  </thead>\n",
       "  <tbody>\n",
       "    <tr>\n",
       "      <th>0</th>\n",
       "      <td>[0.26001, -0.53344, 0.22119, -0.16826, 0.58323...</td>\n",
       "      <td>capital-common-countries</td>\n",
       "      <td>[-0.11981, 0.011386, 0.14965, -0.22285, 0.7112...</td>\n",
       "    </tr>\n",
       "    <tr>\n",
       "      <th>1</th>\n",
       "      <td>[0.14219, 0.01274, -0.5254, -0.60931, 1.263, 0...</td>\n",
       "      <td>capital-common-countries</td>\n",
       "      <td>[-0.47825, 0.15908, -0.27509, -0.6478, 0.76022...</td>\n",
       "    </tr>\n",
       "    <tr>\n",
       "      <th>2</th>\n",
       "      <td>[0.56629, -0.20355, -0.093943, -0.45198, 0.301...</td>\n",
       "      <td>capital-common-countries</td>\n",
       "      <td>[-0.051869, -0.26547, 0.034687, -0.45404, 0.26...</td>\n",
       "    </tr>\n",
       "    <tr>\n",
       "      <th>3</th>\n",
       "      <td>[0.35213, -0.074228, -0.23725, -0.32726, 0.539...</td>\n",
       "      <td>capital-common-countries</td>\n",
       "      <td>[-0.16306, 0.45292, -0.14638, -0.64332, 0.7901...</td>\n",
       "    </tr>\n",
       "    <tr>\n",
       "      <th>4</th>\n",
       "      <td>[0.57031, 0.077812, 0.062999, -0.23876, 0.1227...</td>\n",
       "      <td>capital-common-countries</td>\n",
       "      <td>[0.11316, 0.16675, -0.28034, -0.18965, 0.61872...</td>\n",
       "    </tr>\n",
       "  </tbody>\n",
       "</table>\n",
       "</div>"
      ],
      "text/plain": [
       "                                               heads  \\\n",
       "0  [0.26001, -0.53344, 0.22119, -0.16826, 0.58323...   \n",
       "1  [0.14219, 0.01274, -0.5254, -0.60931, 1.263, 0...   \n",
       "2  [0.56629, -0.20355, -0.093943, -0.45198, 0.301...   \n",
       "3  [0.35213, -0.074228, -0.23725, -0.32726, 0.539...   \n",
       "4  [0.57031, 0.077812, 0.062999, -0.23876, 0.1227...   \n",
       "\n",
       "                   relation                                              tails  \n",
       "0  capital-common-countries  [-0.11981, 0.011386, 0.14965, -0.22285, 0.7112...  \n",
       "1  capital-common-countries  [-0.47825, 0.15908, -0.27509, -0.6478, 0.76022...  \n",
       "2  capital-common-countries  [-0.051869, -0.26547, 0.034687, -0.45404, 0.26...  \n",
       "3  capital-common-countries  [-0.16306, 0.45292, -0.14638, -0.64332, 0.7901...  \n",
       "4  capital-common-countries  [0.11316, 0.16675, -0.28034, -0.18965, 0.61872...  "
      ]
     },
     "execution_count": 13,
     "metadata": {},
     "output_type": "execute_result"
    }
   ],
   "source": [
    "dataset2pd.head()"
   ]
  },
  {
   "cell_type": "markdown",
   "metadata": {},
   "source": [
    "## Compute Sum of substraction of heads_i and tails_i"
   ]
  },
  {
   "cell_type": "code",
   "execution_count": 54,
   "metadata": {},
   "outputs": [],
   "source": [
    "def minus_of_two_vector(v1, v2):\n",
    "    try:   \n",
    "        return v1 - v2\n",
    "    except:\n",
    "        if type(v1) is not numpy.ndarray:\n",
    "            print(\"substraction is not applicable with {}, type:{}\".format(v1,type(v1)))\n",
    "        if type(v2) is not numpy.ndarray:\n",
    "            print(\"substraction is not applicable with {}, type:{}\".format(v2,type(v2)))\n",
    "        return 0.0\n",
    "\n",
    "def sum_of_vectors(vs1, vs2):\n",
    "    return numpy.sum([minus_of_two_vector(*l) for l in zip(vs1,vs2)])"
   ]
  },
  {
   "cell_type": "code",
   "execution_count": 55,
   "metadata": {},
   "outputs": [
    {
     "name": "stdout",
     "output_type": "stream",
     "text": [
      "substraction is not applicable with funafuti, type:<type 'str'>\n",
      "substraction is not applicable with ashgabat, type:<type 'str'>\n",
      "substraction is not applicable with belmopan, type:<type 'str'>\n",
      "substraction is not applicable with thimphu, type:<type 'str'>\n",
      "substraction is not applicable with niamey, type:<type 'str'>\n",
      "substraction is not applicable with nouakchott, type:<type 'str'>\n",
      "substraction is not applicable with nuuk, type:<type 'str'>\n",
      "substraction is not applicable with podgorica, type:<type 'str'>\n",
      "substraction is not applicable with vaduz, type:<type 'str'>\n"
     ]
    }
   ],
   "source": [
    "rvector = sum_of_vectors(dataset2pd[\"heads\"],dataset2pd[\"tails\"])"
   ]
  },
  {
   "cell_type": "markdown",
   "metadata": {},
   "source": [
    "## Split Dataset into Xset and Yset"
   ]
  },
  {
   "cell_type": "code",
   "execution_count": 16,
   "metadata": {},
   "outputs": [],
   "source": [
    "xset = dataset2pd.iloc[:,[0,2]]\n",
    "yset = dataset2pd.iloc[:,[1]]"
   ]
  },
  {
   "cell_type": "code",
   "execution_count": 17,
   "metadata": {},
   "outputs": [
    {
     "data": {
      "text/html": [
       "<div>\n",
       "<style scoped>\n",
       "    .dataframe tbody tr th:only-of-type {\n",
       "        vertical-align: middle;\n",
       "    }\n",
       "\n",
       "    .dataframe tbody tr th {\n",
       "        vertical-align: top;\n",
       "    }\n",
       "\n",
       "    .dataframe thead th {\n",
       "        text-align: right;\n",
       "    }\n",
       "</style>\n",
       "<table border=\"1\" class=\"dataframe\">\n",
       "  <thead>\n",
       "    <tr style=\"text-align: right;\">\n",
       "      <th></th>\n",
       "      <th>heads</th>\n",
       "      <th>tails</th>\n",
       "    </tr>\n",
       "  </thead>\n",
       "  <tbody>\n",
       "    <tr>\n",
       "      <th>0</th>\n",
       "      <td>[0.26001, -0.53344, 0.22119, -0.16826, 0.58323...</td>\n",
       "      <td>[-0.11981, 0.011386, 0.14965, -0.22285, 0.7112...</td>\n",
       "    </tr>\n",
       "    <tr>\n",
       "      <th>1</th>\n",
       "      <td>[0.14219, 0.01274, -0.5254, -0.60931, 1.263, 0...</td>\n",
       "      <td>[-0.47825, 0.15908, -0.27509, -0.6478, 0.76022...</td>\n",
       "    </tr>\n",
       "    <tr>\n",
       "      <th>2</th>\n",
       "      <td>[0.56629, -0.20355, -0.093943, -0.45198, 0.301...</td>\n",
       "      <td>[-0.051869, -0.26547, 0.034687, -0.45404, 0.26...</td>\n",
       "    </tr>\n",
       "    <tr>\n",
       "      <th>3</th>\n",
       "      <td>[0.35213, -0.074228, -0.23725, -0.32726, 0.539...</td>\n",
       "      <td>[-0.16306, 0.45292, -0.14638, -0.64332, 0.7901...</td>\n",
       "    </tr>\n",
       "    <tr>\n",
       "      <th>4</th>\n",
       "      <td>[0.57031, 0.077812, 0.062999, -0.23876, 0.1227...</td>\n",
       "      <td>[0.11316, 0.16675, -0.28034, -0.18965, 0.61872...</td>\n",
       "    </tr>\n",
       "  </tbody>\n",
       "</table>\n",
       "</div>"
      ],
      "text/plain": [
       "                                               heads  \\\n",
       "0  [0.26001, -0.53344, 0.22119, -0.16826, 0.58323...   \n",
       "1  [0.14219, 0.01274, -0.5254, -0.60931, 1.263, 0...   \n",
       "2  [0.56629, -0.20355, -0.093943, -0.45198, 0.301...   \n",
       "3  [0.35213, -0.074228, -0.23725, -0.32726, 0.539...   \n",
       "4  [0.57031, 0.077812, 0.062999, -0.23876, 0.1227...   \n",
       "\n",
       "                                               tails  \n",
       "0  [-0.11981, 0.011386, 0.14965, -0.22285, 0.7112...  \n",
       "1  [-0.47825, 0.15908, -0.27509, -0.6478, 0.76022...  \n",
       "2  [-0.051869, -0.26547, 0.034687, -0.45404, 0.26...  \n",
       "3  [-0.16306, 0.45292, -0.14638, -0.64332, 0.7901...  \n",
       "4  [0.11316, 0.16675, -0.28034, -0.18965, 0.61872...  "
      ]
     },
     "execution_count": 17,
     "metadata": {},
     "output_type": "execute_result"
    }
   ],
   "source": [
    "xset.head()"
   ]
  },
  {
   "cell_type": "code",
   "execution_count": 57,
   "metadata": {},
   "outputs": [
    {
     "data": {
      "text/html": [
       "<div>\n",
       "<style scoped>\n",
       "    .dataframe tbody tr th:only-of-type {\n",
       "        vertical-align: middle;\n",
       "    }\n",
       "\n",
       "    .dataframe tbody tr th {\n",
       "        vertical-align: top;\n",
       "    }\n",
       "\n",
       "    .dataframe thead th {\n",
       "        text-align: right;\n",
       "    }\n",
       "</style>\n",
       "<table border=\"1\" class=\"dataframe\">\n",
       "  <thead>\n",
       "    <tr style=\"text-align: right;\">\n",
       "      <th></th>\n",
       "      <th>relation</th>\n",
       "    </tr>\n",
       "  </thead>\n",
       "  <tbody>\n",
       "    <tr>\n",
       "      <th>0</th>\n",
       "      <td>capital-common-countries</td>\n",
       "    </tr>\n",
       "    <tr>\n",
       "      <th>1</th>\n",
       "      <td>capital-common-countries</td>\n",
       "    </tr>\n",
       "    <tr>\n",
       "      <th>2</th>\n",
       "      <td>capital-common-countries</td>\n",
       "    </tr>\n",
       "    <tr>\n",
       "      <th>3</th>\n",
       "      <td>capital-common-countries</td>\n",
       "    </tr>\n",
       "    <tr>\n",
       "      <th>4</th>\n",
       "      <td>capital-common-countries</td>\n",
       "    </tr>\n",
       "  </tbody>\n",
       "</table>\n",
       "</div>"
      ],
      "text/plain": [
       "                   relation\n",
       "0  capital-common-countries\n",
       "1  capital-common-countries\n",
       "2  capital-common-countries\n",
       "3  capital-common-countries\n",
       "4  capital-common-countries"
      ]
     },
     "execution_count": 57,
     "metadata": {},
     "output_type": "execute_result"
    }
   ],
   "source": [
    "yset.head()"
   ]
  },
  {
   "cell_type": "markdown",
   "metadata": {},
   "source": [
    "## Use sigmoid function to awser the membership of one RDF tuple"
   ]
  },
  {
   "cell_type": "code",
   "execution_count": 100,
   "metadata": {},
   "outputs": [],
   "source": [
    "def is_sigmoid(rfd_array, vectors_dict, rvector):\n",
    "    \n",
    "    try:\n",
    "        rv = vectors_dict[\"heads\"][rfd_array[2]][rfd_array[0]]\n",
    "    except: \n",
    "        print(\"there is no vector equivalance for head %s: %s\" % (rfd_array[0], rfd_array[2]))\n",
    "        return 0\n",
    "\n",
    "    try:\n",
    "        fv = vectors_dict[\"tails\"][rfd_array[2]][rfd_array[1]]\n",
    "    except: \n",
    "        print(\"there is no vector equivalance for tail %s: %s\" % (rfd_array[1], rfd_array[2]))\n",
    "        return 0\n",
    "    \n",
    "    return numpy.multiply(numpy.sum(rv, rvector), fv)"
   ]
  },
  {
   "cell_type": "code",
   "execution_count": 101,
   "metadata": {},
   "outputs": [
    {
     "ename": "TypeError",
     "evalue": "only integer scalar arrays can be converted to a scalar index",
     "output_type": "error",
     "traceback": [
      "\u001b[1;31m---------------------------------------------------------------------------\u001b[0m",
      "\u001b[1;31mTypeError\u001b[0m                                 Traceback (most recent call last)",
      "\u001b[1;32m<ipython-input-101-31ec9e5ce36f>\u001b[0m in \u001b[0;36m<module>\u001b[1;34m()\u001b[0m\n\u001b[0;32m      1\u001b[0m \u001b[0mrdf\u001b[0m \u001b[1;33m=\u001b[0m \u001b[0mdataset\u001b[0m\u001b[1;33m.\u001b[0m\u001b[0mhead\u001b[0m\u001b[1;33m(\u001b[0m\u001b[1;36m1\u001b[0m\u001b[1;33m)\u001b[0m\u001b[1;33m.\u001b[0m\u001b[0mvalues\u001b[0m\u001b[1;33m.\u001b[0m\u001b[0mtolist\u001b[0m\u001b[1;33m(\u001b[0m\u001b[1;33m)\u001b[0m\u001b[1;33m[\u001b[0m\u001b[1;36m0\u001b[0m\u001b[1;33m]\u001b[0m\u001b[1;33m\u001b[0m\u001b[0m\n\u001b[1;32m----> 2\u001b[1;33m \u001b[0mis_sigmoid\u001b[0m\u001b[1;33m(\u001b[0m\u001b[0mrdf\u001b[0m\u001b[1;33m,\u001b[0m \u001b[0mvectors\u001b[0m\u001b[1;33m,\u001b[0m \u001b[0mrvector\u001b[0m\u001b[1;33m)\u001b[0m\u001b[1;33m\u001b[0m\u001b[0m\n\u001b[0m",
      "\u001b[1;32m<ipython-input-100-38c937a1543b>\u001b[0m in \u001b[0;36mis_sigmoid\u001b[1;34m(rfd_array, vectors_dict, rvector)\u001b[0m\n\u001b[0;32m     13\u001b[0m         \u001b[1;32mreturn\u001b[0m \u001b[1;36m0\u001b[0m\u001b[1;33m\u001b[0m\u001b[0m\n\u001b[0;32m     14\u001b[0m \u001b[1;33m\u001b[0m\u001b[0m\n\u001b[1;32m---> 15\u001b[1;33m     \u001b[1;32mreturn\u001b[0m \u001b[0mnumpy\u001b[0m\u001b[1;33m.\u001b[0m\u001b[0mmultiply\u001b[0m\u001b[1;33m(\u001b[0m\u001b[0mnumpy\u001b[0m\u001b[1;33m.\u001b[0m\u001b[0msum\u001b[0m\u001b[1;33m(\u001b[0m\u001b[0mrv\u001b[0m\u001b[1;33m,\u001b[0m \u001b[0mrvector\u001b[0m\u001b[1;33m)\u001b[0m\u001b[1;33m,\u001b[0m \u001b[0mfv\u001b[0m\u001b[1;33m)\u001b[0m\u001b[1;33m\u001b[0m\u001b[0m\n\u001b[0m",
      "\u001b[1;32mE:\\ProgramFiles\\Anaconda\\lib\\site-packages\\numpy\\core\\fromnumeric.pyc\u001b[0m in \u001b[0;36msum\u001b[1;34m(a, axis, dtype, out, keepdims)\u001b[0m\n\u001b[0;32m   1880\u001b[0m             \u001b[1;32mreturn\u001b[0m \u001b[0msum\u001b[0m\u001b[1;33m(\u001b[0m\u001b[0maxis\u001b[0m\u001b[1;33m=\u001b[0m\u001b[0maxis\u001b[0m\u001b[1;33m,\u001b[0m \u001b[0mdtype\u001b[0m\u001b[1;33m=\u001b[0m\u001b[0mdtype\u001b[0m\u001b[1;33m,\u001b[0m \u001b[0mout\u001b[0m\u001b[1;33m=\u001b[0m\u001b[0mout\u001b[0m\u001b[1;33m,\u001b[0m \u001b[1;33m**\u001b[0m\u001b[0mkwargs\u001b[0m\u001b[1;33m)\u001b[0m\u001b[1;33m\u001b[0m\u001b[0m\n\u001b[0;32m   1881\u001b[0m     return _methods._sum(a, axis=axis, dtype=dtype,\n\u001b[1;32m-> 1882\u001b[1;33m                          out=out, **kwargs)\n\u001b[0m\u001b[0;32m   1883\u001b[0m \u001b[1;33m\u001b[0m\u001b[0m\n\u001b[0;32m   1884\u001b[0m \u001b[1;33m\u001b[0m\u001b[0m\n",
      "\u001b[1;32mE:\\ProgramFiles\\Anaconda\\lib\\site-packages\\numpy\\core\\_methods.pyc\u001b[0m in \u001b[0;36m_sum\u001b[1;34m(a, axis, dtype, out, keepdims)\u001b[0m\n\u001b[0;32m     30\u001b[0m \u001b[1;33m\u001b[0m\u001b[0m\n\u001b[0;32m     31\u001b[0m \u001b[1;32mdef\u001b[0m \u001b[0m_sum\u001b[0m\u001b[1;33m(\u001b[0m\u001b[0ma\u001b[0m\u001b[1;33m,\u001b[0m \u001b[0maxis\u001b[0m\u001b[1;33m=\u001b[0m\u001b[0mNone\u001b[0m\u001b[1;33m,\u001b[0m \u001b[0mdtype\u001b[0m\u001b[1;33m=\u001b[0m\u001b[0mNone\u001b[0m\u001b[1;33m,\u001b[0m \u001b[0mout\u001b[0m\u001b[1;33m=\u001b[0m\u001b[0mNone\u001b[0m\u001b[1;33m,\u001b[0m \u001b[0mkeepdims\u001b[0m\u001b[1;33m=\u001b[0m\u001b[0mFalse\u001b[0m\u001b[1;33m)\u001b[0m\u001b[1;33m:\u001b[0m\u001b[1;33m\u001b[0m\u001b[0m\n\u001b[1;32m---> 32\u001b[1;33m     \u001b[1;32mreturn\u001b[0m \u001b[0mumr_sum\u001b[0m\u001b[1;33m(\u001b[0m\u001b[0ma\u001b[0m\u001b[1;33m,\u001b[0m \u001b[0maxis\u001b[0m\u001b[1;33m,\u001b[0m \u001b[0mdtype\u001b[0m\u001b[1;33m,\u001b[0m \u001b[0mout\u001b[0m\u001b[1;33m,\u001b[0m \u001b[0mkeepdims\u001b[0m\u001b[1;33m)\u001b[0m\u001b[1;33m\u001b[0m\u001b[0m\n\u001b[0m\u001b[0;32m     33\u001b[0m \u001b[1;33m\u001b[0m\u001b[0m\n\u001b[0;32m     34\u001b[0m \u001b[1;32mdef\u001b[0m \u001b[0m_prod\u001b[0m\u001b[1;33m(\u001b[0m\u001b[0ma\u001b[0m\u001b[1;33m,\u001b[0m \u001b[0maxis\u001b[0m\u001b[1;33m=\u001b[0m\u001b[0mNone\u001b[0m\u001b[1;33m,\u001b[0m \u001b[0mdtype\u001b[0m\u001b[1;33m=\u001b[0m\u001b[0mNone\u001b[0m\u001b[1;33m,\u001b[0m \u001b[0mout\u001b[0m\u001b[1;33m=\u001b[0m\u001b[0mNone\u001b[0m\u001b[1;33m,\u001b[0m \u001b[0mkeepdims\u001b[0m\u001b[1;33m=\u001b[0m\u001b[0mFalse\u001b[0m\u001b[1;33m)\u001b[0m\u001b[1;33m:\u001b[0m\u001b[1;33m\u001b[0m\u001b[0m\n",
      "\u001b[1;31mTypeError\u001b[0m: only integer scalar arrays can be converted to a scalar index"
     ]
    }
   ],
   "source": [
    "rdf = dataset.head(1).values.tolist()[0]\n",
    "is_sigmoid(rdf, vectors, rvector)"
   ]
  },
  {
   "cell_type": "markdown",
   "metadata": {},
   "source": [
    "## 10 Fold Cross Validation, SVM & PRFS"
   ]
  },
  {
   "cell_type": "code",
   "execution_count": 19,
   "metadata": {},
   "outputs": [],
   "source": [
    "from sklearn.metrics import precision_recall_fscore_support\n",
    "from sklearn.model_selection import train_test_split\n",
    "from sklearn.model_selection import KFold\n",
    "from sklearn.svm import SVC\n",
    "\n",
    "def get_f1_from_svm(xtrain, ytrain, xtest, ytest, C):\n",
    "    c = SVC(C=C).fit(xtrain,ytrain)\n",
    "    return precision_recall_fscore_support(ytest, c.predict(xtest))[:,0]\n",
    "\n",
    "def foreach_C(xtrain,ytrain,xtunning,ytunning,C=[0.1,1,10,100]):\n",
    "    f1s = list()\n",
    "    for c in C:\n",
    "        f1s.append(get_f1_from_svm(xtrain,ytrain,xtunning,ytunning, c))\n",
    "    return f1s\n",
    "\n",
    "def foreachKfold(xset,yset,kfold=10):\n",
    "    meanList = list()\n",
    "    kf = KFold(n_splits=10, shuffle=False)\n",
    "    for trainI, testI in kf.split(xset):\n",
    "        xtrain = xset[trainI]\n",
    "        ytrain = yset[trainI]\n",
    "        xtest = xset[testI]\n",
    "        ytest = yset[testI]\n",
    "        meanList.append(foreach_C(xtrain,xtest,ytrain,ytest))\n",
    "        \n",
    "    return meanList\n",
    "\n"
   ]
  },
  {
   "cell_type": "code",
   "execution_count": 21,
   "metadata": {},
   "outputs": [],
   "source": [
    "## foreachKfold(xset,yset)"
   ]
  }
 ],
 "metadata": {
  "kernelspec": {
   "display_name": "Python 2",
   "language": "python",
   "name": "python2"
  },
  "language_info": {
   "codemirror_mode": {
    "name": "ipython",
    "version": 2
   },
   "file_extension": ".py",
   "mimetype": "text/x-python",
   "name": "python",
   "nbconvert_exporter": "python",
   "pygments_lexer": "ipython2",
   "version": "2.7.15"
  }
 },
 "nbformat": 4,
 "nbformat_minor": 2
}
