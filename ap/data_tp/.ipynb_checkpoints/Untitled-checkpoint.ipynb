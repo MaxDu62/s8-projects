{
 "cells": [
  {
   "cell_type": "markdown",
   "metadata": {},
   "source": [
    "# Data TP"
   ]
  },
  {
   "cell_type": "markdown",
   "metadata": {},
   "source": [
    "## Import librairies and databases"
   ]
  },
  {
   "cell_type": "code",
   "execution_count": 1,
   "metadata": {},
   "outputs": [],
   "source": [
    "import pandas\n",
    "import numpy"
   ]
  },
  {
   "cell_type": "code",
   "execution_count": 2,
   "metadata": {},
   "outputs": [],
   "source": [
    "dataset = pandas.read_csv('.\\\\google\\\\data\\\\train.txt', delimiter=\" \", names=[\"heads\",\"tails\",\"relation\"])"
   ]
  },
  {
   "cell_type": "code",
   "execution_count": 3,
   "metadata": {},
   "outputs": [
    {
     "data": {
      "text/html": [
       "<div>\n",
       "<style scoped>\n",
       "    .dataframe tbody tr th:only-of-type {\n",
       "        vertical-align: middle;\n",
       "    }\n",
       "\n",
       "    .dataframe tbody tr th {\n",
       "        vertical-align: top;\n",
       "    }\n",
       "\n",
       "    .dataframe thead th {\n",
       "        text-align: right;\n",
       "    }\n",
       "</style>\n",
       "<table border=\"1\" class=\"dataframe\">\n",
       "  <thead>\n",
       "    <tr style=\"text-align: right;\">\n",
       "      <th></th>\n",
       "      <th>heads</th>\n",
       "      <th>tails</th>\n",
       "      <th>relation</th>\n",
       "    </tr>\n",
       "  </thead>\n",
       "  <tbody>\n",
       "    <tr>\n",
       "      <th>count</th>\n",
       "      <td>573</td>\n",
       "      <td>573</td>\n",
       "      <td>573</td>\n",
       "    </tr>\n",
       "    <tr>\n",
       "      <th>unique</th>\n",
       "      <td>474</td>\n",
       "      <td>506</td>\n",
       "      <td>14</td>\n",
       "    </tr>\n",
       "    <tr>\n",
       "      <th>top</th>\n",
       "      <td>slow</td>\n",
       "      <td>california</td>\n",
       "      <td>capital-world</td>\n",
       "    </tr>\n",
       "    <tr>\n",
       "      <th>freq</th>\n",
       "      <td>5</td>\n",
       "      <td>12</td>\n",
       "      <td>116</td>\n",
       "    </tr>\n",
       "  </tbody>\n",
       "</table>\n",
       "</div>"
      ],
      "text/plain": [
       "       heads       tails       relation\n",
       "count    573         573            573\n",
       "unique   474         506             14\n",
       "top     slow  california  capital-world\n",
       "freq       5          12            116"
      ]
     },
     "execution_count": 3,
     "metadata": {},
     "output_type": "execute_result"
    }
   ],
   "source": [
    "dataset.describe()"
   ]
  },
  {
   "cell_type": "code",
   "execution_count": 4,
   "metadata": {},
   "outputs": [
    {
     "data": {
      "text/plain": [
       "(573, 3)"
      ]
     },
     "execution_count": 4,
     "metadata": {},
     "output_type": "execute_result"
    }
   ],
   "source": [
    "dataset.shape"
   ]
  },
  {
   "cell_type": "code",
   "execution_count": 5,
   "metadata": {},
   "outputs": [
    {
     "data": {
      "text/html": [
       "<div>\n",
       "<style scoped>\n",
       "    .dataframe tbody tr th:only-of-type {\n",
       "        vertical-align: middle;\n",
       "    }\n",
       "\n",
       "    .dataframe tbody tr th {\n",
       "        vertical-align: top;\n",
       "    }\n",
       "\n",
       "    .dataframe thead th {\n",
       "        text-align: right;\n",
       "    }\n",
       "</style>\n",
       "<table border=\"1\" class=\"dataframe\">\n",
       "  <thead>\n",
       "    <tr style=\"text-align: right;\">\n",
       "      <th></th>\n",
       "      <th>heads</th>\n",
       "      <th>tails</th>\n",
       "      <th>relation</th>\n",
       "    </tr>\n",
       "  </thead>\n",
       "  <tbody>\n",
       "    <tr>\n",
       "      <th>0</th>\n",
       "      <td>madrid</td>\n",
       "      <td>spain</td>\n",
       "      <td>capital-common-countries</td>\n",
       "    </tr>\n",
       "    <tr>\n",
       "      <th>1</th>\n",
       "      <td>ottawa</td>\n",
       "      <td>canada</td>\n",
       "      <td>capital-common-countries</td>\n",
       "    </tr>\n",
       "    <tr>\n",
       "      <th>2</th>\n",
       "      <td>cairo</td>\n",
       "      <td>egypt</td>\n",
       "      <td>capital-common-countries</td>\n",
       "    </tr>\n",
       "    <tr>\n",
       "      <th>3</th>\n",
       "      <td>paris</td>\n",
       "      <td>france</td>\n",
       "      <td>capital-common-countries</td>\n",
       "    </tr>\n",
       "    <tr>\n",
       "      <th>4</th>\n",
       "      <td>bern</td>\n",
       "      <td>switzerland</td>\n",
       "      <td>capital-common-countries</td>\n",
       "    </tr>\n",
       "  </tbody>\n",
       "</table>\n",
       "</div>"
      ],
      "text/plain": [
       "    heads        tails                  relation\n",
       "0  madrid        spain  capital-common-countries\n",
       "1  ottawa       canada  capital-common-countries\n",
       "2   cairo        egypt  capital-common-countries\n",
       "3   paris       france  capital-common-countries\n",
       "4    bern  switzerland  capital-common-countries"
      ]
     },
     "execution_count": 5,
     "metadata": {},
     "output_type": "execute_result"
    }
   ],
   "source": [
    "dataset.head()"
   ]
  },
  {
   "cell_type": "markdown",
   "metadata": {},
   "source": [
    "## Load Vectors"
   ]
  },
  {
   "cell_type": "code",
   "execution_count": 6,
   "metadata": {},
   "outputs": [],
   "source": [
    "def load_vectors(file_path):\n",
    "    resultDict = dict()\n",
    "    with open(file_path) as f:\n",
    "        raw_text = f.read()\n",
    "        for raw_line in raw_text.split(\"\\n\")[:-1]:\n",
    "            ind = raw_line.index(\" \")\n",
    "            resultDict[raw_line[:ind]] = numpy.array(raw_line[ind+1:].split(\" \"), dtype=numpy.float64)\n",
    "        \n",
    "    return resultDict\n",
    "\n",
    "def formatPattern(algo, columns_value, file_name):\n",
    "    return '.\\\\google\\\\{}\\\\subspaces\\\\{}\\\\{}.txt'.format(algo, columns_value, file_name)"
   ]
  },
  {
   "cell_type": "code",
   "execution_count": 7,
   "metadata": {},
   "outputs": [],
   "source": [
    "vectors = {\"heads\": dict(), \"tails\": dict()}\n",
    "\n",
    "for file_name in vectors.keys():\n",
    "    for columns_value in set(dataset['relation'].values):\n",
    "        file_dir = formatPattern('gloveCC', columns_value, file_name)\n",
    "        vectors[file_name][columns_value] = load_vectors(file_dir)\n"
   ]
  },
  {
   "cell_type": "markdown",
   "metadata": {},
   "source": [
    "## Replace values in dataframe"
   ]
  },
  {
   "cell_type": "code",
   "execution_count": 8,
   "metadata": {},
   "outputs": [],
   "source": [
    "def minus_of_two_vector(v1, v2):\n",
    "    return v2 - v1\n",
    "\n",
    "def replace_values(dataframe, vectorsDict):\n",
    "    resultdf = dataframe.to_dict()\n",
    "    resultdf['tail-head'] = dict()\n",
    "    to_remove = list()\n",
    "    for indice in range(len(resultdf['relation'])):\n",
    "        head = resultdf['heads'][indice]\n",
    "        tail = resultdf['tails'][indice]\n",
    "        relation = resultdf['relation'][indice]\n",
    "        \n",
    "        try:\n",
    "            vh = vectorsDict['heads'][relation][head]\n",
    "            resultdf['heads'][indice] = vh\n",
    "            \n",
    "            try:\n",
    "                vt = vectorsDict['tails'][relation][tail]\n",
    "                resultdf['tails'][indice] = vt\n",
    "                \n",
    "                resultdf['tail-head'][indice]  = minus_of_two_vector(vt, vh)\n",
    "            except:\n",
    "                print(\"no vector for (relation:%s, tail:%s) \" % (relation, tail))\n",
    "                to_remove.append(indice)\n",
    "        except:\n",
    "            print(\"no vector for (relation:%s, head:%s) \" % (relation, head))\n",
    "            to_remove.append(indice)\n",
    "    \n",
    "    for indice in to_remove:\n",
    "        del(resultdf['heads'][indice])\n",
    "        del(resultdf['tails'][indice])\n",
    "        del(resultdf['relation'][indice])\n",
    "        \n",
    "    return resultdf\n"
   ]
  },
  {
   "cell_type": "code",
   "execution_count": 9,
   "metadata": {},
   "outputs": [
    {
     "name": "stdout",
     "output_type": "stream",
     "text": [
      "no vector for (relation:capital-world, head:funafuti) \n",
      "no vector for (relation:capital-world, head:ashgabat) \n",
      "no vector for (relation:capital-world, head:belmopan) \n",
      "no vector for (relation:capital-world, head:thimphu) \n",
      "no vector for (relation:capital-world, head:niamey) \n",
      "no vector for (relation:capital-world, head:nouakchott) \n",
      "no vector for (relation:capital-world, head:nuuk) \n",
      "no vector for (relation:capital-world, head:podgorica) \n",
      "no vector for (relation:capital-world, head:vaduz) \n"
     ]
    }
   ],
   "source": [
    "dataset2 = replace_values(dataset, vectors)"
   ]
  },
  {
   "cell_type": "code",
   "execution_count": 10,
   "metadata": {},
   "outputs": [
    {
     "data": {
      "text/plain": [
       "['tail-head', 'tails', 'heads', 'relation']"
      ]
     },
     "execution_count": 10,
     "metadata": {},
     "output_type": "execute_result"
    }
   ],
   "source": [
    "dataset2.keys()"
   ]
  },
  {
   "cell_type": "code",
   "execution_count": 11,
   "metadata": {},
   "outputs": [],
   "source": [
    "dataset2pd = pandas.DataFrame({\n",
    "    'tails': dataset2['tails'].values(),\n",
    "    'heads': dataset2['heads'].values(),\n",
    "    'tail-head': dataset2['tail-head'].values(),\n",
    "    'relation': dataset2['relation'].values()\n",
    "})"
   ]
  },
  {
   "cell_type": "code",
   "execution_count": 12,
   "metadata": {},
   "outputs": [
    {
     "data": {
      "text/plain": [
       "(564, 4)"
      ]
     },
     "execution_count": 12,
     "metadata": {},
     "output_type": "execute_result"
    }
   ],
   "source": [
    "dataset2pd.shape"
   ]
  },
  {
   "cell_type": "code",
   "execution_count": 13,
   "metadata": {},
   "outputs": [
    {
     "data": {
      "text/html": [
       "<div>\n",
       "<style scoped>\n",
       "    .dataframe tbody tr th:only-of-type {\n",
       "        vertical-align: middle;\n",
       "    }\n",
       "\n",
       "    .dataframe tbody tr th {\n",
       "        vertical-align: top;\n",
       "    }\n",
       "\n",
       "    .dataframe thead th {\n",
       "        text-align: right;\n",
       "    }\n",
       "</style>\n",
       "<table border=\"1\" class=\"dataframe\">\n",
       "  <thead>\n",
       "    <tr style=\"text-align: right;\">\n",
       "      <th></th>\n",
       "      <th>heads</th>\n",
       "      <th>relation</th>\n",
       "      <th>tail-head</th>\n",
       "      <th>tails</th>\n",
       "    </tr>\n",
       "  </thead>\n",
       "  <tbody>\n",
       "    <tr>\n",
       "      <th>0</th>\n",
       "      <td>[0.26001, -0.53344, 0.22119, -0.16826, 0.58323...</td>\n",
       "      <td>capital-common-countries</td>\n",
       "      <td>[0.37982000000000005, -0.544826, 0.07153999999...</td>\n",
       "      <td>[-0.11981, 0.011386, 0.14965, -0.22285, 0.7112...</td>\n",
       "    </tr>\n",
       "    <tr>\n",
       "      <th>1</th>\n",
       "      <td>[0.14219, 0.01274, -0.5254, -0.60931, 1.263, 0...</td>\n",
       "      <td>capital-common-countries</td>\n",
       "      <td>[0.62044, -0.14634, -0.25031, 0.03849000000000...</td>\n",
       "      <td>[-0.47825, 0.15908, -0.27509, -0.6478, 0.76022...</td>\n",
       "    </tr>\n",
       "    <tr>\n",
       "      <th>2</th>\n",
       "      <td>[0.56629, -0.20355, -0.093943, -0.45198, 0.301...</td>\n",
       "      <td>capital-common-countries</td>\n",
       "      <td>[0.6181589999999999, 0.061919999999999975, -0....</td>\n",
       "      <td>[-0.051869, -0.26547, 0.034687, -0.45404, 0.26...</td>\n",
       "    </tr>\n",
       "    <tr>\n",
       "      <th>3</th>\n",
       "      <td>[0.35213, -0.074228, -0.23725, -0.32726, 0.539...</td>\n",
       "      <td>capital-common-countries</td>\n",
       "      <td>[0.51519, -0.527148, -0.09086999999999998, 0.3...</td>\n",
       "      <td>[-0.16306, 0.45292, -0.14638, -0.64332, 0.7901...</td>\n",
       "    </tr>\n",
       "    <tr>\n",
       "      <th>4</th>\n",
       "      <td>[0.57031, 0.077812, 0.062999, -0.23876, 0.1227...</td>\n",
       "      <td>capital-common-countries</td>\n",
       "      <td>[0.45715, -0.088938, 0.34333899999999995, -0.0...</td>\n",
       "      <td>[0.11316, 0.16675, -0.28034, -0.18965, 0.61872...</td>\n",
       "    </tr>\n",
       "  </tbody>\n",
       "</table>\n",
       "</div>"
      ],
      "text/plain": [
       "                                               heads  \\\n",
       "0  [0.26001, -0.53344, 0.22119, -0.16826, 0.58323...   \n",
       "1  [0.14219, 0.01274, -0.5254, -0.60931, 1.263, 0...   \n",
       "2  [0.56629, -0.20355, -0.093943, -0.45198, 0.301...   \n",
       "3  [0.35213, -0.074228, -0.23725, -0.32726, 0.539...   \n",
       "4  [0.57031, 0.077812, 0.062999, -0.23876, 0.1227...   \n",
       "\n",
       "                   relation  \\\n",
       "0  capital-common-countries   \n",
       "1  capital-common-countries   \n",
       "2  capital-common-countries   \n",
       "3  capital-common-countries   \n",
       "4  capital-common-countries   \n",
       "\n",
       "                                           tail-head  \\\n",
       "0  [0.37982000000000005, -0.544826, 0.07153999999...   \n",
       "1  [0.62044, -0.14634, -0.25031, 0.03849000000000...   \n",
       "2  [0.6181589999999999, 0.061919999999999975, -0....   \n",
       "3  [0.51519, -0.527148, -0.09086999999999998, 0.3...   \n",
       "4  [0.45715, -0.088938, 0.34333899999999995, -0.0...   \n",
       "\n",
       "                                               tails  \n",
       "0  [-0.11981, 0.011386, 0.14965, -0.22285, 0.7112...  \n",
       "1  [-0.47825, 0.15908, -0.27509, -0.6478, 0.76022...  \n",
       "2  [-0.051869, -0.26547, 0.034687, -0.45404, 0.26...  \n",
       "3  [-0.16306, 0.45292, -0.14638, -0.64332, 0.7901...  \n",
       "4  [0.11316, 0.16675, -0.28034, -0.18965, 0.61872...  "
      ]
     },
     "execution_count": 13,
     "metadata": {},
     "output_type": "execute_result"
    }
   ],
   "source": [
    "dataset2pd.head()"
   ]
  },
  {
   "cell_type": "markdown",
   "metadata": {},
   "source": [
    "## Compute Sum of substraction of heads_i and tails_i for each relation_j"
   ]
  },
  {
   "cell_type": "code",
   "execution_count": 14,
   "metadata": {},
   "outputs": [],
   "source": [
    "def sum_of_vectors(th, rel):\n",
    "    tmp_vector = numpy.zeros(300, dtype=numpy.float64)\n",
    "    tmp_relation = \"capital-common-countries\"\n",
    "    resultDict = dict()\n",
    "    \n",
    "    for indice in range(len(rel)):\n",
    "        if tmp_relation != rel[indice]:\n",
    "            resultDict[tmp_relation] = tmp_vector\n",
    "            tmp_vector = numpy.zeros(300, dtype=numpy.float64)\n",
    "            tmp_relation = rel[indice]\n",
    "        \n",
    "        tmp_vector += th[indice]\n",
    "    \n",
    "    return resultDict\n",
    "        "
   ]
  },
  {
   "cell_type": "code",
   "execution_count": 15,
   "metadata": {},
   "outputs": [
    {
     "data": {
      "text/html": [
       "<div>\n",
       "<style scoped>\n",
       "    .dataframe tbody tr th:only-of-type {\n",
       "        vertical-align: middle;\n",
       "    }\n",
       "\n",
       "    .dataframe tbody tr th {\n",
       "        vertical-align: top;\n",
       "    }\n",
       "\n",
       "    .dataframe thead th {\n",
       "        text-align: right;\n",
       "    }\n",
       "</style>\n",
       "<table border=\"1\" class=\"dataframe\">\n",
       "  <thead>\n",
       "    <tr style=\"text-align: right;\">\n",
       "      <th></th>\n",
       "      <th>relation</th>\n",
       "      <th>tail-head</th>\n",
       "    </tr>\n",
       "  </thead>\n",
       "  <tbody>\n",
       "    <tr>\n",
       "      <th>0</th>\n",
       "      <td>gram3-comparative</td>\n",
       "      <td>[3.8964215, 9.063753200000003, -3.39187844, 8....</td>\n",
       "    </tr>\n",
       "    <tr>\n",
       "      <th>1</th>\n",
       "      <td>gram8-plural</td>\n",
       "      <td>[-0.2853519999999997, 2.744684, 7.056154499999...</td>\n",
       "    </tr>\n",
       "    <tr>\n",
       "      <th>2</th>\n",
       "      <td>capital-common-countries</td>\n",
       "      <td>[14.132558, -5.571179, -1.0889667000000005, -0...</td>\n",
       "    </tr>\n",
       "    <tr>\n",
       "      <th>3</th>\n",
       "      <td>city-in-state</td>\n",
       "      <td>[23.971326700000006, -20.49283730000001, 3.294...</td>\n",
       "    </tr>\n",
       "    <tr>\n",
       "      <th>4</th>\n",
       "      <td>family</td>\n",
       "      <td>[-2.0846617999999997, -1.9598501999999993, 0.6...</td>\n",
       "    </tr>\n",
       "    <tr>\n",
       "      <th>5</th>\n",
       "      <td>gram2-opposite</td>\n",
       "      <td>[5.606883399999999, 3.4610384000000005, -10.07...</td>\n",
       "    </tr>\n",
       "    <tr>\n",
       "      <th>6</th>\n",
       "      <td>currency</td>\n",
       "      <td>[-1.0740174000000002, 11.681611100000001, -10....</td>\n",
       "    </tr>\n",
       "    <tr>\n",
       "      <th>7</th>\n",
       "      <td>gram4-superlative</td>\n",
       "      <td>[-0.5581699999999998, 7.434804200000002, -9.40...</td>\n",
       "    </tr>\n",
       "    <tr>\n",
       "      <th>8</th>\n",
       "      <td>gram6-nationality-adjective</td>\n",
       "      <td>[1.4133598999999997, 7.619784900000003, 5.9648...</td>\n",
       "    </tr>\n",
       "    <tr>\n",
       "      <th>9</th>\n",
       "      <td>gram7-past-tense</td>\n",
       "      <td>[-1.2233522, 1.5909859000000008, -9.7138505000...</td>\n",
       "    </tr>\n",
       "    <tr>\n",
       "      <th>10</th>\n",
       "      <td>gram5-present-participle</td>\n",
       "      <td>[-0.7446217999999999, 0.7549673200000002, 1.55...</td>\n",
       "    </tr>\n",
       "    <tr>\n",
       "      <th>11</th>\n",
       "      <td>capital-world</td>\n",
       "      <td>[56.58304679999998, -20.745819100000002, -1.75...</td>\n",
       "    </tr>\n",
       "    <tr>\n",
       "      <th>12</th>\n",
       "      <td>gram1-adjective-to-adverb</td>\n",
       "      <td>[-4.637382999999999, 8.7011926, 0.75025185, 2....</td>\n",
       "    </tr>\n",
       "  </tbody>\n",
       "</table>\n",
       "</div>"
      ],
      "text/plain": [
       "                       relation  \\\n",
       "0             gram3-comparative   \n",
       "1                  gram8-plural   \n",
       "2      capital-common-countries   \n",
       "3                 city-in-state   \n",
       "4                        family   \n",
       "5                gram2-opposite   \n",
       "6                      currency   \n",
       "7             gram4-superlative   \n",
       "8   gram6-nationality-adjective   \n",
       "9              gram7-past-tense   \n",
       "10     gram5-present-participle   \n",
       "11                capital-world   \n",
       "12    gram1-adjective-to-adverb   \n",
       "\n",
       "                                            tail-head  \n",
       "0   [3.8964215, 9.063753200000003, -3.39187844, 8....  \n",
       "1   [-0.2853519999999997, 2.744684, 7.056154499999...  \n",
       "2   [14.132558, -5.571179, -1.0889667000000005, -0...  \n",
       "3   [23.971326700000006, -20.49283730000001, 3.294...  \n",
       "4   [-2.0846617999999997, -1.9598501999999993, 0.6...  \n",
       "5   [5.606883399999999, 3.4610384000000005, -10.07...  \n",
       "6   [-1.0740174000000002, 11.681611100000001, -10....  \n",
       "7   [-0.5581699999999998, 7.434804200000002, -9.40...  \n",
       "8   [1.4133598999999997, 7.619784900000003, 5.9648...  \n",
       "9   [-1.2233522, 1.5909859000000008, -9.7138505000...  \n",
       "10  [-0.7446217999999999, 0.7549673200000002, 1.55...  \n",
       "11  [56.58304679999998, -20.745819100000002, -1.75...  \n",
       "12  [-4.637382999999999, 8.7011926, 0.75025185, 2....  "
      ]
     },
     "execution_count": 15,
     "metadata": {},
     "output_type": "execute_result"
    }
   ],
   "source": [
    "sigmoid_vectors_dict = sum_of_vectors(dataset2pd[\"tail-head\"], dataset2pd[\"relation\"])\n",
    "sigmoid_vectors = pandas.DataFrame({\n",
    "    \"relation\": sigmoid_vectors_dict.keys(),\n",
    "    \"tail-head\": sigmoid_vectors_dict.values()\n",
    "})\n",
    "\n",
    "sigmoid_vectors"
   ]
  },
  {
   "cell_type": "markdown",
   "metadata": {},
   "source": [
    "## Split Dataset into Xset and Yset"
   ]
  },
  {
   "cell_type": "code",
   "execution_count": 28,
   "metadata": {},
   "outputs": [],
   "source": [
    "xset = sigmoid_vectors.iloc[:,[1]]\n",
    "yset = sigmoid_vectors.iloc[:,[0]]"
   ]
  },
  {
   "cell_type": "code",
   "execution_count": 29,
   "metadata": {},
   "outputs": [
    {
     "data": {
      "text/html": [
       "<div>\n",
       "<style scoped>\n",
       "    .dataframe tbody tr th:only-of-type {\n",
       "        vertical-align: middle;\n",
       "    }\n",
       "\n",
       "    .dataframe tbody tr th {\n",
       "        vertical-align: top;\n",
       "    }\n",
       "\n",
       "    .dataframe thead th {\n",
       "        text-align: right;\n",
       "    }\n",
       "</style>\n",
       "<table border=\"1\" class=\"dataframe\">\n",
       "  <thead>\n",
       "    <tr style=\"text-align: right;\">\n",
       "      <th></th>\n",
       "      <th>tail-head</th>\n",
       "    </tr>\n",
       "  </thead>\n",
       "  <tbody>\n",
       "    <tr>\n",
       "      <th>0</th>\n",
       "      <td>[3.8964215, 9.063753200000003, -3.39187844, 8....</td>\n",
       "    </tr>\n",
       "    <tr>\n",
       "      <th>1</th>\n",
       "      <td>[-0.2853519999999997, 2.744684, 7.056154499999...</td>\n",
       "    </tr>\n",
       "    <tr>\n",
       "      <th>2</th>\n",
       "      <td>[14.132558, -5.571179, -1.0889667000000005, -0...</td>\n",
       "    </tr>\n",
       "    <tr>\n",
       "      <th>3</th>\n",
       "      <td>[23.971326700000006, -20.49283730000001, 3.294...</td>\n",
       "    </tr>\n",
       "    <tr>\n",
       "      <th>4</th>\n",
       "      <td>[-2.0846617999999997, -1.9598501999999993, 0.6...</td>\n",
       "    </tr>\n",
       "  </tbody>\n",
       "</table>\n",
       "</div>"
      ],
      "text/plain": [
       "                                           tail-head\n",
       "0  [3.8964215, 9.063753200000003, -3.39187844, 8....\n",
       "1  [-0.2853519999999997, 2.744684, 7.056154499999...\n",
       "2  [14.132558, -5.571179, -1.0889667000000005, -0...\n",
       "3  [23.971326700000006, -20.49283730000001, 3.294...\n",
       "4  [-2.0846617999999997, -1.9598501999999993, 0.6..."
      ]
     },
     "execution_count": 29,
     "metadata": {},
     "output_type": "execute_result"
    }
   ],
   "source": [
    "xset.head()"
   ]
  },
  {
   "cell_type": "code",
   "execution_count": 30,
   "metadata": {},
   "outputs": [
    {
     "data": {
      "text/html": [
       "<div>\n",
       "<style scoped>\n",
       "    .dataframe tbody tr th:only-of-type {\n",
       "        vertical-align: middle;\n",
       "    }\n",
       "\n",
       "    .dataframe tbody tr th {\n",
       "        vertical-align: top;\n",
       "    }\n",
       "\n",
       "    .dataframe thead th {\n",
       "        text-align: right;\n",
       "    }\n",
       "</style>\n",
       "<table border=\"1\" class=\"dataframe\">\n",
       "  <thead>\n",
       "    <tr style=\"text-align: right;\">\n",
       "      <th></th>\n",
       "      <th>relation</th>\n",
       "    </tr>\n",
       "  </thead>\n",
       "  <tbody>\n",
       "    <tr>\n",
       "      <th>0</th>\n",
       "      <td>gram3-comparative</td>\n",
       "    </tr>\n",
       "    <tr>\n",
       "      <th>1</th>\n",
       "      <td>gram8-plural</td>\n",
       "    </tr>\n",
       "    <tr>\n",
       "      <th>2</th>\n",
       "      <td>capital-common-countries</td>\n",
       "    </tr>\n",
       "    <tr>\n",
       "      <th>3</th>\n",
       "      <td>city-in-state</td>\n",
       "    </tr>\n",
       "    <tr>\n",
       "      <th>4</th>\n",
       "      <td>family</td>\n",
       "    </tr>\n",
       "  </tbody>\n",
       "</table>\n",
       "</div>"
      ],
      "text/plain": [
       "                   relation\n",
       "0         gram3-comparative\n",
       "1              gram8-plural\n",
       "2  capital-common-countries\n",
       "3             city-in-state\n",
       "4                    family"
      ]
     },
     "execution_count": 30,
     "metadata": {},
     "output_type": "execute_result"
    }
   ],
   "source": [
    "yset.head()"
   ]
  },
  {
   "cell_type": "markdown",
   "metadata": {},
   "source": [
    "## Use sigmoid function to awser the membership of one RDF tuple"
   ]
  },
  {
   "cell_type": "code",
   "execution_count": 31,
   "metadata": {},
   "outputs": [],
   "source": [
    "def is_sigmoid(rfd_array, vectors_dict, rvector):\n",
    "    \n",
    "    try:\n",
    "        rv = vectors_dict[\"heads\"][rfd_array[2]][rfd_array[0]]\n",
    "    except: \n",
    "        print(\"there is no vector equivalance for head %s: %s\" % (rfd_array[0], rfd_array[2]))\n",
    "        return 0\n",
    "\n",
    "    try:\n",
    "        fv = vectors_dict[\"tails\"][rfd_array[2]][rfd_array[1]]\n",
    "    except: \n",
    "        print(\"there is no vector equivalance for tail %s: %s\" % (rfd_array[1], rfd_array[2]))\n",
    "        return 0\n",
    "    \n",
    "    return (rv + rvector) * fv"
   ]
  },
  {
   "cell_type": "markdown",
   "metadata": {},
   "source": [
    "### Some checks"
   ]
  },
  {
   "cell_type": "code",
   "execution_count": 32,
   "metadata": {},
   "outputs": [
    {
     "name": "stdout",
     "output_type": "stream",
     "text": [
      "(13, 1)\n",
      "(13, 1)\n",
      "there is exactly the same number of rows ? True\n",
      "All rows contains vectors of 300 dim ?: True\n"
     ]
    }
   ],
   "source": [
    "print(xset.shape)\n",
    "print(yset.shape)\n",
    "print(\"there is exactly the same number of rows ? %r\" % (yset.shape[0] == xset.shape[0]))\n",
    "\n",
    "xsetLen = set()\n",
    "for line in xset.iterrows():\n",
    "    xsetLen.add(len(line[1]['tail-head']))\n",
    "    \n",
    "print(\"All rows contains vectors of 300 dim ?: %r\" % (xsetLen == set([300])))\n"
   ]
  },
  {
   "cell_type": "markdown",
   "metadata": {},
   "source": [
    "## Transform numpy array into dataframe row"
   ]
  },
  {
   "cell_type": "code",
   "execution_count": 46,
   "metadata": {},
   "outputs": [],
   "source": [
    "def nparray_to_pandasrow(rows_list):\n",
    "    xset = pandas.DataFrame(columns=range(300))\n",
    "    \n",
    "    for row in rows_list:\n",
    "        xset.loc[len(xset)] = row[0]\n",
    "\n",
    "    return xset"
   ]
  },
  {
   "cell_type": "code",
   "execution_count": 52,
   "metadata": {},
   "outputs": [],
   "source": [
    "xset_formated = nparray_to_pandasrow(xset.values.tolist())"
   ]
  },
  {
   "cell_type": "code",
   "execution_count": 53,
   "metadata": {},
   "outputs": [
    {
     "data": {
      "text/plain": [
       "(13, 300)"
      ]
     },
     "execution_count": 53,
     "metadata": {},
     "output_type": "execute_result"
    }
   ],
   "source": [
    "xset_formated.shape"
   ]
  },
  {
   "cell_type": "code",
   "execution_count": 54,
   "metadata": {},
   "outputs": [
    {
     "data": {
      "text/html": [
       "<div>\n",
       "<style scoped>\n",
       "    .dataframe tbody tr th:only-of-type {\n",
       "        vertical-align: middle;\n",
       "    }\n",
       "\n",
       "    .dataframe tbody tr th {\n",
       "        vertical-align: top;\n",
       "    }\n",
       "\n",
       "    .dataframe thead th {\n",
       "        text-align: right;\n",
       "    }\n",
       "</style>\n",
       "<table border=\"1\" class=\"dataframe\">\n",
       "  <thead>\n",
       "    <tr style=\"text-align: right;\">\n",
       "      <th></th>\n",
       "      <th>0</th>\n",
       "      <th>1</th>\n",
       "      <th>2</th>\n",
       "      <th>3</th>\n",
       "      <th>4</th>\n",
       "      <th>5</th>\n",
       "      <th>6</th>\n",
       "      <th>7</th>\n",
       "      <th>8</th>\n",
       "      <th>9</th>\n",
       "      <th>...</th>\n",
       "      <th>290</th>\n",
       "      <th>291</th>\n",
       "      <th>292</th>\n",
       "      <th>293</th>\n",
       "      <th>294</th>\n",
       "      <th>295</th>\n",
       "      <th>296</th>\n",
       "      <th>297</th>\n",
       "      <th>298</th>\n",
       "      <th>299</th>\n",
       "    </tr>\n",
       "  </thead>\n",
       "  <tbody>\n",
       "    <tr>\n",
       "      <th>0</th>\n",
       "      <td>3.896422</td>\n",
       "      <td>9.063753</td>\n",
       "      <td>-3.391878</td>\n",
       "      <td>8.998290</td>\n",
       "      <td>4.755328</td>\n",
       "      <td>9.429323</td>\n",
       "      <td>-6.520929</td>\n",
       "      <td>-4.921704</td>\n",
       "      <td>4.221010</td>\n",
       "      <td>11.229740</td>\n",
       "      <td>...</td>\n",
       "      <td>4.623910</td>\n",
       "      <td>8.694409</td>\n",
       "      <td>-3.506263</td>\n",
       "      <td>-3.933668</td>\n",
       "      <td>-3.172144</td>\n",
       "      <td>1.785734</td>\n",
       "      <td>10.161419</td>\n",
       "      <td>5.556124</td>\n",
       "      <td>-9.589117</td>\n",
       "      <td>-7.443369</td>\n",
       "    </tr>\n",
       "    <tr>\n",
       "      <th>1</th>\n",
       "      <td>-0.285352</td>\n",
       "      <td>2.744684</td>\n",
       "      <td>7.056154</td>\n",
       "      <td>9.485303</td>\n",
       "      <td>5.100366</td>\n",
       "      <td>0.080983</td>\n",
       "      <td>3.867823</td>\n",
       "      <td>-6.730273</td>\n",
       "      <td>2.143074</td>\n",
       "      <td>-3.955902</td>\n",
       "      <td>...</td>\n",
       "      <td>4.099639</td>\n",
       "      <td>9.810066</td>\n",
       "      <td>0.222105</td>\n",
       "      <td>1.452095</td>\n",
       "      <td>6.597358</td>\n",
       "      <td>-4.978817</td>\n",
       "      <td>-1.703652</td>\n",
       "      <td>6.796394</td>\n",
       "      <td>0.063209</td>\n",
       "      <td>5.433376</td>\n",
       "    </tr>\n",
       "  </tbody>\n",
       "</table>\n",
       "<p>2 rows × 300 columns</p>\n",
       "</div>"
      ],
      "text/plain": [
       "        0         1         2         3         4         5         6    \\\n",
       "0  3.896422  9.063753 -3.391878  8.998290  4.755328  9.429323 -6.520929   \n",
       "1 -0.285352  2.744684  7.056154  9.485303  5.100366  0.080983  3.867823   \n",
       "\n",
       "        7         8          9      ...          290       291       292  \\\n",
       "0 -4.921704  4.221010  11.229740    ...     4.623910  8.694409 -3.506263   \n",
       "1 -6.730273  2.143074  -3.955902    ...     4.099639  9.810066  0.222105   \n",
       "\n",
       "        293       294       295        296       297       298       299  \n",
       "0 -3.933668 -3.172144  1.785734  10.161419  5.556124 -9.589117 -7.443369  \n",
       "1  1.452095  6.597358 -4.978817  -1.703652  6.796394  0.063209  5.433376  \n",
       "\n",
       "[2 rows x 300 columns]"
      ]
     },
     "execution_count": 54,
     "metadata": {},
     "output_type": "execute_result"
    }
   ],
   "source": [
    "xset_formated.head(2)"
   ]
  },
  {
   "cell_type": "markdown",
   "metadata": {},
   "source": [
    "## 10 Fold Cross Validation, SVM & PRFS"
   ]
  },
  {
   "cell_type": "code",
   "execution_count": 66,
   "metadata": {},
   "outputs": [],
   "source": [
    "from sklearn.metrics import precision_recall_fscore_support\n",
    "from sklearn.preprocessing import MultiLabelBinarizer\n",
    "from sklearn.cross_validation import KFold\n",
    "from sklearn.svm import SVC\n",
    "\n",
    "def get_mean_f1_from_svm(svm, xtest, ytest):\n",
    "    return numpy.mean(precision_recall_fscore_support(ytest, svm.predict(xtest))[2])\n",
    "\n",
    "def get_svm_class(xtrain,ytrain,c=1):\n",
    "    return SVC(C=c).fit(xtrain,ytrain)\n",
    "\n",
    "def get_for_svc_c(xtrain,ytrain,xtest,ytest,C=[0.1,1,10,100]):\n",
    "    return [get_mean_f1_from_svm(get_svm_class(xtrain,ytrain,c),xtest,ytest) for c in C]\n",
    "\n",
    "def split_and_get_mean_f1(xset,yset,n_folds=10,C=1):\n",
    "    resultSet = list()\n",
    "    kf = KFold(n=len(yset['relation']), n_folds=n_folds, shuffle=True, random_state=None)\n",
    "    for train_index, test_index in kf:\n",
    "        xtrain, xtest = xset.iloc[train_index], xset.iloc[test_index]\n",
    "        ytrain, ytest = yset.iloc[train_index], yset.iloc[test_index]\n",
    "        resultSet.append(get_for_svc_c(xtrain,ytrain,xtest,ytest))\n",
    "    return resultSet"
   ]
  },
  {
   "cell_type": "code",
   "execution_count": 68,
   "metadata": {},
   "outputs": [],
   "source": [
    "f1_array = split_and_get_mean_f1(xset_formated,yset)"
   ]
  }
 ],
 "metadata": {
  "kernelspec": {
   "display_name": "Python 2",
   "language": "python",
   "name": "python2"
  },
  "language_info": {
   "codemirror_mode": {
    "name": "ipython",
    "version": 2
   },
   "file_extension": ".py",
   "mimetype": "text/x-python",
   "name": "python",
   "nbconvert_exporter": "python",
   "pygments_lexer": "ipython2",
   "version": "2.7.15"
  }
 },
 "nbformat": 4,
 "nbformat_minor": 2
}
