{
 "cells": [
  {
   "cell_type": "markdown",
   "metadata": {},
   "source": [
    "# Data TP"
   ]
  },
  {
   "cell_type": "markdown",
   "metadata": {},
   "source": [
    "## Import librairies and databases"
   ]
  },
  {
   "cell_type": "code",
   "execution_count": 1,
   "metadata": {},
   "outputs": [],
   "source": [
    "import pandas\n",
    "import numpy"
   ]
  },
  {
   "cell_type": "code",
   "execution_count": 2,
   "metadata": {},
   "outputs": [],
   "source": [
    "dataset = pandas.read_csv('.\\\\google\\\\data\\\\train.txt', delimiter=\" \", names=[\"heads\",\"tails\",\"relation\"])"
   ]
  },
  {
   "cell_type": "code",
   "execution_count": 3,
   "metadata": {},
   "outputs": [
    {
     "data": {
      "text/html": [
       "<div>\n",
       "<style scoped>\n",
       "    .dataframe tbody tr th:only-of-type {\n",
       "        vertical-align: middle;\n",
       "    }\n",
       "\n",
       "    .dataframe tbody tr th {\n",
       "        vertical-align: top;\n",
       "    }\n",
       "\n",
       "    .dataframe thead th {\n",
       "        text-align: right;\n",
       "    }\n",
       "</style>\n",
       "<table border=\"1\" class=\"dataframe\">\n",
       "  <thead>\n",
       "    <tr style=\"text-align: right;\">\n",
       "      <th></th>\n",
       "      <th>heads</th>\n",
       "      <th>tails</th>\n",
       "      <th>relation</th>\n",
       "    </tr>\n",
       "  </thead>\n",
       "  <tbody>\n",
       "    <tr>\n",
       "      <th>count</th>\n",
       "      <td>573</td>\n",
       "      <td>573</td>\n",
       "      <td>573</td>\n",
       "    </tr>\n",
       "    <tr>\n",
       "      <th>unique</th>\n",
       "      <td>474</td>\n",
       "      <td>506</td>\n",
       "      <td>14</td>\n",
       "    </tr>\n",
       "    <tr>\n",
       "      <th>top</th>\n",
       "      <td>slow</td>\n",
       "      <td>california</td>\n",
       "      <td>capital-world</td>\n",
       "    </tr>\n",
       "    <tr>\n",
       "      <th>freq</th>\n",
       "      <td>5</td>\n",
       "      <td>12</td>\n",
       "      <td>116</td>\n",
       "    </tr>\n",
       "  </tbody>\n",
       "</table>\n",
       "</div>"
      ],
      "text/plain": [
       "       heads       tails       relation\n",
       "count    573         573            573\n",
       "unique   474         506             14\n",
       "top     slow  california  capital-world\n",
       "freq       5          12            116"
      ]
     },
     "execution_count": 3,
     "metadata": {},
     "output_type": "execute_result"
    }
   ],
   "source": [
    "dataset.describe()"
   ]
  },
  {
   "cell_type": "code",
   "execution_count": 4,
   "metadata": {},
   "outputs": [
    {
     "data": {
      "text/plain": [
       "(573, 3)"
      ]
     },
     "execution_count": 4,
     "metadata": {},
     "output_type": "execute_result"
    }
   ],
   "source": [
    "dataset.shape"
   ]
  },
  {
   "cell_type": "code",
   "execution_count": 5,
   "metadata": {},
   "outputs": [
    {
     "data": {
      "text/html": [
       "<div>\n",
       "<style scoped>\n",
       "    .dataframe tbody tr th:only-of-type {\n",
       "        vertical-align: middle;\n",
       "    }\n",
       "\n",
       "    .dataframe tbody tr th {\n",
       "        vertical-align: top;\n",
       "    }\n",
       "\n",
       "    .dataframe thead th {\n",
       "        text-align: right;\n",
       "    }\n",
       "</style>\n",
       "<table border=\"1\" class=\"dataframe\">\n",
       "  <thead>\n",
       "    <tr style=\"text-align: right;\">\n",
       "      <th></th>\n",
       "      <th>heads</th>\n",
       "      <th>tails</th>\n",
       "      <th>relation</th>\n",
       "    </tr>\n",
       "  </thead>\n",
       "  <tbody>\n",
       "    <tr>\n",
       "      <th>0</th>\n",
       "      <td>madrid</td>\n",
       "      <td>spain</td>\n",
       "      <td>capital-common-countries</td>\n",
       "    </tr>\n",
       "    <tr>\n",
       "      <th>1</th>\n",
       "      <td>ottawa</td>\n",
       "      <td>canada</td>\n",
       "      <td>capital-common-countries</td>\n",
       "    </tr>\n",
       "    <tr>\n",
       "      <th>2</th>\n",
       "      <td>cairo</td>\n",
       "      <td>egypt</td>\n",
       "      <td>capital-common-countries</td>\n",
       "    </tr>\n",
       "    <tr>\n",
       "      <th>3</th>\n",
       "      <td>paris</td>\n",
       "      <td>france</td>\n",
       "      <td>capital-common-countries</td>\n",
       "    </tr>\n",
       "    <tr>\n",
       "      <th>4</th>\n",
       "      <td>bern</td>\n",
       "      <td>switzerland</td>\n",
       "      <td>capital-common-countries</td>\n",
       "    </tr>\n",
       "  </tbody>\n",
       "</table>\n",
       "</div>"
      ],
      "text/plain": [
       "    heads        tails                  relation\n",
       "0  madrid        spain  capital-common-countries\n",
       "1  ottawa       canada  capital-common-countries\n",
       "2   cairo        egypt  capital-common-countries\n",
       "3   paris       france  capital-common-countries\n",
       "4    bern  switzerland  capital-common-countries"
      ]
     },
     "execution_count": 5,
     "metadata": {},
     "output_type": "execute_result"
    }
   ],
   "source": [
    "dataset.head()"
   ]
  },
  {
   "cell_type": "markdown",
   "metadata": {},
   "source": [
    "## Load Vectors"
   ]
  },
  {
   "cell_type": "code",
   "execution_count": 6,
   "metadata": {},
   "outputs": [],
   "source": [
    "def load_vectors(file_path):\n",
    "    resultDict = dict()\n",
    "    with open(file_path) as f:\n",
    "        raw_text = f.read()\n",
    "        for raw_line in raw_text.split(\"\\n\")[:-1]:\n",
    "            ind = raw_line.index(\" \")\n",
    "            resultDict[raw_line[:ind]] = numpy.array(raw_line[ind+1:].split(\" \"), dtype=numpy.float64)\n",
    "        \n",
    "    return resultDict\n",
    "\n",
    "def formatPattern(algo, columns_value, file_name):\n",
    "    return '.\\\\google\\\\{}\\\\subspaces\\\\{}\\\\{}.txt'.format(algo, columns_value, file_name)"
   ]
  },
  {
   "cell_type": "code",
   "execution_count": 7,
   "metadata": {},
   "outputs": [],
   "source": [
    "vectors = {\"heads\": dict(), \"tails\": dict()}\n",
    "\n",
    "for file_name in vectors.keys():\n",
    "    for columns_value in set(dataset['relation'].values):\n",
    "        file_dir = formatPattern('gloveCC', columns_value, file_name)\n",
    "        vectors[file_name][columns_value] = load_vectors(file_dir)\n"
   ]
  },
  {
   "cell_type": "markdown",
   "metadata": {},
   "source": [
    "## Replace values in dataframe"
   ]
  },
  {
   "cell_type": "code",
   "execution_count": 8,
   "metadata": {},
   "outputs": [],
   "source": [
    "def minus_of_two_vector(v1, v2):\n",
    "    return v2 - v1\n",
    "\n",
    "def replace_values(dataframe, vectorsDict):\n",
    "    resultdf = dataframe.to_dict()\n",
    "    resultdf['tail-head'] = dict()\n",
    "    to_remove = list()\n",
    "    for indice in range(len(resultdf['relation'])):\n",
    "        head = resultdf['heads'][indice]\n",
    "        tail = resultdf['tails'][indice]\n",
    "        relation = resultdf['relation'][indice]\n",
    "        \n",
    "        try:\n",
    "            vh = vectorsDict['heads'][relation][head]\n",
    "            resultdf['heads'][indice] = vh\n",
    "            \n",
    "            try:\n",
    "                vt = vectorsDict['tails'][relation][tail]\n",
    "                resultdf['tails'][indice] = vt\n",
    "                \n",
    "                resultdf['tail-head'][indice]  = minus_of_two_vector(vt, vh)\n",
    "            except:\n",
    "                print(\"no vector for (relation:%s, tail:%s) \" % (relation, tail))\n",
    "                to_remove.append(indice)\n",
    "        except:\n",
    "            print(\"no vector for (relation:%s, head:%s) \" % (relation, head))\n",
    "            to_remove.append(indice)\n",
    "    \n",
    "    for indice in to_remove:\n",
    "        del(resultdf['heads'][indice])\n",
    "        del(resultdf['tails'][indice])\n",
    "        del(resultdf['relation'][indice])\n",
    "        \n",
    "    return resultdf\n"
   ]
  },
  {
   "cell_type": "code",
   "execution_count": 9,
   "metadata": {},
   "outputs": [
    {
     "name": "stdout",
     "output_type": "stream",
     "text": [
      "no vector for (relation:capital-world, head:funafuti) \n",
      "no vector for (relation:capital-world, head:ashgabat) \n",
      "no vector for (relation:capital-world, head:belmopan) \n",
      "no vector for (relation:capital-world, head:thimphu) \n",
      "no vector for (relation:capital-world, head:niamey) \n",
      "no vector for (relation:capital-world, head:nouakchott) \n",
      "no vector for (relation:capital-world, head:nuuk) \n",
      "no vector for (relation:capital-world, head:podgorica) \n",
      "no vector for (relation:capital-world, head:vaduz) \n"
     ]
    }
   ],
   "source": [
    "dataset2 = replace_values(dataset, vectors)"
   ]
  },
  {
   "cell_type": "code",
   "execution_count": 10,
   "metadata": {},
   "outputs": [
    {
     "data": {
      "text/plain": [
       "['tail-head', 'tails', 'heads', 'relation']"
      ]
     },
     "execution_count": 10,
     "metadata": {},
     "output_type": "execute_result"
    }
   ],
   "source": [
    "dataset2.keys()"
   ]
  },
  {
   "cell_type": "code",
   "execution_count": 11,
   "metadata": {},
   "outputs": [],
   "source": [
    "dataset2pd = pandas.DataFrame({\n",
    "    'tails': dataset2['tails'].values(),\n",
    "    'heads': dataset2['heads'].values(),\n",
    "    'tail-head': dataset2['tail-head'].values(),\n",
    "    'relation': dataset2['relation'].values()\n",
    "})"
   ]
  },
  {
   "cell_type": "code",
   "execution_count": 12,
   "metadata": {},
   "outputs": [
    {
     "data": {
      "text/plain": [
       "(564, 4)"
      ]
     },
     "execution_count": 12,
     "metadata": {},
     "output_type": "execute_result"
    }
   ],
   "source": [
    "dataset2pd.shape"
   ]
  },
  {
   "cell_type": "code",
   "execution_count": 13,
   "metadata": {},
   "outputs": [
    {
     "data": {
      "text/html": [
       "<div>\n",
       "<style scoped>\n",
       "    .dataframe tbody tr th:only-of-type {\n",
       "        vertical-align: middle;\n",
       "    }\n",
       "\n",
       "    .dataframe tbody tr th {\n",
       "        vertical-align: top;\n",
       "    }\n",
       "\n",
       "    .dataframe thead th {\n",
       "        text-align: right;\n",
       "    }\n",
       "</style>\n",
       "<table border=\"1\" class=\"dataframe\">\n",
       "  <thead>\n",
       "    <tr style=\"text-align: right;\">\n",
       "      <th></th>\n",
       "      <th>heads</th>\n",
       "      <th>relation</th>\n",
       "      <th>tail-head</th>\n",
       "      <th>tails</th>\n",
       "    </tr>\n",
       "  </thead>\n",
       "  <tbody>\n",
       "    <tr>\n",
       "      <th>0</th>\n",
       "      <td>[0.26001, -0.53344, 0.22119, -0.16826, 0.58323...</td>\n",
       "      <td>capital-common-countries</td>\n",
       "      <td>[0.37982000000000005, -0.544826, 0.07153999999...</td>\n",
       "      <td>[-0.11981, 0.011386, 0.14965, -0.22285, 0.7112...</td>\n",
       "    </tr>\n",
       "    <tr>\n",
       "      <th>1</th>\n",
       "      <td>[0.14219, 0.01274, -0.5254, -0.60931, 1.263, 0...</td>\n",
       "      <td>capital-common-countries</td>\n",
       "      <td>[0.62044, -0.14634, -0.25031, 0.03849000000000...</td>\n",
       "      <td>[-0.47825, 0.15908, -0.27509, -0.6478, 0.76022...</td>\n",
       "    </tr>\n",
       "    <tr>\n",
       "      <th>2</th>\n",
       "      <td>[0.56629, -0.20355, -0.093943, -0.45198, 0.301...</td>\n",
       "      <td>capital-common-countries</td>\n",
       "      <td>[0.6181589999999999, 0.061919999999999975, -0....</td>\n",
       "      <td>[-0.051869, -0.26547, 0.034687, -0.45404, 0.26...</td>\n",
       "    </tr>\n",
       "    <tr>\n",
       "      <th>3</th>\n",
       "      <td>[0.35213, -0.074228, -0.23725, -0.32726, 0.539...</td>\n",
       "      <td>capital-common-countries</td>\n",
       "      <td>[0.51519, -0.527148, -0.09086999999999998, 0.3...</td>\n",
       "      <td>[-0.16306, 0.45292, -0.14638, -0.64332, 0.7901...</td>\n",
       "    </tr>\n",
       "    <tr>\n",
       "      <th>4</th>\n",
       "      <td>[0.57031, 0.077812, 0.062999, -0.23876, 0.1227...</td>\n",
       "      <td>capital-common-countries</td>\n",
       "      <td>[0.45715, -0.088938, 0.34333899999999995, -0.0...</td>\n",
       "      <td>[0.11316, 0.16675, -0.28034, -0.18965, 0.61872...</td>\n",
       "    </tr>\n",
       "  </tbody>\n",
       "</table>\n",
       "</div>"
      ],
      "text/plain": [
       "                                               heads  \\\n",
       "0  [0.26001, -0.53344, 0.22119, -0.16826, 0.58323...   \n",
       "1  [0.14219, 0.01274, -0.5254, -0.60931, 1.263, 0...   \n",
       "2  [0.56629, -0.20355, -0.093943, -0.45198, 0.301...   \n",
       "3  [0.35213, -0.074228, -0.23725, -0.32726, 0.539...   \n",
       "4  [0.57031, 0.077812, 0.062999, -0.23876, 0.1227...   \n",
       "\n",
       "                   relation  \\\n",
       "0  capital-common-countries   \n",
       "1  capital-common-countries   \n",
       "2  capital-common-countries   \n",
       "3  capital-common-countries   \n",
       "4  capital-common-countries   \n",
       "\n",
       "                                           tail-head  \\\n",
       "0  [0.37982000000000005, -0.544826, 0.07153999999...   \n",
       "1  [0.62044, -0.14634, -0.25031, 0.03849000000000...   \n",
       "2  [0.6181589999999999, 0.061919999999999975, -0....   \n",
       "3  [0.51519, -0.527148, -0.09086999999999998, 0.3...   \n",
       "4  [0.45715, -0.088938, 0.34333899999999995, -0.0...   \n",
       "\n",
       "                                               tails  \n",
       "0  [-0.11981, 0.011386, 0.14965, -0.22285, 0.7112...  \n",
       "1  [-0.47825, 0.15908, -0.27509, -0.6478, 0.76022...  \n",
       "2  [-0.051869, -0.26547, 0.034687, -0.45404, 0.26...  \n",
       "3  [-0.16306, 0.45292, -0.14638, -0.64332, 0.7901...  \n",
       "4  [0.11316, 0.16675, -0.28034, -0.18965, 0.61872...  "
      ]
     },
     "execution_count": 13,
     "metadata": {},
     "output_type": "execute_result"
    }
   ],
   "source": [
    "dataset2pd.head()"
   ]
  },
  {
   "cell_type": "markdown",
   "metadata": {},
   "source": [
    "## Compute Sum of substraction of heads_i and tails_i for each relation_j"
   ]
  },
  {
   "cell_type": "code",
   "execution_count": 14,
   "metadata": {},
   "outputs": [],
   "source": [
    "def sum_of_vectors(th, rel):\n",
    "    tmp_vector = numpy.zeros(300, dtype=numpy.float64)\n",
    "    tmp_relation = \"capital-common-countries\"\n",
    "    resultDict = dict()\n",
    "    \n",
    "    for indice in range(len(rel)):\n",
    "        if tmp_relation != rel[indice]:\n",
    "            resultDict[tmp_relation] = tmp_vector\n",
    "            tmp_vector = numpy.zeros(300, dtype=numpy.float64)\n",
    "            tmp_relation = rel[indice]\n",
    "        \n",
    "        tmp_vector += th[indice]\n",
    "    \n",
    "    return resultDict\n",
    "        "
   ]
  },
  {
   "cell_type": "code",
   "execution_count": 52,
   "metadata": {},
   "outputs": [
    {
     "data": {
      "text/html": [
       "<div>\n",
       "<style scoped>\n",
       "    .dataframe tbody tr th:only-of-type {\n",
       "        vertical-align: middle;\n",
       "    }\n",
       "\n",
       "    .dataframe tbody tr th {\n",
       "        vertical-align: top;\n",
       "    }\n",
       "\n",
       "    .dataframe thead th {\n",
       "        text-align: right;\n",
       "    }\n",
       "</style>\n",
       "<table border=\"1\" class=\"dataframe\">\n",
       "  <thead>\n",
       "    <tr style=\"text-align: right;\">\n",
       "      <th></th>\n",
       "      <th>relation</th>\n",
       "      <th>tail-head</th>\n",
       "    </tr>\n",
       "  </thead>\n",
       "  <tbody>\n",
       "    <tr>\n",
       "      <th>0</th>\n",
       "      <td>capital-common-countries</td>\n",
       "      <td>[0.37982000000000005, -0.544826, 0.07153999999...</td>\n",
       "    </tr>\n",
       "    <tr>\n",
       "      <th>1</th>\n",
       "      <td>capital-common-countries</td>\n",
       "      <td>[0.62044, -0.14634, -0.25031, 0.03849000000000...</td>\n",
       "    </tr>\n",
       "    <tr>\n",
       "      <th>2</th>\n",
       "      <td>capital-common-countries</td>\n",
       "      <td>[0.6181589999999999, 0.061919999999999975, -0....</td>\n",
       "    </tr>\n",
       "    <tr>\n",
       "      <th>3</th>\n",
       "      <td>capital-common-countries</td>\n",
       "      <td>[0.51519, -0.527148, -0.09086999999999998, 0.3...</td>\n",
       "    </tr>\n",
       "    <tr>\n",
       "      <th>4</th>\n",
       "      <td>capital-common-countries</td>\n",
       "      <td>[0.45715, -0.088938, 0.34333899999999995, -0.0...</td>\n",
       "    </tr>\n",
       "  </tbody>\n",
       "</table>\n",
       "</div>"
      ],
      "text/plain": [
       "                   relation                                          tail-head\n",
       "0  capital-common-countries  [0.37982000000000005, -0.544826, 0.07153999999...\n",
       "1  capital-common-countries  [0.62044, -0.14634, -0.25031, 0.03849000000000...\n",
       "2  capital-common-countries  [0.6181589999999999, 0.061919999999999975, -0....\n",
       "3  capital-common-countries  [0.51519, -0.527148, -0.09086999999999998, 0.3...\n",
       "4  capital-common-countries  [0.45715, -0.088938, 0.34333899999999995, -0.0..."
      ]
     },
     "execution_count": 52,
     "metadata": {},
     "output_type": "execute_result"
    }
   ],
   "source": [
    "sigmoid_vectors_dict = sum_of_vectors(dataset2pd[\"tail-head\"], dataset2pd[\"relation\"])\n",
    "sigmoid_vectors = pandas.DataFrame({\n",
    "    \"relation\": sigmoid_vectors_dict.keys(),\n",
    "    \"tail-head\": sigmoid_vectors_dict.values()\n",
    "})\n",
    "\n",
    "sigmoid_vectors = dataset2pd.iloc[:,[1,2]]\n",
    "sigmoid_vectors.head()"
   ]
  },
  {
   "cell_type": "markdown",
   "metadata": {},
   "source": [
    "## Split Dataset into Xset and Yset"
   ]
  },
  {
   "cell_type": "code",
   "execution_count": 53,
   "metadata": {},
   "outputs": [],
   "source": [
    "xset = sigmoid_vectors.iloc[:,[1]]\n",
    "yset = sigmoid_vectors.iloc[:,[0]]"
   ]
  },
  {
   "cell_type": "code",
   "execution_count": 54,
   "metadata": {},
   "outputs": [
    {
     "data": {
      "text/html": [
       "<div>\n",
       "<style scoped>\n",
       "    .dataframe tbody tr th:only-of-type {\n",
       "        vertical-align: middle;\n",
       "    }\n",
       "\n",
       "    .dataframe tbody tr th {\n",
       "        vertical-align: top;\n",
       "    }\n",
       "\n",
       "    .dataframe thead th {\n",
       "        text-align: right;\n",
       "    }\n",
       "</style>\n",
       "<table border=\"1\" class=\"dataframe\">\n",
       "  <thead>\n",
       "    <tr style=\"text-align: right;\">\n",
       "      <th></th>\n",
       "      <th>tail-head</th>\n",
       "    </tr>\n",
       "  </thead>\n",
       "  <tbody>\n",
       "    <tr>\n",
       "      <th>0</th>\n",
       "      <td>[0.37982000000000005, -0.544826, 0.07153999999...</td>\n",
       "    </tr>\n",
       "    <tr>\n",
       "      <th>1</th>\n",
       "      <td>[0.62044, -0.14634, -0.25031, 0.03849000000000...</td>\n",
       "    </tr>\n",
       "    <tr>\n",
       "      <th>2</th>\n",
       "      <td>[0.6181589999999999, 0.061919999999999975, -0....</td>\n",
       "    </tr>\n",
       "    <tr>\n",
       "      <th>3</th>\n",
       "      <td>[0.51519, -0.527148, -0.09086999999999998, 0.3...</td>\n",
       "    </tr>\n",
       "    <tr>\n",
       "      <th>4</th>\n",
       "      <td>[0.45715, -0.088938, 0.34333899999999995, -0.0...</td>\n",
       "    </tr>\n",
       "  </tbody>\n",
       "</table>\n",
       "</div>"
      ],
      "text/plain": [
       "                                           tail-head\n",
       "0  [0.37982000000000005, -0.544826, 0.07153999999...\n",
       "1  [0.62044, -0.14634, -0.25031, 0.03849000000000...\n",
       "2  [0.6181589999999999, 0.061919999999999975, -0....\n",
       "3  [0.51519, -0.527148, -0.09086999999999998, 0.3...\n",
       "4  [0.45715, -0.088938, 0.34333899999999995, -0.0..."
      ]
     },
     "execution_count": 54,
     "metadata": {},
     "output_type": "execute_result"
    }
   ],
   "source": [
    "xset.head()"
   ]
  },
  {
   "cell_type": "code",
   "execution_count": 55,
   "metadata": {},
   "outputs": [
    {
     "data": {
      "text/html": [
       "<div>\n",
       "<style scoped>\n",
       "    .dataframe tbody tr th:only-of-type {\n",
       "        vertical-align: middle;\n",
       "    }\n",
       "\n",
       "    .dataframe tbody tr th {\n",
       "        vertical-align: top;\n",
       "    }\n",
       "\n",
       "    .dataframe thead th {\n",
       "        text-align: right;\n",
       "    }\n",
       "</style>\n",
       "<table border=\"1\" class=\"dataframe\">\n",
       "  <thead>\n",
       "    <tr style=\"text-align: right;\">\n",
       "      <th></th>\n",
       "      <th>relation</th>\n",
       "    </tr>\n",
       "  </thead>\n",
       "  <tbody>\n",
       "    <tr>\n",
       "      <th>0</th>\n",
       "      <td>capital-common-countries</td>\n",
       "    </tr>\n",
       "    <tr>\n",
       "      <th>1</th>\n",
       "      <td>capital-common-countries</td>\n",
       "    </tr>\n",
       "    <tr>\n",
       "      <th>2</th>\n",
       "      <td>capital-common-countries</td>\n",
       "    </tr>\n",
       "    <tr>\n",
       "      <th>3</th>\n",
       "      <td>capital-common-countries</td>\n",
       "    </tr>\n",
       "    <tr>\n",
       "      <th>4</th>\n",
       "      <td>capital-common-countries</td>\n",
       "    </tr>\n",
       "  </tbody>\n",
       "</table>\n",
       "</div>"
      ],
      "text/plain": [
       "                   relation\n",
       "0  capital-common-countries\n",
       "1  capital-common-countries\n",
       "2  capital-common-countries\n",
       "3  capital-common-countries\n",
       "4  capital-common-countries"
      ]
     },
     "execution_count": 55,
     "metadata": {},
     "output_type": "execute_result"
    }
   ],
   "source": [
    "yset.head()"
   ]
  },
  {
   "cell_type": "markdown",
   "metadata": {},
   "source": [
    "## Use sigmoid function to awser the membership of one RDF tuple"
   ]
  },
  {
   "cell_type": "code",
   "execution_count": 56,
   "metadata": {},
   "outputs": [],
   "source": [
    "def is_sigmoid(rfd_array, vectors_dict, rvector):\n",
    "    \n",
    "    try:\n",
    "        rv = vectors_dict[\"heads\"][rfd_array[2]][rfd_array[0]]\n",
    "    except: \n",
    "        print(\"there is no vector equivalance for head %s: %s\" % (rfd_array[0], rfd_array[2]))\n",
    "        return 0\n",
    "\n",
    "    try:\n",
    "        fv = vectors_dict[\"tails\"][rfd_array[2]][rfd_array[1]]\n",
    "    except: \n",
    "        print(\"there is no vector equivalance for tail %s: %s\" % (rfd_array[1], rfd_array[2]))\n",
    "        return 0\n",
    "    \n",
    "    return (rv + rvector) * fv"
   ]
  },
  {
   "cell_type": "markdown",
   "metadata": {},
   "source": [
    "### Some checks"
   ]
  },
  {
   "cell_type": "code",
   "execution_count": 57,
   "metadata": {},
   "outputs": [
    {
     "name": "stdout",
     "output_type": "stream",
     "text": [
      "(564, 1)\n",
      "(564, 1)\n",
      "there is exactly the same number of rows ? True\n",
      "All rows contains vectors of 300 dim ?: True\n"
     ]
    }
   ],
   "source": [
    "print(xset.shape)\n",
    "print(yset.shape)\n",
    "print(\"there is exactly the same number of rows ? %r\" % (yset.shape[0] == xset.shape[0]))\n",
    "\n",
    "xsetLen = set()\n",
    "for line in xset.iterrows():\n",
    "    xsetLen.add(len(line[1]['tail-head']))\n",
    "    \n",
    "print(\"All rows contains vectors of 300 dim ?: %r\" % (xsetLen == set([300])))\n"
   ]
  },
  {
   "cell_type": "markdown",
   "metadata": {},
   "source": [
    "## Transform numpy array into dataframe row"
   ]
  },
  {
   "cell_type": "code",
   "execution_count": 58,
   "metadata": {},
   "outputs": [],
   "source": [
    "def nparray_to_pandasrow(rows_list):\n",
    "    xset = pandas.DataFrame(columns=range(300))\n",
    "    \n",
    "    for row in rows_list:\n",
    "        xset.loc[len(xset)] = row[0]\n",
    "\n",
    "    return xset"
   ]
  },
  {
   "cell_type": "code",
   "execution_count": 59,
   "metadata": {},
   "outputs": [],
   "source": [
    "xset_formated = nparray_to_pandasrow(xset.values.tolist())"
   ]
  },
  {
   "cell_type": "code",
   "execution_count": 60,
   "metadata": {},
   "outputs": [
    {
     "data": {
      "text/plain": [
       "(564, 300)"
      ]
     },
     "execution_count": 60,
     "metadata": {},
     "output_type": "execute_result"
    }
   ],
   "source": [
    "xset_formated.shape"
   ]
  },
  {
   "cell_type": "code",
   "execution_count": 61,
   "metadata": {},
   "outputs": [
    {
     "data": {
      "text/html": [
       "<div>\n",
       "<style scoped>\n",
       "    .dataframe tbody tr th:only-of-type {\n",
       "        vertical-align: middle;\n",
       "    }\n",
       "\n",
       "    .dataframe tbody tr th {\n",
       "        vertical-align: top;\n",
       "    }\n",
       "\n",
       "    .dataframe thead th {\n",
       "        text-align: right;\n",
       "    }\n",
       "</style>\n",
       "<table border=\"1\" class=\"dataframe\">\n",
       "  <thead>\n",
       "    <tr style=\"text-align: right;\">\n",
       "      <th></th>\n",
       "      <th>0</th>\n",
       "      <th>1</th>\n",
       "      <th>2</th>\n",
       "      <th>3</th>\n",
       "      <th>4</th>\n",
       "      <th>5</th>\n",
       "      <th>6</th>\n",
       "      <th>7</th>\n",
       "      <th>8</th>\n",
       "      <th>9</th>\n",
       "      <th>...</th>\n",
       "      <th>290</th>\n",
       "      <th>291</th>\n",
       "      <th>292</th>\n",
       "      <th>293</th>\n",
       "      <th>294</th>\n",
       "      <th>295</th>\n",
       "      <th>296</th>\n",
       "      <th>297</th>\n",
       "      <th>298</th>\n",
       "      <th>299</th>\n",
       "    </tr>\n",
       "  </thead>\n",
       "  <tbody>\n",
       "    <tr>\n",
       "      <th>0</th>\n",
       "      <td>0.379820</td>\n",
       "      <td>-0.544826</td>\n",
       "      <td>0.071540</td>\n",
       "      <td>0.05459</td>\n",
       "      <td>-0.12800</td>\n",
       "      <td>0.264610</td>\n",
       "      <td>0.213681</td>\n",
       "      <td>0.005240</td>\n",
       "      <td>-0.137910</td>\n",
       "      <td>-0.880080</td>\n",
       "      <td>...</td>\n",
       "      <td>0.232390</td>\n",
       "      <td>0.527640</td>\n",
       "      <td>0.326455</td>\n",
       "      <td>0.176020</td>\n",
       "      <td>0.333750</td>\n",
       "      <td>-0.050127</td>\n",
       "      <td>-0.142010</td>\n",
       "      <td>-0.51456</td>\n",
       "      <td>-0.424950</td>\n",
       "      <td>-0.689570</td>\n",
       "    </tr>\n",
       "    <tr>\n",
       "      <th>1</th>\n",
       "      <td>0.620440</td>\n",
       "      <td>-0.146340</td>\n",
       "      <td>-0.250310</td>\n",
       "      <td>0.03849</td>\n",
       "      <td>0.50278</td>\n",
       "      <td>0.174928</td>\n",
       "      <td>0.179670</td>\n",
       "      <td>-0.362850</td>\n",
       "      <td>-0.024330</td>\n",
       "      <td>-0.979260</td>\n",
       "      <td>...</td>\n",
       "      <td>0.109498</td>\n",
       "      <td>-0.048983</td>\n",
       "      <td>0.235097</td>\n",
       "      <td>-0.063329</td>\n",
       "      <td>-0.172699</td>\n",
       "      <td>0.288632</td>\n",
       "      <td>0.017320</td>\n",
       "      <td>-0.27664</td>\n",
       "      <td>0.226950</td>\n",
       "      <td>-0.555281</td>\n",
       "    </tr>\n",
       "    <tr>\n",
       "      <th>2</th>\n",
       "      <td>0.618159</td>\n",
       "      <td>0.061920</td>\n",
       "      <td>-0.128630</td>\n",
       "      <td>0.00206</td>\n",
       "      <td>0.03535</td>\n",
       "      <td>0.413828</td>\n",
       "      <td>-0.090483</td>\n",
       "      <td>0.054933</td>\n",
       "      <td>-0.169820</td>\n",
       "      <td>-0.894520</td>\n",
       "      <td>...</td>\n",
       "      <td>0.648210</td>\n",
       "      <td>-0.281878</td>\n",
       "      <td>-0.206510</td>\n",
       "      <td>0.335542</td>\n",
       "      <td>-0.167520</td>\n",
       "      <td>0.081942</td>\n",
       "      <td>0.417560</td>\n",
       "      <td>-0.40625</td>\n",
       "      <td>-0.419645</td>\n",
       "      <td>0.051080</td>\n",
       "    </tr>\n",
       "    <tr>\n",
       "      <th>3</th>\n",
       "      <td>0.515190</td>\n",
       "      <td>-0.527148</td>\n",
       "      <td>-0.090870</td>\n",
       "      <td>0.31606</td>\n",
       "      <td>-0.25086</td>\n",
       "      <td>-0.027685</td>\n",
       "      <td>0.324330</td>\n",
       "      <td>-0.239866</td>\n",
       "      <td>-0.125063</td>\n",
       "      <td>-0.318880</td>\n",
       "      <td>...</td>\n",
       "      <td>0.125190</td>\n",
       "      <td>0.104240</td>\n",
       "      <td>0.111554</td>\n",
       "      <td>-0.031453</td>\n",
       "      <td>0.108260</td>\n",
       "      <td>0.405450</td>\n",
       "      <td>-0.392463</td>\n",
       "      <td>-0.17329</td>\n",
       "      <td>-0.134950</td>\n",
       "      <td>-0.445528</td>\n",
       "    </tr>\n",
       "    <tr>\n",
       "      <th>4</th>\n",
       "      <td>0.457150</td>\n",
       "      <td>-0.088938</td>\n",
       "      <td>0.343339</td>\n",
       "      <td>-0.04911</td>\n",
       "      <td>-0.49599</td>\n",
       "      <td>0.222200</td>\n",
       "      <td>0.122340</td>\n",
       "      <td>0.562440</td>\n",
       "      <td>0.243270</td>\n",
       "      <td>-0.796252</td>\n",
       "      <td>...</td>\n",
       "      <td>-0.116470</td>\n",
       "      <td>-0.047560</td>\n",
       "      <td>-0.295401</td>\n",
       "      <td>-0.226380</td>\n",
       "      <td>-0.308925</td>\n",
       "      <td>0.077190</td>\n",
       "      <td>-0.221060</td>\n",
       "      <td>-0.39521</td>\n",
       "      <td>0.335738</td>\n",
       "      <td>-0.591640</td>\n",
       "    </tr>\n",
       "  </tbody>\n",
       "</table>\n",
       "<p>5 rows × 300 columns</p>\n",
       "</div>"
      ],
      "text/plain": [
       "        0         1         2        3        4         5         6    \\\n",
       "0  0.379820 -0.544826  0.071540  0.05459 -0.12800  0.264610  0.213681   \n",
       "1  0.620440 -0.146340 -0.250310  0.03849  0.50278  0.174928  0.179670   \n",
       "2  0.618159  0.061920 -0.128630  0.00206  0.03535  0.413828 -0.090483   \n",
       "3  0.515190 -0.527148 -0.090870  0.31606 -0.25086 -0.027685  0.324330   \n",
       "4  0.457150 -0.088938  0.343339 -0.04911 -0.49599  0.222200  0.122340   \n",
       "\n",
       "        7         8         9      ...          290       291       292  \\\n",
       "0  0.005240 -0.137910 -0.880080    ...     0.232390  0.527640  0.326455   \n",
       "1 -0.362850 -0.024330 -0.979260    ...     0.109498 -0.048983  0.235097   \n",
       "2  0.054933 -0.169820 -0.894520    ...     0.648210 -0.281878 -0.206510   \n",
       "3 -0.239866 -0.125063 -0.318880    ...     0.125190  0.104240  0.111554   \n",
       "4  0.562440  0.243270 -0.796252    ...    -0.116470 -0.047560 -0.295401   \n",
       "\n",
       "        293       294       295       296      297       298       299  \n",
       "0  0.176020  0.333750 -0.050127 -0.142010 -0.51456 -0.424950 -0.689570  \n",
       "1 -0.063329 -0.172699  0.288632  0.017320 -0.27664  0.226950 -0.555281  \n",
       "2  0.335542 -0.167520  0.081942  0.417560 -0.40625 -0.419645  0.051080  \n",
       "3 -0.031453  0.108260  0.405450 -0.392463 -0.17329 -0.134950 -0.445528  \n",
       "4 -0.226380 -0.308925  0.077190 -0.221060 -0.39521  0.335738 -0.591640  \n",
       "\n",
       "[5 rows x 300 columns]"
      ]
     },
     "execution_count": 61,
     "metadata": {},
     "output_type": "execute_result"
    }
   ],
   "source": [
    "xset_formated.head()"
   ]
  },
  {
   "cell_type": "markdown",
   "metadata": {},
   "source": [
    "## 10 Fold Cross Validation, SVM & F1"
   ]
  },
  {
   "cell_type": "code",
   "execution_count": 62,
   "metadata": {},
   "outputs": [],
   "source": [
    "from sklearn.metrics import precision_recall_fscore_support\n",
    "from sklearn.model_selection import KFold\n",
    "from sklearn.svm import SVC\n",
    "\n",
    "def get_mean_f1_from_svm(svm, xtest, ytest):\n",
    "    return numpy.mean(precision_recall_fscore_support(ytest, svm.predict(xtest))[2])\n",
    "\n",
    "def get_svm_class(xtrain,ytrain,c=1):\n",
    "    return SVC(C=c).fit(xtrain,ytrain)\n",
    "\n",
    "def get_for_svc_c(xtrain,ytrain,xtest,ytest,C=[0.1,1,10,100]):\n",
    "    return [get_mean_f1_from_svm(get_svm_class(xtrain,ytrain,c),xtest,ytest) for c in C]\n",
    "\n",
    "def split_and_get_mean_f1(xset,yset,n_folds=10,C=1):\n",
    "    resultSet = list()\n",
    "    kf = KFold(n_splits=n_folds, shuffle=True, random_state=None)\n",
    "    for train_index, test_index in kf.split(xset):\n",
    "        xtrain, xtest = xset.iloc[train_index], xset.iloc[test_index]\n",
    "        ytrain, ytest = yset.iloc[train_index], yset.iloc[test_index]\n",
    "        resultSet.append(get_for_svc_c(xtrain,ytrain,xtest,ytest))\n",
    "    return resultSet"
   ]
  },
  {
   "cell_type": "code",
   "execution_count": 63,
   "metadata": {},
   "outputs": [],
   "source": [
    "f1_array = split_and_get_mean_f1(xset_formated,yset)"
   ]
  },
  {
   "cell_type": "code",
   "execution_count": 68,
   "metadata": {},
   "outputs": [
    {
     "data": {
      "text/html": [
       "<div>\n",
       "<style scoped>\n",
       "    .dataframe tbody tr th:only-of-type {\n",
       "        vertical-align: middle;\n",
       "    }\n",
       "\n",
       "    .dataframe tbody tr th {\n",
       "        vertical-align: top;\n",
       "    }\n",
       "\n",
       "    .dataframe thead th {\n",
       "        text-align: right;\n",
       "    }\n",
       "</style>\n",
       "<table border=\"1\" class=\"dataframe\">\n",
       "  <thead>\n",
       "    <tr style=\"text-align: right;\">\n",
       "      <th></th>\n",
       "      <th>C=0.1</th>\n",
       "      <th>C=1</th>\n",
       "      <th>C=10</th>\n",
       "      <th>C=100</th>\n",
       "    </tr>\n",
       "    <tr>\n",
       "      <th>Index</th>\n",
       "      <th></th>\n",
       "      <th></th>\n",
       "      <th></th>\n",
       "      <th></th>\n",
       "    </tr>\n",
       "  </thead>\n",
       "  <tbody>\n",
       "    <tr>\n",
       "      <th>mean KFold=10</th>\n",
       "      <td>0.023263</td>\n",
       "      <td>0.878224</td>\n",
       "      <td>0.910713</td>\n",
       "      <td>0.910631</td>\n",
       "    </tr>\n",
       "  </tbody>\n",
       "</table>\n",
       "</div>"
      ],
      "text/plain": [
       "                  C=0.1       C=1      C=10     C=100\n",
       "Index                                                \n",
       "mean KFold=10  0.023263  0.878224  0.910713  0.910631"
      ]
     },
     "execution_count": 68,
     "metadata": {},
     "output_type": "execute_result"
    }
   ],
   "source": [
    "f1Dict = pandas.DataFrame({\n",
    "    'Index': [\"mean KFold=10\"],\n",
    "    'C=0.1': [numpy.mean([line[0] for line in f1_array])],\n",
    "    'C=1':   [numpy.mean([line[1] for line in f1_array])],\n",
    "    'C=10':  [numpy.mean([line[2] for line in f1_array])],\n",
    "    'C=100': [numpy.mean([line[3] for line in f1_array])]\n",
    "}).set_index(['Index'])\n",
    "\n",
    "f1Dict"
   ]
  },
  {
   "cell_type": "code",
   "execution_count": null,
   "metadata": {},
   "outputs": [],
   "source": []
  }
 ],
 "metadata": {
  "kernelspec": {
   "display_name": "Python 2",
   "language": "python",
   "name": "python2"
  },
  "language_info": {
   "codemirror_mode": {
    "name": "ipython",
    "version": 2
   },
   "file_extension": ".py",
   "mimetype": "text/x-python",
   "name": "python",
   "nbconvert_exporter": "python",
   "pygments_lexer": "ipython2",
   "version": "2.7.15"
  }
 },
 "nbformat": 4,
 "nbformat_minor": 2
}
