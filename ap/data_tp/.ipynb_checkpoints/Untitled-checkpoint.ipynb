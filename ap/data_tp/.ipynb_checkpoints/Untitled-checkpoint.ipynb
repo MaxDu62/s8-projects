{
 "cells": [
  {
   "cell_type": "markdown",
   "metadata": {},
   "source": [
    "# Data TP"
   ]
  },
  {
   "cell_type": "markdown",
   "metadata": {},
   "source": [
    "## Import librairies and databases"
   ]
  },
  {
   "cell_type": "code",
   "execution_count": 1,
   "metadata": {},
   "outputs": [],
   "source": [
    "import pandas\n",
    "import numpy"
   ]
  },
  {
   "cell_type": "code",
   "execution_count": 2,
   "metadata": {},
   "outputs": [],
   "source": [
    "dataset = pandas.read_csv('.\\\\google\\\\data\\\\train.txt', delimiter=\" \", names=[\"heads\",\"tails\",\"relation\"])"
   ]
  },
  {
   "cell_type": "code",
   "execution_count": 3,
   "metadata": {},
   "outputs": [
    {
     "data": {
      "text/html": [
       "<div>\n",
       "<style scoped>\n",
       "    .dataframe tbody tr th:only-of-type {\n",
       "        vertical-align: middle;\n",
       "    }\n",
       "\n",
       "    .dataframe tbody tr th {\n",
       "        vertical-align: top;\n",
       "    }\n",
       "\n",
       "    .dataframe thead th {\n",
       "        text-align: right;\n",
       "    }\n",
       "</style>\n",
       "<table border=\"1\" class=\"dataframe\">\n",
       "  <thead>\n",
       "    <tr style=\"text-align: right;\">\n",
       "      <th></th>\n",
       "      <th>heads</th>\n",
       "      <th>tails</th>\n",
       "      <th>relation</th>\n",
       "    </tr>\n",
       "  </thead>\n",
       "  <tbody>\n",
       "    <tr>\n",
       "      <th>count</th>\n",
       "      <td>573</td>\n",
       "      <td>573</td>\n",
       "      <td>573</td>\n",
       "    </tr>\n",
       "    <tr>\n",
       "      <th>unique</th>\n",
       "      <td>474</td>\n",
       "      <td>506</td>\n",
       "      <td>14</td>\n",
       "    </tr>\n",
       "    <tr>\n",
       "      <th>top</th>\n",
       "      <td>slow</td>\n",
       "      <td>california</td>\n",
       "      <td>capital-world</td>\n",
       "    </tr>\n",
       "    <tr>\n",
       "      <th>freq</th>\n",
       "      <td>5</td>\n",
       "      <td>12</td>\n",
       "      <td>116</td>\n",
       "    </tr>\n",
       "  </tbody>\n",
       "</table>\n",
       "</div>"
      ],
      "text/plain": [
       "       heads       tails       relation\n",
       "count    573         573            573\n",
       "unique   474         506             14\n",
       "top     slow  california  capital-world\n",
       "freq       5          12            116"
      ]
     },
     "execution_count": 3,
     "metadata": {},
     "output_type": "execute_result"
    }
   ],
   "source": [
    "dataset.describe()"
   ]
  },
  {
   "cell_type": "code",
   "execution_count": 4,
   "metadata": {},
   "outputs": [
    {
     "data": {
      "text/plain": [
       "(573, 3)"
      ]
     },
     "execution_count": 4,
     "metadata": {},
     "output_type": "execute_result"
    }
   ],
   "source": [
    "dataset.shape"
   ]
  },
  {
   "cell_type": "code",
   "execution_count": 5,
   "metadata": {},
   "outputs": [
    {
     "data": {
      "text/html": [
       "<div>\n",
       "<style scoped>\n",
       "    .dataframe tbody tr th:only-of-type {\n",
       "        vertical-align: middle;\n",
       "    }\n",
       "\n",
       "    .dataframe tbody tr th {\n",
       "        vertical-align: top;\n",
       "    }\n",
       "\n",
       "    .dataframe thead th {\n",
       "        text-align: right;\n",
       "    }\n",
       "</style>\n",
       "<table border=\"1\" class=\"dataframe\">\n",
       "  <thead>\n",
       "    <tr style=\"text-align: right;\">\n",
       "      <th></th>\n",
       "      <th>heads</th>\n",
       "      <th>tails</th>\n",
       "      <th>relation</th>\n",
       "    </tr>\n",
       "  </thead>\n",
       "  <tbody>\n",
       "    <tr>\n",
       "      <th>0</th>\n",
       "      <td>madrid</td>\n",
       "      <td>spain</td>\n",
       "      <td>capital-common-countries</td>\n",
       "    </tr>\n",
       "    <tr>\n",
       "      <th>1</th>\n",
       "      <td>ottawa</td>\n",
       "      <td>canada</td>\n",
       "      <td>capital-common-countries</td>\n",
       "    </tr>\n",
       "    <tr>\n",
       "      <th>2</th>\n",
       "      <td>cairo</td>\n",
       "      <td>egypt</td>\n",
       "      <td>capital-common-countries</td>\n",
       "    </tr>\n",
       "    <tr>\n",
       "      <th>3</th>\n",
       "      <td>paris</td>\n",
       "      <td>france</td>\n",
       "      <td>capital-common-countries</td>\n",
       "    </tr>\n",
       "    <tr>\n",
       "      <th>4</th>\n",
       "      <td>bern</td>\n",
       "      <td>switzerland</td>\n",
       "      <td>capital-common-countries</td>\n",
       "    </tr>\n",
       "  </tbody>\n",
       "</table>\n",
       "</div>"
      ],
      "text/plain": [
       "    heads        tails                  relation\n",
       "0  madrid        spain  capital-common-countries\n",
       "1  ottawa       canada  capital-common-countries\n",
       "2   cairo        egypt  capital-common-countries\n",
       "3   paris       france  capital-common-countries\n",
       "4    bern  switzerland  capital-common-countries"
      ]
     },
     "execution_count": 5,
     "metadata": {},
     "output_type": "execute_result"
    }
   ],
   "source": [
    "dataset.head()"
   ]
  },
  {
   "cell_type": "markdown",
   "metadata": {},
   "source": [
    "## Load Vectors"
   ]
  },
  {
   "cell_type": "code",
   "execution_count": 18,
   "metadata": {},
   "outputs": [],
   "source": [
    "def load_vectors(file_path):\n",
    "    resultDict = dict()\n",
    "    with open(file_path) as f:\n",
    "        raw_text = f.read()\n",
    "        for raw_line in raw_text.split(\"\\n\")[:-1]:\n",
    "            ind = raw_line.index(\" \")\n",
    "            resultDict[raw_line[:ind]] = numpy.array(raw_line[ind+1:].split(\" \"))\n",
    "        \n",
    "    return resultDict\n",
    "\n",
    "def formatPattern(algo, columns_value, file_name):\n",
    "    return '.\\\\google\\\\{}\\\\subspaces\\\\{}\\\\{}.txt'.format(algo, columns_value, file_name)"
   ]
  },
  {
   "cell_type": "code",
   "execution_count": 19,
   "metadata": {},
   "outputs": [],
   "source": [
    "vectors = {\"heads\": dict(), \"tails\": dict()}\n",
    "\n",
    "for file_name in vectors.keys():\n",
    "    for columns_value in set(dataset['relation'].values):\n",
    "        file_dir = formatPattern('gloveCC', columns_value, file_name)\n",
    "        vectors[file_name][columns_value] = load_vectors(file_dir)\n"
   ]
  },
  {
   "cell_type": "markdown",
   "metadata": {},
   "source": [
    "## Replace values in dataframe"
   ]
  },
  {
   "cell_type": "code",
   "execution_count": 20,
   "metadata": {},
   "outputs": [],
   "source": [
    "def replace_values(dataframe, vectorsDict):\n",
    "    resultdf = dataframe.to_dict()\n",
    "    for indice in range(len(resultdf['relation'])):\n",
    "        head = resultdf['heads'][indice]\n",
    "        tail = resultdf['tails'][indice]\n",
    "        relation = resultdf['relation'][indice]\n",
    "        \n",
    "        try:\n",
    "            resultdf['heads'][indice] = vectorsDict['heads'][relation][head]\n",
    "        except:\n",
    "            print(\"no vector for (relation:%s, head:%s) \" % (relation, head))\n",
    "        \n",
    "        try:\n",
    "            resultdf['tails'][indice] = vectorsDict['tails'][relation][tail]\n",
    "        except:\n",
    "            print(\"no vector for (relation:%s, tail:%s) \" % (relation, tail))\n",
    "        \n",
    "    return resultdf\n"
   ]
  },
  {
   "cell_type": "code",
   "execution_count": 21,
   "metadata": {},
   "outputs": [
    {
     "name": "stdout",
     "output_type": "stream",
     "text": [
      "no vector for (relation:capital-world, head:funafuti) \n",
      "no vector for (relation:capital-world, head:ashgabat) \n",
      "no vector for (relation:capital-world, head:belmopan) \n",
      "no vector for (relation:capital-world, head:thimphu) \n",
      "no vector for (relation:capital-world, head:niamey) \n",
      "no vector for (relation:capital-world, head:nouakchott) \n",
      "no vector for (relation:capital-world, head:nuuk) \n",
      "no vector for (relation:capital-world, head:podgorica) \n",
      "no vector for (relation:capital-world, head:vaduz) \n"
     ]
    }
   ],
   "source": [
    "dataset2 = replace_values(dataset, vectors)"
   ]
  },
  {
   "cell_type": "code",
   "execution_count": 23,
   "metadata": {},
   "outputs": [
    {
     "data": {
      "text/plain": [
       "['tails', 'heads', 'relation']"
      ]
     },
     "execution_count": 23,
     "metadata": {},
     "output_type": "execute_result"
    }
   ],
   "source": [
    "dataset2.keys()"
   ]
  },
  {
   "cell_type": "markdown",
   "metadata": {},
   "source": [
    "## Split Dataset into Xset and Yset"
   ]
  },
  {
   "cell_type": "code",
   "execution_count": null,
   "metadata": {},
   "outputs": [],
   "source": [
    "dataset2pd = pandas.DataFrame({\n",
    "    'tails': dataset2['tails'].values(),\n",
    "    'heads': dataset2['heads'].values(),\n",
    "    'relation': dataset2['relation'].values()\n",
    "})"
   ]
  },
  {
   "cell_type": "code",
   "execution_count": 27,
   "metadata": {},
   "outputs": [
    {
     "data": {
      "text/plain": [
       "(573, 3)"
      ]
     },
     "execution_count": 27,
     "metadata": {},
     "output_type": "execute_result"
    }
   ],
   "source": [
    "dataset2pd.shape"
   ]
  },
  {
   "cell_type": "code",
   "execution_count": 25,
   "metadata": {},
   "outputs": [
    {
     "data": {
      "text/html": [
       "<div>\n",
       "<style scoped>\n",
       "    .dataframe tbody tr th:only-of-type {\n",
       "        vertical-align: middle;\n",
       "    }\n",
       "\n",
       "    .dataframe tbody tr th {\n",
       "        vertical-align: top;\n",
       "    }\n",
       "\n",
       "    .dataframe thead th {\n",
       "        text-align: right;\n",
       "    }\n",
       "</style>\n",
       "<table border=\"1\" class=\"dataframe\">\n",
       "  <thead>\n",
       "    <tr style=\"text-align: right;\">\n",
       "      <th></th>\n",
       "      <th>heads</th>\n",
       "      <th>relation</th>\n",
       "      <th>tails</th>\n",
       "    </tr>\n",
       "  </thead>\n",
       "  <tbody>\n",
       "    <tr>\n",
       "      <th>0</th>\n",
       "      <td>[0.26001, -0.53344, 0.22119, -0.16826, 0.58323...</td>\n",
       "      <td>capital-common-countries</td>\n",
       "      <td>[-0.11981, 0.011386, 0.14965, -0.22285, 0.7112...</td>\n",
       "    </tr>\n",
       "    <tr>\n",
       "      <th>1</th>\n",
       "      <td>[0.14219, 0.01274, -0.5254, -0.60931, 1.263, 0...</td>\n",
       "      <td>capital-common-countries</td>\n",
       "      <td>[-0.47825, 0.15908, -0.27509, -0.6478, 0.76022...</td>\n",
       "    </tr>\n",
       "    <tr>\n",
       "      <th>2</th>\n",
       "      <td>[0.56629, -0.20355, -0.093943, -0.45198, 0.301...</td>\n",
       "      <td>capital-common-countries</td>\n",
       "      <td>[-0.051869, -0.26547, 0.034687, -0.45404, 0.26...</td>\n",
       "    </tr>\n",
       "    <tr>\n",
       "      <th>3</th>\n",
       "      <td>[0.35213, -0.074228, -0.23725, -0.32726, 0.539...</td>\n",
       "      <td>capital-common-countries</td>\n",
       "      <td>[-0.16306, 0.45292, -0.14638, -0.64332, 0.7901...</td>\n",
       "    </tr>\n",
       "    <tr>\n",
       "      <th>4</th>\n",
       "      <td>[0.57031, 0.077812, 0.062999, -0.23876, 0.1227...</td>\n",
       "      <td>capital-common-countries</td>\n",
       "      <td>[0.11316, 0.16675, -0.28034, -0.18965, 0.61872...</td>\n",
       "    </tr>\n",
       "  </tbody>\n",
       "</table>\n",
       "</div>"
      ],
      "text/plain": [
       "                                               heads  \\\n",
       "0  [0.26001, -0.53344, 0.22119, -0.16826, 0.58323...   \n",
       "1  [0.14219, 0.01274, -0.5254, -0.60931, 1.263, 0...   \n",
       "2  [0.56629, -0.20355, -0.093943, -0.45198, 0.301...   \n",
       "3  [0.35213, -0.074228, -0.23725, -0.32726, 0.539...   \n",
       "4  [0.57031, 0.077812, 0.062999, -0.23876, 0.1227...   \n",
       "\n",
       "                   relation                                              tails  \n",
       "0  capital-common-countries  [-0.11981, 0.011386, 0.14965, -0.22285, 0.7112...  \n",
       "1  capital-common-countries  [-0.47825, 0.15908, -0.27509, -0.6478, 0.76022...  \n",
       "2  capital-common-countries  [-0.051869, -0.26547, 0.034687, -0.45404, 0.26...  \n",
       "3  capital-common-countries  [-0.16306, 0.45292, -0.14638, -0.64332, 0.7901...  \n",
       "4  capital-common-countries  [0.11316, 0.16675, -0.28034, -0.18965, 0.61872...  "
      ]
     },
     "execution_count": 25,
     "metadata": {},
     "output_type": "execute_result"
    }
   ],
   "source": [
    "dataset2pd.head()"
   ]
  },
  {
   "cell_type": "code",
   "execution_count": 54,
   "metadata": {},
   "outputs": [],
   "source": [
    "xset = dataset2pd.iloc[:,[0,2]]\n",
    "yset = dataset2pd.iloc[:,[1]]"
   ]
  },
  {
   "cell_type": "code",
   "execution_count": 55,
   "metadata": {},
   "outputs": [
    {
     "data": {
      "text/html": [
       "<div>\n",
       "<style scoped>\n",
       "    .dataframe tbody tr th:only-of-type {\n",
       "        vertical-align: middle;\n",
       "    }\n",
       "\n",
       "    .dataframe tbody tr th {\n",
       "        vertical-align: top;\n",
       "    }\n",
       "\n",
       "    .dataframe thead th {\n",
       "        text-align: right;\n",
       "    }\n",
       "</style>\n",
       "<table border=\"1\" class=\"dataframe\">\n",
       "  <thead>\n",
       "    <tr style=\"text-align: right;\">\n",
       "      <th></th>\n",
       "      <th>heads</th>\n",
       "      <th>tails</th>\n",
       "    </tr>\n",
       "  </thead>\n",
       "  <tbody>\n",
       "    <tr>\n",
       "      <th>0</th>\n",
       "      <td>[0.26001, -0.53344, 0.22119, -0.16826, 0.58323...</td>\n",
       "      <td>[-0.11981, 0.011386, 0.14965, -0.22285, 0.7112...</td>\n",
       "    </tr>\n",
       "    <tr>\n",
       "      <th>1</th>\n",
       "      <td>[0.14219, 0.01274, -0.5254, -0.60931, 1.263, 0...</td>\n",
       "      <td>[-0.47825, 0.15908, -0.27509, -0.6478, 0.76022...</td>\n",
       "    </tr>\n",
       "    <tr>\n",
       "      <th>2</th>\n",
       "      <td>[0.56629, -0.20355, -0.093943, -0.45198, 0.301...</td>\n",
       "      <td>[-0.051869, -0.26547, 0.034687, -0.45404, 0.26...</td>\n",
       "    </tr>\n",
       "    <tr>\n",
       "      <th>3</th>\n",
       "      <td>[0.35213, -0.074228, -0.23725, -0.32726, 0.539...</td>\n",
       "      <td>[-0.16306, 0.45292, -0.14638, -0.64332, 0.7901...</td>\n",
       "    </tr>\n",
       "    <tr>\n",
       "      <th>4</th>\n",
       "      <td>[0.57031, 0.077812, 0.062999, -0.23876, 0.1227...</td>\n",
       "      <td>[0.11316, 0.16675, -0.28034, -0.18965, 0.61872...</td>\n",
       "    </tr>\n",
       "  </tbody>\n",
       "</table>\n",
       "</div>"
      ],
      "text/plain": [
       "                                               heads  \\\n",
       "0  [0.26001, -0.53344, 0.22119, -0.16826, 0.58323...   \n",
       "1  [0.14219, 0.01274, -0.5254, -0.60931, 1.263, 0...   \n",
       "2  [0.56629, -0.20355, -0.093943, -0.45198, 0.301...   \n",
       "3  [0.35213, -0.074228, -0.23725, -0.32726, 0.539...   \n",
       "4  [0.57031, 0.077812, 0.062999, -0.23876, 0.1227...   \n",
       "\n",
       "                                               tails  \n",
       "0  [-0.11981, 0.011386, 0.14965, -0.22285, 0.7112...  \n",
       "1  [-0.47825, 0.15908, -0.27509, -0.6478, 0.76022...  \n",
       "2  [-0.051869, -0.26547, 0.034687, -0.45404, 0.26...  \n",
       "3  [-0.16306, 0.45292, -0.14638, -0.64332, 0.7901...  \n",
       "4  [0.11316, 0.16675, -0.28034, -0.18965, 0.61872...  "
      ]
     },
     "execution_count": 55,
     "metadata": {},
     "output_type": "execute_result"
    }
   ],
   "source": [
    "xset.head()"
   ]
  },
  {
   "cell_type": "code",
   "execution_count": 56,
   "metadata": {},
   "outputs": [
    {
     "data": {
      "text/html": [
       "<div>\n",
       "<style scoped>\n",
       "    .dataframe tbody tr th:only-of-type {\n",
       "        vertical-align: middle;\n",
       "    }\n",
       "\n",
       "    .dataframe tbody tr th {\n",
       "        vertical-align: top;\n",
       "    }\n",
       "\n",
       "    .dataframe thead th {\n",
       "        text-align: right;\n",
       "    }\n",
       "</style>\n",
       "<table border=\"1\" class=\"dataframe\">\n",
       "  <thead>\n",
       "    <tr style=\"text-align: right;\">\n",
       "      <th></th>\n",
       "      <th>relation</th>\n",
       "    </tr>\n",
       "  </thead>\n",
       "  <tbody>\n",
       "    <tr>\n",
       "      <th>0</th>\n",
       "      <td>capital-common-countries</td>\n",
       "    </tr>\n",
       "    <tr>\n",
       "      <th>1</th>\n",
       "      <td>capital-common-countries</td>\n",
       "    </tr>\n",
       "    <tr>\n",
       "      <th>2</th>\n",
       "      <td>capital-common-countries</td>\n",
       "    </tr>\n",
       "    <tr>\n",
       "      <th>3</th>\n",
       "      <td>capital-common-countries</td>\n",
       "    </tr>\n",
       "    <tr>\n",
       "      <th>4</th>\n",
       "      <td>capital-common-countries</td>\n",
       "    </tr>\n",
       "  </tbody>\n",
       "</table>\n",
       "</div>"
      ],
      "text/plain": [
       "                   relation\n",
       "0  capital-common-countries\n",
       "1  capital-common-countries\n",
       "2  capital-common-countries\n",
       "3  capital-common-countries\n",
       "4  capital-common-countries"
      ]
     },
     "execution_count": 56,
     "metadata": {},
     "output_type": "execute_result"
    }
   ],
   "source": [
    "yset.head()"
   ]
  },
  {
   "cell_type": "markdown",
   "metadata": {},
   "source": [
    "## Teen Fold Cross Validation, SVM & PRFS"
   ]
  },
  {
   "cell_type": "code",
   "execution_count": 57,
   "metadata": {},
   "outputs": [],
   "source": [
    "from sklearn.metrics import precision_recall_fscore_support\n",
    "from sklearn.model_selection import train_test_split\n",
    "from sklearn.model_selection import KFold\n",
    "from sklearn import svm\n",
    "\n",
    "def get_f1_from_svm(xtrain, ytrain, xtest, ytest, C):\n",
    "    c = SVC(C=C).fit(xtrain,ytrain)\n",
    "    return precision_recall_fscore_support(ytest, c.predict(xtest))[:,0]\n",
    "\n",
    "def foreach_C(xtrain,ytrain,xtunning,ytunning,C=[0.1,1,10,100]):\n",
    "    f1s = list()\n",
    "    for c in C:\n",
    "        f1s.append(get_f1_from_svm(xtrain,ytrain,xtunning,ytunning, c))\n",
    "    return f1s\n",
    "\n",
    "def foreachKfold(xset,yset,kfold=10):\n",
    "    meanList = list()\n",
    "    kf = KFold(n_splits=10, shuffle=False)\n",
    "    for trainI, testI in kf.split(xset):\n",
    "        xtrain = xset[trainI]\n",
    "        ytrain = yset[trainI]\n",
    "        xtest = xset[testI]\n",
    "        ytest = yset[testI]\n",
    "        meanList.append(foreach_C(xtrain,xtest,ytrain,ytest))\n",
    "        \n",
    "    return meanList\n",
    "\n"
   ]
  },
  {
   "cell_type": "code",
   "execution_count": 58,
   "metadata": {},
   "outputs": [
    {
     "ename": "KeyError",
     "evalue": "'[ 58  59  60  61  62  63  64  65  66  67  68  69  70  71  72  73  74  75\\n  76  77  78  79  80  81  82  83  84  85  86  87  88  89  90  91  92  93\\n  94  95  96  97  98  99 100 101 102 103 104 105 106 107 108 109 110 111\\n 112 113 114 115 116 117 118 119 120 121 122 123 124 125 126 127 128 129\\n 130 131 132 133 134 135 136 137 138 139 140 141 142 143 144 145 146 147\\n 148 149 150 151 152 153 154 155 156 157 158 159 160 161 162 163 164 165\\n 166 167 168 169 170 171 172 173 174 175 176 177 178 179 180 181 182 183\\n 184 185 186 187 188 189 190 191 192 193 194 195 196 197 198 199 200 201\\n 202 203 204 205 206 207 208 209 210 211 212 213 214 215 216 217 218 219\\n 220 221 222 223 224 225 226 227 228 229 230 231 232 233 234 235 236 237\\n 238 239 240 241 242 243 244 245 246 247 248 249 250 251 252 253 254 255\\n 256 257 258 259 260 261 262 263 264 265 266 267 268 269 270 271 272 273\\n 274 275 276 277 278 279 280 281 282 283 284 285 286 287 288 289 290 291\\n 292 293 294 295 296 297 298 299 300 301 302 303 304 305 306 307 308 309\\n 310 311 312 313 314 315 316 317 318 319 320 321 322 323 324 325 326 327\\n 328 329 330 331 332 333 334 335 336 337 338 339 340 341 342 343 344 345\\n 346 347 348 349 350 351 352 353 354 355 356 357 358 359 360 361 362 363\\n 364 365 366 367 368 369 370 371 372 373 374 375 376 377 378 379 380 381\\n 382 383 384 385 386 387 388 389 390 391 392 393 394 395 396 397 398 399\\n 400 401 402 403 404 405 406 407 408 409 410 411 412 413 414 415 416 417\\n 418 419 420 421 422 423 424 425 426 427 428 429 430 431 432 433 434 435\\n 436 437 438 439 440 441 442 443 444 445 446 447 448 449 450 451 452 453\\n 454 455 456 457 458 459 460 461 462 463 464 465 466 467 468 469 470 471\\n 472 473 474 475 476 477 478 479 480 481 482 483 484 485 486 487 488 489\\n 490 491 492 493 494 495 496 497 498 499 500 501 502 503 504 505 506 507\\n 508 509 510 511 512 513 514 515 516 517 518 519 520 521 522 523 524 525\\n 526 527 528 529 530 531 532 533 534 535 536 537 538 539 540 541 542 543\\n 544 545 546 547 548 549 550 551 552 553 554 555 556 557 558 559 560 561\\n 562 563 564 565 566 567 568 569 570 571 572] not in index'",
     "output_type": "error",
     "traceback": [
      "\u001b[1;31m---------------------------------------------------------------------------\u001b[0m",
      "\u001b[1;31mKeyError\u001b[0m                                  Traceback (most recent call last)",
      "\u001b[1;32m<ipython-input-58-3d72990922fb>\u001b[0m in \u001b[0;36m<module>\u001b[1;34m()\u001b[0m\n\u001b[1;32m----> 1\u001b[1;33m \u001b[0mforeachKfold\u001b[0m\u001b[1;33m(\u001b[0m\u001b[0mxset\u001b[0m\u001b[1;33m,\u001b[0m\u001b[0myset\u001b[0m\u001b[1;33m)\u001b[0m\u001b[1;33m\u001b[0m\u001b[0m\n\u001b[0m",
      "\u001b[1;32m<ipython-input-57-b43f05b4033f>\u001b[0m in \u001b[0;36mforeachKfold\u001b[1;34m(xset, yset, kfold)\u001b[0m\n\u001b[0;32m     18\u001b[0m     \u001b[0mkf\u001b[0m \u001b[1;33m=\u001b[0m \u001b[0mKFold\u001b[0m\u001b[1;33m(\u001b[0m\u001b[0mn_splits\u001b[0m\u001b[1;33m=\u001b[0m\u001b[1;36m10\u001b[0m\u001b[1;33m,\u001b[0m \u001b[0mshuffle\u001b[0m\u001b[1;33m=\u001b[0m\u001b[0mFalse\u001b[0m\u001b[1;33m)\u001b[0m\u001b[1;33m\u001b[0m\u001b[0m\n\u001b[0;32m     19\u001b[0m     \u001b[1;32mfor\u001b[0m \u001b[0mtrainI\u001b[0m\u001b[1;33m,\u001b[0m \u001b[0mtestI\u001b[0m \u001b[1;32min\u001b[0m \u001b[0mkf\u001b[0m\u001b[1;33m.\u001b[0m\u001b[0msplit\u001b[0m\u001b[1;33m(\u001b[0m\u001b[0mxset\u001b[0m\u001b[1;33m)\u001b[0m\u001b[1;33m:\u001b[0m\u001b[1;33m\u001b[0m\u001b[0m\n\u001b[1;32m---> 20\u001b[1;33m         \u001b[0mxxtrain\u001b[0m \u001b[1;33m=\u001b[0m \u001b[0mxset\u001b[0m\u001b[1;33m[\u001b[0m\u001b[0mtrainI\u001b[0m\u001b[1;33m]\u001b[0m\u001b[1;33m\u001b[0m\u001b[0m\n\u001b[0m\u001b[0;32m     21\u001b[0m         \u001b[0myytrain\u001b[0m \u001b[1;33m=\u001b[0m \u001b[0myset\u001b[0m\u001b[1;33m[\u001b[0m\u001b[0mtrainI\u001b[0m\u001b[1;33m]\u001b[0m\u001b[1;33m\u001b[0m\u001b[0m\n\u001b[0;32m     22\u001b[0m         \u001b[0mxtrain\u001b[0m\u001b[1;33m,\u001b[0m \u001b[0mxtest\u001b[0m\u001b[1;33m,\u001b[0m \u001b[0mytrain\u001b[0m\u001b[1;33m,\u001b[0m \u001b[0mytest\u001b[0m \u001b[1;33m=\u001b[0m \u001b[0mtrain_test_split\u001b[0m\u001b[1;33m(\u001b[0m\u001b[0mxxtrain\u001b[0m\u001b[1;33m,\u001b[0m \u001b[0myytrain\u001b[0m\u001b[1;33m,\u001b[0m \u001b[0mtest_size\u001b[0m\u001b[1;33m=\u001b[0m\u001b[1;36m0.1\u001b[0m\u001b[1;33m,\u001b[0m \u001b[0mrandom_state\u001b[0m\u001b[1;33m=\u001b[0m\u001b[1;36m0\u001b[0m\u001b[1;33m)\u001b[0m\u001b[1;33m\u001b[0m\u001b[0m\n",
      "\u001b[1;32mE:\\ProgramFiles\\Anaconda\\lib\\site-packages\\pandas\\core\\frame.pyc\u001b[0m in \u001b[0;36m__getitem__\u001b[1;34m(self, key)\u001b[0m\n\u001b[0;32m   2677\u001b[0m         \u001b[1;32mif\u001b[0m \u001b[0misinstance\u001b[0m\u001b[1;33m(\u001b[0m\u001b[0mkey\u001b[0m\u001b[1;33m,\u001b[0m \u001b[1;33m(\u001b[0m\u001b[0mSeries\u001b[0m\u001b[1;33m,\u001b[0m \u001b[0mnp\u001b[0m\u001b[1;33m.\u001b[0m\u001b[0mndarray\u001b[0m\u001b[1;33m,\u001b[0m \u001b[0mIndex\u001b[0m\u001b[1;33m,\u001b[0m \u001b[0mlist\u001b[0m\u001b[1;33m)\u001b[0m\u001b[1;33m)\u001b[0m\u001b[1;33m:\u001b[0m\u001b[1;33m\u001b[0m\u001b[0m\n\u001b[0;32m   2678\u001b[0m             \u001b[1;31m# either boolean or fancy integer index\u001b[0m\u001b[1;33m\u001b[0m\u001b[1;33m\u001b[0m\u001b[0m\n\u001b[1;32m-> 2679\u001b[1;33m             \u001b[1;32mreturn\u001b[0m \u001b[0mself\u001b[0m\u001b[1;33m.\u001b[0m\u001b[0m_getitem_array\u001b[0m\u001b[1;33m(\u001b[0m\u001b[0mkey\u001b[0m\u001b[1;33m)\u001b[0m\u001b[1;33m\u001b[0m\u001b[0m\n\u001b[0m\u001b[0;32m   2680\u001b[0m         \u001b[1;32melif\u001b[0m \u001b[0misinstance\u001b[0m\u001b[1;33m(\u001b[0m\u001b[0mkey\u001b[0m\u001b[1;33m,\u001b[0m \u001b[0mDataFrame\u001b[0m\u001b[1;33m)\u001b[0m\u001b[1;33m:\u001b[0m\u001b[1;33m\u001b[0m\u001b[0m\n\u001b[0;32m   2681\u001b[0m             \u001b[1;32mreturn\u001b[0m \u001b[0mself\u001b[0m\u001b[1;33m.\u001b[0m\u001b[0m_getitem_frame\u001b[0m\u001b[1;33m(\u001b[0m\u001b[0mkey\u001b[0m\u001b[1;33m)\u001b[0m\u001b[1;33m\u001b[0m\u001b[0m\n",
      "\u001b[1;32mE:\\ProgramFiles\\Anaconda\\lib\\site-packages\\pandas\\core\\frame.pyc\u001b[0m in \u001b[0;36m_getitem_array\u001b[1;34m(self, key)\u001b[0m\n\u001b[0;32m   2721\u001b[0m             \u001b[1;32mreturn\u001b[0m \u001b[0mself\u001b[0m\u001b[1;33m.\u001b[0m\u001b[0m_take\u001b[0m\u001b[1;33m(\u001b[0m\u001b[0mindexer\u001b[0m\u001b[1;33m,\u001b[0m \u001b[0maxis\u001b[0m\u001b[1;33m=\u001b[0m\u001b[1;36m0\u001b[0m\u001b[1;33m)\u001b[0m\u001b[1;33m\u001b[0m\u001b[0m\n\u001b[0;32m   2722\u001b[0m         \u001b[1;32melse\u001b[0m\u001b[1;33m:\u001b[0m\u001b[1;33m\u001b[0m\u001b[0m\n\u001b[1;32m-> 2723\u001b[1;33m             \u001b[0mindexer\u001b[0m \u001b[1;33m=\u001b[0m \u001b[0mself\u001b[0m\u001b[1;33m.\u001b[0m\u001b[0mloc\u001b[0m\u001b[1;33m.\u001b[0m\u001b[0m_convert_to_indexer\u001b[0m\u001b[1;33m(\u001b[0m\u001b[0mkey\u001b[0m\u001b[1;33m,\u001b[0m \u001b[0maxis\u001b[0m\u001b[1;33m=\u001b[0m\u001b[1;36m1\u001b[0m\u001b[1;33m)\u001b[0m\u001b[1;33m\u001b[0m\u001b[0m\n\u001b[0m\u001b[0;32m   2724\u001b[0m             \u001b[1;32mreturn\u001b[0m \u001b[0mself\u001b[0m\u001b[1;33m.\u001b[0m\u001b[0m_take\u001b[0m\u001b[1;33m(\u001b[0m\u001b[0mindexer\u001b[0m\u001b[1;33m,\u001b[0m \u001b[0maxis\u001b[0m\u001b[1;33m=\u001b[0m\u001b[1;36m1\u001b[0m\u001b[1;33m)\u001b[0m\u001b[1;33m\u001b[0m\u001b[0m\n\u001b[0;32m   2725\u001b[0m \u001b[1;33m\u001b[0m\u001b[0m\n",
      "\u001b[1;32mE:\\ProgramFiles\\Anaconda\\lib\\site-packages\\pandas\\core\\indexing.pyc\u001b[0m in \u001b[0;36m_convert_to_indexer\u001b[1;34m(self, obj, axis, is_setter)\u001b[0m\n\u001b[0;32m   1325\u001b[0m                 \u001b[1;32mif\u001b[0m \u001b[0mmask\u001b[0m\u001b[1;33m.\u001b[0m\u001b[0many\u001b[0m\u001b[1;33m(\u001b[0m\u001b[1;33m)\u001b[0m\u001b[1;33m:\u001b[0m\u001b[1;33m\u001b[0m\u001b[0m\n\u001b[0;32m   1326\u001b[0m                     raise KeyError('{mask} not in index'\n\u001b[1;32m-> 1327\u001b[1;33m                                    .format(mask=objarr[mask]))\n\u001b[0m\u001b[0;32m   1328\u001b[0m \u001b[1;33m\u001b[0m\u001b[0m\n\u001b[0;32m   1329\u001b[0m                 \u001b[1;32mreturn\u001b[0m \u001b[0mcom\u001b[0m\u001b[1;33m.\u001b[0m\u001b[0m_values_from_object\u001b[0m\u001b[1;33m(\u001b[0m\u001b[0mindexer\u001b[0m\u001b[1;33m)\u001b[0m\u001b[1;33m\u001b[0m\u001b[0m\n",
      "\u001b[1;31mKeyError\u001b[0m: '[ 58  59  60  61  62  63  64  65  66  67  68  69  70  71  72  73  74  75\\n  76  77  78  79  80  81  82  83  84  85  86  87  88  89  90  91  92  93\\n  94  95  96  97  98  99 100 101 102 103 104 105 106 107 108 109 110 111\\n 112 113 114 115 116 117 118 119 120 121 122 123 124 125 126 127 128 129\\n 130 131 132 133 134 135 136 137 138 139 140 141 142 143 144 145 146 147\\n 148 149 150 151 152 153 154 155 156 157 158 159 160 161 162 163 164 165\\n 166 167 168 169 170 171 172 173 174 175 176 177 178 179 180 181 182 183\\n 184 185 186 187 188 189 190 191 192 193 194 195 196 197 198 199 200 201\\n 202 203 204 205 206 207 208 209 210 211 212 213 214 215 216 217 218 219\\n 220 221 222 223 224 225 226 227 228 229 230 231 232 233 234 235 236 237\\n 238 239 240 241 242 243 244 245 246 247 248 249 250 251 252 253 254 255\\n 256 257 258 259 260 261 262 263 264 265 266 267 268 269 270 271 272 273\\n 274 275 276 277 278 279 280 281 282 283 284 285 286 287 288 289 290 291\\n 292 293 294 295 296 297 298 299 300 301 302 303 304 305 306 307 308 309\\n 310 311 312 313 314 315 316 317 318 319 320 321 322 323 324 325 326 327\\n 328 329 330 331 332 333 334 335 336 337 338 339 340 341 342 343 344 345\\n 346 347 348 349 350 351 352 353 354 355 356 357 358 359 360 361 362 363\\n 364 365 366 367 368 369 370 371 372 373 374 375 376 377 378 379 380 381\\n 382 383 384 385 386 387 388 389 390 391 392 393 394 395 396 397 398 399\\n 400 401 402 403 404 405 406 407 408 409 410 411 412 413 414 415 416 417\\n 418 419 420 421 422 423 424 425 426 427 428 429 430 431 432 433 434 435\\n 436 437 438 439 440 441 442 443 444 445 446 447 448 449 450 451 452 453\\n 454 455 456 457 458 459 460 461 462 463 464 465 466 467 468 469 470 471\\n 472 473 474 475 476 477 478 479 480 481 482 483 484 485 486 487 488 489\\n 490 491 492 493 494 495 496 497 498 499 500 501 502 503 504 505 506 507\\n 508 509 510 511 512 513 514 515 516 517 518 519 520 521 522 523 524 525\\n 526 527 528 529 530 531 532 533 534 535 536 537 538 539 540 541 542 543\\n 544 545 546 547 548 549 550 551 552 553 554 555 556 557 558 559 560 561\\n 562 563 564 565 566 567 568 569 570 571 572] not in index'"
     ]
    }
   ],
   "source": [
    "foreachKfold(xset,yset)"
   ]
  },
  {
   "cell_type": "code",
   "execution_count": null,
   "metadata": {},
   "outputs": [],
   "source": []
  }
 ],
 "metadata": {
  "kernelspec": {
   "display_name": "Python 2",
   "language": "python",
   "name": "python2"
  },
  "language_info": {
   "codemirror_mode": {
    "name": "ipython",
    "version": 2
   },
   "file_extension": ".py",
   "mimetype": "text/x-python",
   "name": "python",
   "nbconvert_exporter": "python",
   "pygments_lexer": "ipython2",
   "version": "2.7.15"
  }
 },
 "nbformat": 4,
 "nbformat_minor": 2
}
