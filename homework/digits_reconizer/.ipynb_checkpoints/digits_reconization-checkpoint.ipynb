{
 "cells": [
  {
   "cell_type": "code",
   "execution_count": 36,
   "metadata": {},
   "outputs": [],
   "source": [
    "import numpy\n",
    "import pandas\n",
    "import cv2 as cv\n",
    "import imutils\n",
    "\n",
    "from matplotlib import pyplot as plt\n",
    "from imutils import contours\n",
    "from imutils.perspective import four_point_transform\n",
    "from IPython.display import Image\n",
    "\n",
    "from sklearn.decomposition import PCA\n",
    "from sklearn.datasets import load_digits\n",
    "from sklearn.tree import export_graphviz\n",
    "from sklearn.tree import DecisionTreeClassifier\n",
    "from sklearn.cluster import KMeans\n",
    "from sklearn.svm import SVC\n",
    "from sklearn.metrics import classification_report"
   ]
  },
  {
   "cell_type": "code",
   "execution_count": 2,
   "metadata": {},
   "outputs": [],
   "source": [
    "loadImage = lambda path : cv.imread(path)\n",
    "resize = lambda image : imutils.resize(image, height=500)\n",
    "grayis = lambda image : cv.cvtColor(image, cv.COLOR_BGR2GRAY)\n",
    "blurred = lambda gray : cv.GaussianBlur(gray, (5, 5), 0)\n",
    "edgedf = lambda blurred : cv.Canny(blurred, 50, 200, 255)"
   ]
  },
  {
   "cell_type": "code",
   "execution_count": 3,
   "metadata": {},
   "outputs": [],
   "source": [
    "def affimg(array, figsize=(5,5)):\n",
    "    fig , axes = plt.subplots(1,1,figsize=figsize, subplot_kw={'xticks':(), 'yticks': ()})\n",
    "    axes.imshow(array)\n",
    "    \n",
    "def affimgs(array, nl, nc, figsize):\n",
    "    fig , axes = plt.subplots(nl,nc,figsize=figsize, subplot_kw={'xticks':(), 'yticks': ()})\n",
    "    for ax, img in zip(axes.ravel(), array):\n",
    "        ax.imshow(img)\n",
    "\n",
    "def preprocessImage(path):\n",
    "    img = loadImage(path)\n",
    "    gray = grayis(resize(img))\n",
    "    return (blurred(gray)), img"
   ]
  },
  {
   "cell_type": "code",
   "execution_count": 4,
   "metadata": {},
   "outputs": [
    {
     "data": {
      "image/png": "[encoded data removed]",
      "text/plain": [
       "<Figure size 1080x1080 with 2 Axes>"
      ]
     },
     "metadata": {},
     "output_type": "display_data"
    }
   ],
   "source": [
    "edged, image = preprocessImage(\"digits.png\")\n",
    "affimgs([image,edged], nl=1, nc=2, figsize=(15,15))"
   ]
  },
  {
   "cell_type": "markdown",
   "metadata": {},
   "source": [
    "## threshold the warped image, then apply a series of morphological\n",
    "## operations to cleanup the thresholded image"
   ]
  },
  {
   "cell_type": "code",
   "execution_count": 5,
   "metadata": {},
   "outputs": [],
   "source": [
    "def totresh(edged):\n",
    "    thresh = cv.threshold(edged, 0, 255, cv.THRESH_BINARY_INV | cv.THRESH_OTSU)[1]\n",
    "    kernel = cv.getStructuringElement(cv.MORPH_ELLIPSE, (1, 5))\n",
    "    return cv.morphologyEx(thresh, cv.MORPH_OPEN, kernel)"
   ]
  },
  {
   "cell_type": "code",
   "execution_count": 6,
   "metadata": {},
   "outputs": [
    {
     "data": {
      "image/png": "[encoded data removed]",
      "text/plain": [
       "<Figure size 720x720 with 1 Axes>"
      ]
     },
     "metadata": {},
     "output_type": "display_data"
    }
   ],
   "source": [
    "thresh = totresh(edged)\n",
    "affimg(thresh, figsize=(10,10))"
   ]
  },
  {
   "cell_type": "markdown",
   "metadata": {},
   "source": [
    "## find contours in the thresholded image, then initialize the digit contours lists"
   ]
  },
  {
   "cell_type": "code",
   "execution_count": 7,
   "metadata": {},
   "outputs": [],
   "source": [
    "def findContours(thresh):\n",
    "    cnts = cv.findContours(thresh.copy(), cv.RETR_EXTERNAL, cv.CHAIN_APPROX_SIMPLE)\n",
    "    cnts = imutils.grab_contours(cnts)\n",
    "    digitCnts = []\n",
    " \n",
    "    for c in cnts:\n",
    "        (x, y, w, h) = cv.boundingRect(c)\n",
    "        digitCnts.append(c)\n",
    "        cv.rectangle(thresh,(x,y),(x+w,y+h),(255,0,255),2)\n",
    "    return thresh, digitCnts"
   ]
  },
  {
   "cell_type": "code",
   "execution_count": 8,
   "metadata": {},
   "outputs": [
    {
     "data": {
      "image/png": "[encoded data removed]",
      "text/plain": [
       "<Figure size 2880x2880 with 1 Axes>"
      ]
     },
     "metadata": {},
     "output_type": "display_data"
    }
   ],
   "source": [
    "thresh,digitCnts = findContours(thresh)\n",
    "affimg(thresh, figsize=(40,40))"
   ]
  },
  {
   "cell_type": "markdown",
   "metadata": {},
   "source": [
    "#### sort the contours from left-to-right, then initialize the actual digits themselves and loop over each of the digits"
   ]
  },
  {
   "cell_type": "code",
   "execution_count": 9,
   "metadata": {},
   "outputs": [],
   "source": [
    "def cutDigits(digitCnts, thresh):\n",
    "    digits_roi = []\n",
    "    digitCnts = contours.sort_contours(digitCnts, method=\"left-to-right\")[0]\n",
    "    for c in digitCnts:\n",
    "        (x, y, w, h) = cv.boundingRect(c)\n",
    "        digits_roi.append(thresh[y:y + h, x:x + w])\n",
    "    return digits_roi"
   ]
  },
  {
   "cell_type": "code",
   "execution_count": 10,
   "metadata": {},
   "outputs": [
    {
     "data": {
      "image/png": "[encoded data removed]",
      "text/plain": [
       "<Figure size 1440x1440 with 10 Axes>"
      ]
     },
     "metadata": {},
     "output_type": "display_data"
    }
   ],
   "source": [
    "digits_roi = cutDigits(digitCnts, thresh)\n",
    "affimgs(digits_roi, nl=1, nc=len(digits_roi), figsize=(20,20))"
   ]
  },
  {
   "cell_type": "markdown",
   "metadata": {},
   "source": [
    "## resize images to match with Machine Learning pattern"
   ]
  },
  {
   "cell_type": "code",
   "execution_count": 11,
   "metadata": {},
   "outputs": [],
   "source": [
    "def resize_digits_roi(digits_roi):\n",
    "    for i in range(len(digits_roi)):\n",
    "        digits_roi[i] = cv.resize(digits_roi[i], (8,8))\n",
    "    return digits_roi"
   ]
  },
  {
   "cell_type": "code",
   "execution_count": 12,
   "metadata": {},
   "outputs": [
    {
     "data": {
      "image/png": "[encoded data removed]",
      "text/plain": [
       "<Figure size 1440x1440 with 10 Axes>"
      ]
     },
     "metadata": {},
     "output_type": "display_data"
    }
   ],
   "source": [
    "digits_roi = resize_digits_roi(digits_roi)\n",
    "affimgs(digits_roi, nl=1, nc=len(digits_roi), figsize=(20,20))"
   ]
  },
  {
   "cell_type": "markdown",
   "metadata": {},
   "source": [
    "## ravel the digits_roi data to match with ML requirements"
   ]
  },
  {
   "cell_type": "code",
   "execution_count": 13,
   "metadata": {},
   "outputs": [],
   "source": [
    "def reval_data(digits_roi):\n",
    "    for i in range(len(digits_roi)):\n",
    "        digits_roi[i] = digits_roi[i].ravel()\n",
    "    return digits_roi\n",
    "digits_roi = reval_data(digits_roi)"
   ]
  },
  {
   "cell_type": "markdown",
   "metadata": {},
   "source": [
    "## import the digits reconization data"
   ]
  },
  {
   "cell_type": "code",
   "execution_count": 14,
   "metadata": {},
   "outputs": [
    {
     "data": {
      "image/png": "[encoded data removed]",
      "text/plain": [
       "<Figure size 1440x1440 with 60 Axes>"
      ]
     },
     "metadata": {},
     "output_type": "display_data"
    }
   ],
   "source": [
    "dataset = load_digits()\n",
    "affimgs(dataset.images, nc=60, nl=1, figsize=(20,20))"
   ]
  },
  {
   "cell_type": "markdown",
   "metadata": {},
   "source": [
    "## get the 2 colors version of the dataset"
   ]
  },
  {
   "cell_type": "code",
   "execution_count": 15,
   "metadata": {},
   "outputs": [
    {
     "data": {
      "image/png": "[encoded data removed]",
      "text/plain": [
       "<Figure size 576x576 with 2 Axes>"
      ]
     },
     "metadata": {},
     "output_type": "display_data"
    }
   ],
   "source": [
    "tograyis = numpy.vectorize(lambda x : 0 if x == 0 else 255) ## change the condition for more precision\n",
    "dataset_roi = [tograyis(roi) for roi in dataset.data]\n",
    "affimgs([dataset.images[0], dataset_roi[0].reshape(8,8)], nc=2, nl=1, figsize=(8,8))"
   ]
  },
  {
   "cell_type": "markdown",
   "metadata": {},
   "source": [
    "## start some machine learing stuff"
   ]
  },
  {
   "cell_type": "markdown",
   "metadata": {},
   "source": [
    "#### using SVC "
   ]
  },
  {
   "cell_type": "code",
   "execution_count": 39,
   "metadata": {},
   "outputs": [
    {
     "name": "stdout",
     "output_type": "stream",
     "text": [
      "from input y-true  : [0, 9, 4, 8, 6, 3, 1, 5, 2, 7]\n",
      "pasring predictions: [3, 3, 3, 3, 3, 3, 3, 3, 3, 3]\n",
      "             precision    recall  f1-score   support\n",
      "\n",
      "          0       0.00      0.00      0.00         1\n",
      "          1       0.00      0.00      0.00         1\n",
      "          2       0.00      0.00      0.00         1\n",
      "          3       0.10      1.00      0.18         1\n",
      "          4       0.00      0.00      0.00         1\n",
      "          5       0.00      0.00      0.00         1\n",
      "          6       0.00      0.00      0.00         1\n",
      "          7       0.00      0.00      0.00         1\n",
      "          8       0.00      0.00      0.00         1\n",
      "          9       0.00      0.00      0.00         1\n",
      "\n",
      "avg / total       0.01      0.10      0.02        10\n",
      "\n"
     ]
    }
   ],
   "source": [
    "sv = SVC(C=10, gamma=0.1).fit(dataset_roi, dataset.target)\n",
    "sv_predicted = sv.predict(digits_roi)\n",
    "print(\"from input y-true  : {}\".format([0,9,4,8,6,3,1,5,2,7]))\n",
    "print(\"pasring predictions: {}\".format(list(sv_predicted)))\n",
    "print(classification_report([0,9,4,8,6,3,1,5,2,7], sv_predicted))"
   ]
  },
  {
   "cell_type": "markdown",
   "metadata": {},
   "source": [
    "#### using KMeans clusturing"
   ]
  },
  {
   "cell_type": "code",
   "execution_count": 40,
   "metadata": {},
   "outputs": [
    {
     "name": "stdout",
     "output_type": "stream",
     "text": [
      "from input y-true  : [0, 9, 4, 8, 6, 3, 1, 5, 2, 7]\n",
      "pasring predictions: [4, 0, 7, 0, 0, 8, 8, 0, 8, 6]\n",
      "             precision    recall  f1-score   support\n",
      "\n",
      "          0       0.00      0.00      0.00         1\n",
      "          1       0.00      0.00      0.00         1\n",
      "          2       0.00      0.00      0.00         1\n",
      "          3       0.00      0.00      0.00         1\n",
      "          4       0.00      0.00      0.00         1\n",
      "          5       0.00      0.00      0.00         1\n",
      "          6       0.00      0.00      0.00         1\n",
      "          7       0.00      0.00      0.00         1\n",
      "          8       0.00      0.00      0.00         1\n",
      "          9       0.00      0.00      0.00         1\n",
      "\n",
      "avg / total       0.00      0.00      0.00        10\n",
      "\n"
     ]
    }
   ],
   "source": [
    "kn = KMeans(n_clusters=10).fit(dataset_roi, dataset.target)\n",
    "kn_predicted = kn.predict(digits_roi)\n",
    "print(\"from input y-true  : {}\".format([0,9,4,8,6,3,1,5,2,7]))\n",
    "print(\"pasring predictions: {}\".format(list(kn_predicted)))\n",
    "print(classification_report([0,9,4,8,6,3,1,5,2,7], kn_predicted))"
   ]
  },
  {
   "cell_type": "markdown",
   "metadata": {},
   "source": [
    "#### using Decision tree classifier "
   ]
  },
  {
   "cell_type": "code",
   "execution_count": 17,
   "metadata": {},
   "outputs": [
    {
     "name": "stdout",
     "output_type": "stream",
     "text": [
      "from input y-true  : [0, 9, 4, 8, 6, 3, 1, 5, 2, 7]\n",
      "pasring predictions: [0, 9, 9, 3, 5, 3, 2, 2, 3, 7]\n",
      "             precision    recall  f1-score   support\n",
      "\n",
      "          0       1.00      1.00      1.00         1\n",
      "          1       0.00      0.00      0.00         1\n",
      "          2       0.00      0.00      0.00         1\n",
      "          3       0.33      1.00      0.50         1\n",
      "          4       0.00      0.00      0.00         1\n",
      "          5       0.00      0.00      0.00         1\n",
      "          6       0.00      0.00      0.00         1\n",
      "          7       1.00      1.00      1.00         1\n",
      "          8       0.00      0.00      0.00         1\n",
      "          9       0.50      1.00      0.67         1\n",
      "\n",
      "avg / total       0.28      0.40      0.32        10\n",
      "\n"
     ]
    }
   ],
   "source": [
    "## GLOBAL TREE\n",
    "dataset_y = numpy.copy(dataset.target)\n",
    "DECISION_TREE_CLASSIFIER = DecisionTreeClassifier().fit(dataset_roi, dataset_y)\n",
    "dc_predicted = DECISION_TREE_CLASSIFIER.predict(digits_roi)\n",
    "print(\"from input y-true  : {}\".format([0,9,4,8,6,3,1,5,2,7]))\n",
    "print(\"pasring predictions: {}\".format(list(dc_predicted)))\n",
    "print(classification_report([0,9,4,8,6,3,1,5,2,7], dc_predicted))"
   ]
  },
  {
   "cell_type": "markdown",
   "metadata": {},
   "source": [
    "## retrieve good results"
   ]
  },
  {
   "cell_type": "code",
   "execution_count": 18,
   "metadata": {},
   "outputs": [],
   "source": [
    "def retrieve_good(roi, y_true,y_pred):\n",
    "    roi_res, true_res = [], []\n",
    "    for i in range(len(y_pred)):\n",
    "        if y_true[i] == y_pred[i]:\n",
    "            roi_res.append(roi[i])\n",
    "            true_res.append(y_true[i])\n",
    "    return roi_res, true_res"
   ]
  },
  {
   "cell_type": "code",
   "execution_count": 19,
   "metadata": {},
   "outputs": [
    {
     "name": "stdout",
     "output_type": "stream",
     "text": [
      "[0, 9, 3, 7]\n"
     ]
    }
   ],
   "source": [
    "roi_good, true_good = retrieve_good(digits_roi,[0,9,4,8,6,3,1,5,2,7],dc_predicted)\n",
    "print(true_good)"
   ]
  },
  {
   "cell_type": "markdown",
   "metadata": {},
   "source": [
    "## the previous results to learn trues predictions"
   ]
  },
  {
   "cell_type": "code",
   "execution_count": 20,
   "metadata": {},
   "outputs": [],
   "source": [
    "def learn_more(old_X, old_y, roi_good, true_good):\n",
    "    old_X.extend(roi_good)\n",
    "    tmpy = list(old_y)\n",
    "    tmpy.extend(true_good)\n",
    "    print(\"Model have learned %d new datas\" % len(roi_good))\n",
    "    return DecisionTreeClassifier().fit(old_X, tmpy), old_X, tmpy"
   ]
  },
  {
   "cell_type": "markdown",
   "metadata": {},
   "source": [
    "## with others data digits"
   ]
  },
  {
   "cell_type": "code",
   "execution_count": 21,
   "metadata": {},
   "outputs": [],
   "source": [
    "## some automations\n",
    "def parse(file_path, y_true, draw_digits=True):\n",
    "    edged, image = preprocessImage(file_path)\n",
    "    \n",
    "    if draw_digits: \n",
    "        affimgs([image,edged], nl=1, nc=2, figsize=(15,15))\n",
    "        \n",
    "    thresh = totresh(edged)\n",
    "    thresh,digitCnts = findContours(thresh)\n",
    "    \n",
    "    if draw_digits:\n",
    "        affimg(thresh, figsize=(40,40))\n",
    "        \n",
    "    digits_roi = cutDigits(digitCnts, thresh)\n",
    "    digits_roi = resize_digits_roi(digits_roi)\n",
    "    \n",
    "    if draw_digits:\n",
    "        affimgs(digits_roi, nl=1, nc=len(digits_roi), figsize=(20,20))\n",
    "        \n",
    "    digits_roi = reval_data(digits_roi)\n",
    "    return digits_roi\n",
    "\n",
    "def report(y_pred, y_true, print_report=True, print_result=True):\n",
    "    if print_result:\n",
    "        print(\"from input y-true  : {}\".format(y_true))\n",
    "        print(\"pasring predictions: {}\".format(list(y_pred)))\n",
    "    if print_report:\n",
    "        print(classification_report(y_true, y_pred))\n",
    "    \n",
    "def retreave_and_learn(x_test, y_true, y_test):\n",
    "    x_pred, y_pred = retrieve_good(x_test, y_true, y_test)\n",
    "    return learn_more(x_pred, y_pred)\n",
    "    \n",
    "def parse_report_retrieve(file_path, y_true, learning_function):\n",
    "    digits_roi = parse(file_path, y_true)\n",
    "    y_pred = learning_function.predict(digits_roi)\n",
    "    report(y_pred, y_true)\n",
    "    gx, gy = retrieve_good(digits_roi, y_true, y_pred)\n",
    "    print(\"Learning algorithme has predicted {} goods results: {}\".format(len(gy), gy))\n",
    "    \n",
    "def parse_retrieve(file_path, y_true, learning_function, draw_digits=False, print_report=False, print_result=False):\n",
    "    digits_roi = parse(file_path, y_true, draw_digits=draw_digits)\n",
    "    y_pred = learning_function.predict(digits_roi)\n",
    "    report(y_pred, y_true, print_report=print_report, print_result=print_result)     \n",
    "    gx, gy = retrieve_good(digits_roi, y_true, y_pred)\n",
    "    print(\"Learning algorithme has predicted {} goods results: {}\".format(len(gy), gy))"
   ]
  },
  {
   "cell_type": "code",
   "execution_count": 22,
   "metadata": {},
   "outputs": [
    {
     "name": "stdout",
     "output_type": "stream",
     "text": [
      "from input y-true  : [9, 7, 4, 3, 0, 0, 8, 5, 6, 3, 1, 2]\n",
      "pasring predictions: [8, 7, 4, 5, 4, 4, 4, 5, 4, 5, 2, 5]\n",
      "             precision    recall  f1-score   support\n",
      "\n",
      "          0       0.00      0.00      0.00         2\n",
      "          1       0.00      0.00      0.00         1\n",
      "          2       0.00      0.00      0.00         1\n",
      "          3       0.00      0.00      0.00         2\n",
      "          4       0.20      1.00      0.33         1\n",
      "          5       0.25      1.00      0.40         1\n",
      "          6       0.00      0.00      0.00         1\n",
      "          7       1.00      1.00      1.00         1\n",
      "          8       0.00      0.00      0.00         1\n",
      "          9       0.00      0.00      0.00         1\n",
      "\n",
      "avg / total       0.12      0.25      0.14        12\n",
      "\n",
      "Learning algorithme has predicted 3 goods results: [7, 4, 5]\n"
     ]
    },
    {
     "data": {
      "image/png": "[encoded data removed]",
      "text/plain": [
       "<Figure size 1080x1080 with 2 Axes>"
      ]
     },
     "metadata": {},
     "output_type": "display_data"
    },
    {
     "data": {
      "image/png": "[encoded data removed]",
      "text/plain": [
       "<Figure size 2880x2880 with 1 Axes>"
      ]
     },
     "metadata": {},
     "output_type": "display_data"
    },
    {
     "data": {
      "image/png": "[encoded data removed]",
      "text/plain": [
       "<Figure size 1440x1440 with 12 Axes>"
      ]
     },
     "metadata": {},
     "output_type": "display_data"
    }
   ],
   "source": [
    "parse_report_retrieve(\"digit_arial_tape.png\", [9,7,4,3,0,0,8,5,6,3,1,2], DECISION_TREE_CLASSIFIER)"
   ]
  },
  {
   "cell_type": "code",
   "execution_count": 23,
   "metadata": {},
   "outputs": [
    {
     "name": "stdout",
     "output_type": "stream",
     "text": [
      "             precision    recall  f1-score   support\n",
      "\n",
      "          0       0.00      0.00      0.00         1\n",
      "          2       0.00      0.00      0.00         1\n",
      "          3       0.00      0.00      0.00         1\n",
      "          4       0.00      0.00      0.00         1\n",
      "          5       0.00      0.00      0.00         0\n",
      "          6       0.00      0.00      0.00         0\n",
      "          7       1.00      1.00      1.00         1\n",
      "          8       0.00      0.00      0.00         0\n",
      "          9       0.00      0.00      0.00         1\n",
      "\n",
      "avg / total       0.17      0.17      0.17         6\n",
      "\n",
      "Learning algorithme has predicted 1 goods results: [7]\n"
     ]
    },
    {
     "name": "stderr",
     "output_type": "stream",
     "text": [
      "E:\\ProgramFiles\\Anaconda\\lib\\site-packages\\sklearn\\metrics\\classification.py:1137: UndefinedMetricWarning: Recall and F-score are ill-defined and being set to 0.0 in labels with no true samples.\n",
      "  'recall', 'true', average, warn_for)\n"
     ]
    }
   ],
   "source": [
    "parse_retrieve(\"digit_seoge_tape.png\", [9,4,0,2,7,3], DECISION_TREE_CLASSIFIER, print_report=True)"
   ]
  },
  {
   "cell_type": "markdown",
   "metadata": {},
   "source": [
    "## Try with different criterion for DecisionTreeClassifier algorithm"
   ]
  },
  {
   "cell_type": "markdown",
   "metadata": {},
   "source": [
    "#### by default criterion=\"gini\"\n",
    "#### try with criterion=\"entropy\""
   ]
  },
  {
   "cell_type": "code",
   "execution_count": 24,
   "metadata": {},
   "outputs": [],
   "source": [
    "DECISION_TREE_CLASSIFIER_BIS = DecisionTreeClassifier(criterion=\"entropy\").fit(dataset_roi, dataset_y)"
   ]
  },
  {
   "cell_type": "code",
   "execution_count": 25,
   "metadata": {},
   "outputs": [
    {
     "name": "stdout",
     "output_type": "stream",
     "text": [
      "Learning algorithme has predicted 4 goods results: [4, 0, 0, 5]\n"
     ]
    }
   ],
   "source": [
    "parse_retrieve(\"digit_arial_tape.png\", [9,7,4,3,0,0,8,5,6,3,1,2], DECISION_TREE_CLASSIFIER_BIS)"
   ]
  },
  {
   "cell_type": "code",
   "execution_count": 26,
   "metadata": {},
   "outputs": [
    {
     "name": "stdout",
     "output_type": "stream",
     "text": [
      "Learning algorithme has predicted 0 goods results: []\n"
     ]
    }
   ],
   "source": [
    "parse_retrieve(\"digit_seoge_tape.png\", [9,4,0,2,7,3], DECISION_TREE_CLASSIFIER_BIS)"
   ]
  },
  {
   "cell_type": "code",
   "execution_count": 27,
   "metadata": {},
   "outputs": [
    {
     "name": "stdout",
     "output_type": "stream",
     "text": [
      "Learning algorithme has predicted 4 goods results: [0, 9, 8, 2]\n"
     ]
    }
   ],
   "source": [
    "parse_retrieve(\"digits.png\", [0,9,4,8,6,3,1,5,2,7], DECISION_TREE_CLASSIFIER_BIS)"
   ]
  },
  {
   "cell_type": "markdown",
   "metadata": {},
   "source": [
    "## Try some PCA optimisations to lower the size of the Xdata"
   ]
  },
  {
   "cell_type": "code",
   "execution_count": 49,
   "metadata": {},
   "outputs": [],
   "source": [
    "pca = PCA(n_components=64).fit(dataset_roi)"
   ]
  },
  {
   "cell_type": "code",
   "execution_count": 50,
   "metadata": {},
   "outputs": [
    {
     "data": {
      "text/plain": [
       "array([6.72271709e+04, 6.16207273e+04, 5.27988741e+04, 3.71263962e+04,\n",
       "       2.91783707e+04, 2.16185983e+04, 1.80444294e+04, 1.69683869e+04,\n",
       "       1.53842523e+04, 1.38338235e+04, 1.23206968e+04, 1.15122941e+04,\n",
       "       1.04380654e+04, 9.56818443e+03, 7.73568063e+03, 7.64339156e+03,\n",
       "       7.12215958e+03, 6.62499170e+03, 6.47261629e+03, 6.24713841e+03,\n",
       "       6.00855814e+03, 5.13705801e+03, 5.07172968e+03, 4.73665927e+03,\n",
       "       4.66492388e+03, 4.56304595e+03, 4.40324654e+03, 4.22387661e+03,\n",
       "       4.04314782e+03, 3.78688389e+03, 3.71554827e+03, 3.63871189e+03,\n",
       "       3.60054015e+03, 3.43487360e+03, 3.31100095e+03, 3.19391431e+03,\n",
       "       3.03901870e+03, 2.82184949e+03, 2.65008335e+03, 2.46007948e+03,\n",
       "       2.40127638e+03, 2.30015571e+03, 2.22677562e+03, 2.20973995e+03,\n",
       "       1.95551378e+03, 1.79783502e+03, 1.53414386e+03, 1.07775369e+03,\n",
       "       8.83482147e+02, 8.15477244e+02, 5.56958814e+02, 5.40142273e+02,\n",
       "       4.10250967e+02, 3.51385032e+02, 3.12825508e+02, 2.77414639e+02,\n",
       "       1.35980779e+02, 1.22942162e+02, 1.02548828e+02, 5.06841066e+01,\n",
       "       2.23062749e+01, 1.29804184e-27, 4.30944555e-28, 4.22087319e-28])"
      ]
     },
     "execution_count": 50,
     "metadata": {},
     "output_type": "execute_result"
    }
   ],
   "source": [
    "pca.explained_variance_"
   ]
  },
  {
   "cell_type": "markdown",
   "metadata": {},
   "source": [
    "### Try some predictions using the 5th first columns"
   ]
  },
  {
   "cell_type": "code",
   "execution_count": null,
   "metadata": {},
   "outputs": [],
   "source": []
  }
 ],
 "metadata": {
  "kernelspec": {
   "display_name": "Python 2",
   "language": "python",
   "name": "python2"
  },
  "language_info": {
   "codemirror_mode": {
    "name": "ipython",
    "version": 2
   },
   "file_extension": ".py",
   "mimetype": "text/x-python",
   "name": "python",
   "nbconvert_exporter": "python",
   "pygments_lexer": "ipython2",
   "version": "2.7.15"
  }
 },
 "nbformat": 4,
 "nbformat_minor": 2
}
