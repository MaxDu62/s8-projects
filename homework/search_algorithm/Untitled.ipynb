{
 "cells": [
  {
   "cell_type": "code",
   "execution_count": 1,
   "metadata": {},
   "outputs": [],
   "source": [
    "import numpy\n",
    "import pandas"
   ]
  },
  {
   "cell_type": "markdown",
   "metadata": {},
   "source": [
    "## Read data"
   ]
  },
  {
   "cell_type": "code",
   "execution_count": 2,
   "metadata": {},
   "outputs": [],
   "source": [
    "FILE_PATH = \"data-00007-of-00010.gob\"\n",
    "SHORTER_FILE = \"shorter.gob\"\n",
    "\n",
    "## reduce data by ignore useless lines\n",
    "output = open(SHORTER_FILE, \"w\")\n",
    "with open(FILE_PATH, \"r\") as inpu:\n",
    "    for line in inpu:\n",
    "        if line[0] == 'U':\n",
    "            output.write(line)\n",
    "        elif line[0] == '\\n':\n",
    "            output.write(\"\\n\")\n",
    "        elif line[0] == 'M':\n",
    "            items = line.split(\"\\t\")\n",
    "            output.write(items[3])\n",
    "        \n",
    "output.close()\n",
    "    "
   ]
  },
  {
   "cell_type": "code",
   "execution_count": 3,
   "metadata": {},
   "outputs": [],
   "source": [
    "data = dict()\n",
    "\n",
    "with open(SHORTER_FILE, \"r\") as inpu:\n",
    "    for line in inpu:\n",
    "        if line[0] == 'U':\n",
    "            url = line.split(\"\\t\")[1][:-1]\n",
    "        elif line[0] != \"\\n\":\n",
    "            line = line[:-1]\n",
    "            try:\n",
    "                data[line].append(url)\n",
    "            except:\n",
    "                data[line] = [url]\n"
   ]
  },
  {
   "cell_type": "code",
   "execution_count": 4,
   "metadata": {},
   "outputs": [
    {
     "data": {
      "text/plain": [
       "['http://allrestonrealestate.com/reston-buying-guide/',\n",
       " 'http://www.spokeo.com/Margo+Simon']"
      ]
     },
     "execution_count": 4,
     "metadata": {},
     "output_type": "execute_result"
    }
   ],
   "source": [
    "data[data.keys()[0]]"
   ]
  },
  {
   "cell_type": "code",
   "execution_count": 5,
   "metadata": {},
   "outputs": [],
   "source": [
    "data_as_lenght = dict()\n",
    "for key, values in data.items():\n",
    "    data_as_lenght[key] = len(values)"
   ]
  },
  {
   "cell_type": "code",
   "execution_count": 6,
   "metadata": {},
   "outputs": [
    {
     "data": {
      "text/plain": [
       "2"
      ]
     },
     "execution_count": 6,
     "metadata": {},
     "output_type": "execute_result"
    }
   ],
   "source": [
    "data_as_lenght[data.keys()[0]]"
   ]
  },
  {
   "cell_type": "code",
   "execution_count": null,
   "metadata": {},
   "outputs": [],
   "source": []
  }
 ],
 "metadata": {
  "kernelspec": {
   "display_name": "Python 2",
   "language": "python",
   "name": "python2"
  },
  "language_info": {
   "codemirror_mode": {
    "name": "ipython",
    "version": 2
   },
   "file_extension": ".py",
   "mimetype": "text/x-python",
   "name": "python",
   "nbconvert_exporter": "python",
   "pygments_lexer": "ipython2",
   "version": "2.7.15"
  }
 },
 "nbformat": 4,
 "nbformat_minor": 2
}
